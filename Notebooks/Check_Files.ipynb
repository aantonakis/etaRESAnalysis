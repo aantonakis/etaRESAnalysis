{
 "cells": [
  {
   "cell_type": "code",
   "execution_count": null,
   "id": "cbb88c2c-4cb0-4063-a6be-aea59e57aa00",
   "metadata": {},
   "outputs": [],
   "source": [
    "import ROOT\n",
    "import numpy as np\n",
    "import os\n",
    "import matplotlib.pyplot as plt\n",
    "from mpl_toolkits.mplot3d import Axes3D\n",
    "from mpl_toolkits.mplot3d.art3d import Poly3DCollection\n",
    "import sys\n",
    "import multiprocessing as mp\n",
    "import uproot\n",
    "import pandas as pd\n",
    "import pickle\n",
    "import h5py\n",
    "import gzip\n",
    "import math\n",
    "import timeit\n",
    "\n",
    "\n",
    "#infile = \"../NTuples/test_truth.root\"\n",
    "#infile = \"../NTuples/full_tpceta_sample.root\"\n",
    "\n",
    "# New Stuff\n",
    "#infile = \"../NTuples/eta_production_ntuple_test_22Nov2024_take2.root\"\n",
    "infile = \"../NTuples/eta_production_ntuple_test_nodirt.root\"\n",
    "#infile = \"../NTuples/production_ntuples_v2.root\""
   ]
  },
  {
   "cell_type": "code",
   "execution_count": null,
   "id": "d6cc357d-a7be-4be8-be84-d3e59c7222f5",
   "metadata": {},
   "outputs": [],
   "source": [
    "inFile = uproot.open(infile)\n",
    "\n",
    "inFileROOT = ROOT.TFile.Open(infile, \"READ\")\n",
    "#h_tot_pot = inFileROOT.Get(\"TotalPOT\")\n",
    "h_tot_pot = inFileROOT.Get(\"TOTPOT_Clone\")\n",
    "TOT_POT = h_tot_pot.GetBinContent(1)\n",
    "inFileROOT.Close()\n",
    "TOT_POT = f\"{TOT_POT:.2e}\"\n",
    "print(\"Total POT\", TOT_POT)\n",
    "\n",
    "#pot = h_tot_pot.\n",
    "#print(\"Total POT\", pot)\n",
    "\n",
    "#slc_tree = inFile[\"slc_truth_tree\"]\n",
    "slc_tree = inFile[\"slc_truth_tree\"]\n",
    "slc_reco_tree = inFile[\"slc_tree\"]\n",
    "\n",
    "slc_df = slc_tree.arrays(slc_tree.keys(), library=\"pd\")\n",
    "slc_reco_df = slc_reco_tree.arrays(slc_reco_tree.keys(), library=\"pd\")\n",
    "\n",
    "\n",
    "slc_df[:100]"
   ]
  },
  {
   "cell_type": "code",
   "execution_count": null,
   "id": "0052ba45-9426-4940-a790-70cabf2043e5",
   "metadata": {},
   "outputs": [],
   "source": [
    "runs = list(set(list(slc_df['run'].values)))\n",
    "sruns = list(set(list(slc_df['subrun'].values)))\n",
    "evts = list(set(list(slc_df['evt'].values)))\n",
    "\n",
    "print(\"N runs\", len(runs))\n",
    "print(\"N subruns\", len(sruns))\n",
    "print(\"N evts\", len(evts))"
   ]
  },
  {
   "cell_type": "code",
   "execution_count": null,
   "id": "53d456e7-711d-4fa5-98b3-cca42f5993a7",
   "metadata": {},
   "outputs": [],
   "source": [
    "N_nus = slc_df.query(\"pdg == 14 or pdg == -14 or pdg == 12 or pdg == -12\").shape[0]\n",
    "print(N_nus)"
   ]
  },
  {
   "cell_type": "code",
   "execution_count": null,
   "id": "48167676-ac36-47b5-a14d-8a33e67e0c16",
   "metadata": {},
   "outputs": [],
   "source": []
  }
 ],
 "metadata": {
  "kernelspec": {
   "display_name": "pyROOT_3.9_env",
   "language": "python",
   "name": "pyroot_3.9_env"
  },
  "language_info": {
   "codemirror_mode": {
    "name": "ipython",
    "version": 3
   },
   "file_extension": ".py",
   "mimetype": "text/x-python",
   "name": "python",
   "nbconvert_exporter": "python",
   "pygments_lexer": "ipython3",
   "version": "3.9.17"
  }
 },
 "nbformat": 4,
 "nbformat_minor": 5
}
