{
 "cells": [
  {
   "cell_type": "code",
   "execution_count": null,
   "id": "b21f6424-883f-4bf6-8d58-5659545d50f9",
   "metadata": {},
   "outputs": [],
   "source": [
    "# Look at the CRT spacepoints"
   ]
  },
  {
   "cell_type": "code",
   "execution_count": null,
   "id": "1f6aebce-6b97-4c57-b416-e6f304acd7dc",
   "metadata": {},
   "outputs": [],
   "source": [
    "import ROOT\n",
    "import numpy as np\n",
    "import os\n",
    "import matplotlib.pyplot as plt\n",
    "from mpl_toolkits.mplot3d import Axes3D\n",
    "from mpl_toolkits.mplot3d.art3d import Poly3DCollection\n",
    "import sys\n",
    "import multiprocessing as mp\n",
    "import uproot\n",
    "import pandas as pd\n",
    "import pickle\n",
    "import h5py\n",
    "import gzip\n",
    "import math\n",
    "import timeit\n",
    "\n",
    "# First attempt\n",
    "#infile = \"../NTuples/eta_production_ntuple_test_nodirt.root\"\n",
    "\n",
    "# Latest Eta Production\n",
    "#infile = \"../NTuples/eta_production_nodirt_ntuple_batch1.root\"\n",
    "\n",
    "# MC CV Sample --> Low Stats\n",
    "#infile = \"../NTuples/mc_production_with_fmatch_ntuple.root\"\n",
    "\n",
    "#MC CV Sample --> High Stats\n",
    "#infile = \"../NTuples/mc_production_with_fmatch_ntuple_more_stats.root\"\n",
    "#infile = \"../NTuples/mc_production_with_fmatch_ntuple_more_stats_v2.root\"\n",
    "\n",
    "infile = \"../NTuples/mc_production_crt_ntuple_v1.root\""
   ]
  },
  {
   "cell_type": "code",
   "execution_count": null,
   "id": "2cabe56f-4b30-43e6-a359-9d06c5f1f432",
   "metadata": {},
   "outputs": [],
   "source": [
    "inFile = uproot.open(infile)\n",
    "\n",
    "inFileROOT = ROOT.TFile.Open(infile, \"READ\")\n",
    "#h_tot_pot = inFileROOT.Get(\"TotalPOT\")\n",
    "h_tot_pot = inFileROOT.Get(\"TOTPOT_Clone\")\n",
    "TOT_POT = h_tot_pot.GetBinContent(1)\n",
    "inFileROOT.Close()\n",
    "TOT_POT = f\"{TOT_POT:.2e}\"\n",
    "print(\"Total POT\", TOT_POT)\n",
    "\n",
    "\n",
    "crt_tree = inFile[\"crt_tree\"]\n",
    "\n",
    "crt_df = crt_tree.arrays(crt_tree.keys(), library=\"pd\")\n",
    "crt_df[:2]"
   ]
  }
 ],
 "metadata": {
  "kernelspec": {
   "display_name": "pyROOT_3.9_env",
   "language": "python",
   "name": "pyroot_3.9_env"
  },
  "language_info": {
   "codemirror_mode": {
    "name": "ipython",
    "version": 3
   },
   "file_extension": ".py",
   "mimetype": "text/x-python",
   "name": "python",
   "nbconvert_exporter": "python",
   "pygments_lexer": "ipython3",
   "version": "3.9.17"
  }
 },
 "nbformat": 4,
 "nbformat_minor": 5
}
