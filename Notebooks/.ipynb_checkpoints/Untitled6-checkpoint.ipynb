{
 "cells": [
  {
   "cell_type": "code",
   "execution_count": null,
   "id": "f40298d0-7dcf-4ca9-87ae-a4d975bc6f87",
   "metadata": {},
   "outputs": [],
   "source": [
    "# CRT Trigger Potential Main Loop"
   ]
  },
  {
   "cell_type": "code",
   "execution_count": null,
   "id": "c9e3cad8-a784-4046-9ac5-a49d372e9dcb",
   "metadata": {},
   "outputs": [],
   "source": [
    "import ROOT\n",
    "import numpy as np\n",
    "import os\n",
    "import matplotlib.pyplot as plt\n",
    "from mpl_toolkits.mplot3d import Axes3D\n",
    "from mpl_toolkits.mplot3d.art3d import Poly3DCollection\n",
    "import sys\n",
    "import multiprocessing as mp\n",
    "import uproot\n",
    "import pandas as pd\n",
    "import pickle\n",
    "import h5py\n",
    "import gzip\n",
    "import math\n",
    "import timeit\n",
    "\n",
    "# First attempt\n",
    "#infile = \"../NTuples/eta_production_ntuple_test_nodirt.root\"\n",
    "\n",
    "# Latest Eta Production\n",
    "#infile = \"../NTuples/eta_production_nodirt_ntuple_batch1.root\"\n",
    "\n",
    "# MC CV Sample --> Low Stats\n",
    "#infile = \"../NTuples/mc_production_with_fmatch_ntuple.root\"\n",
    "\n",
    "#MC CV Sample --> High Stats\n",
    "#infile = \"../NTuples/mc_production_with_fmatch_ntuple_more_stats.root\"\n",
    "infile = \"../NTuples/mc_production_with_fmatch_ntuple_more_stats_v2.root\""
   ]
  },
  {
   "cell_type": "code",
   "execution_count": null,
   "id": "f500e56c-6169-4362-8851-144ebbfc40a8",
   "metadata": {},
   "outputs": [],
   "source": [
    "inFile = uproot.open(infile)\n",
    "\n",
    "inFileROOT = ROOT.TFile.Open(infile, \"READ\")\n",
    "#h_tot_pot = inFileROOT.Get(\"TotalPOT\")\n",
    "h_tot_pot = inFileROOT.Get(\"TOTPOT_Clone\")\n",
    "TOT_POT = h_tot_pot.GetBinContent(1)\n",
    "inFileROOT.Close()\n",
    "TOT_POT = f\"{TOT_POT:.2e}\"\n",
    "print(\"Total POT\", TOT_POT)\n",
    "\n",
    "#slc_tree = inFile[\"slc_truth_tree\"]\n",
    "slc_tree = inFile[\"slc_truth_tree\"]\n",
    "slc_reco_tree = inFile[\"slc_tree\"]\n",
    "pfp_tree = inFile[\"pfp_tree\"]\n",
    "\n",
    "#cosmic_tree1 = inFile[\"cosmic_tree1\"]\n",
    "#cosmic_tree2 = inFile[\"cosmic_tree2\"]\n",
    "\n",
    "particle_tree1 = inFile[\"particle_tree1\"]\n",
    "particle_tree2 = inFile[\"particle_tree2\"]\n",
    "\n",
    "track_crt_tree = inFile[\"track_crthit_tree\"]\n",
    "\n",
    "\n",
    "pfp_df = pfp_tree.arrays(pfp_tree.keys(), library=\"pd\")\n",
    "\n",
    "slc_df = slc_tree.arrays(slc_tree.keys(), library=\"pd\")\n",
    "slc_reco_df = slc_reco_tree.arrays(slc_reco_tree.keys(), library=\"pd\")\n",
    "\n",
    "\n",
    "particle_df1 = particle_tree1.arrays(particle_tree1.keys(), library=\"pd\")\n",
    "particle_df2 = particle_tree2.arrays(particle_tree2.keys(), library=\"pd\")\n",
    "\n",
    "track_crt_df = track_crt_tree.arrays(track_crt_tree.keys(), library=\"pd\")\n",
    "\n",
    "#cosmic_df1 = cosmic_tree1.arrays(cosmic_tree1.keys(), library=\"pd\")\n",
    "#cosmic_df2 = cosmic_tree2.arrays(cosmic_tree2.keys(), library=\"pd\")\n",
    "\n",
    "\n",
    "\n",
    "slc_df[:2]"
   ]
  },
  {
   "cell_type": "code",
   "execution_count": null,
   "id": "4e3605eb-830e-4f15-94f8-d087f9a7ca99",
   "metadata": {},
   "outputs": [],
   "source": [
    "def isTPC(row):\n",
    "    if (-200 <= row[\"vtx_x\"] <= 200) and (-200 <= row[\"vtx_y\"] <= 200) and (0 <= row[\"vtx_z\"] <= 500):\n",
    "        return 1\n",
    "    else:\n",
    "        return 0\n",
    "\n",
    "slc_df[\"inTPC\"] = slc_df.apply(isTPC, axis=1)\n",
    "slc_reco_df[\"inTPC\"] = slc_reco_df.apply(isTPC, axis=1)\n",
    "slc_df[:2]"
   ]
  },
  {
   "cell_type": "code",
   "execution_count": null,
   "id": "111b849e-0680-4783-a3be-108b7e2a78ef",
   "metadata": {},
   "outputs": [],
   "source": [
    "topology_labels = {\n",
    "    0:r\"$\\nu_{\\mu} CC$\",\n",
    "    1:r\"$\\nu_{\\mu} NC$\",\n",
    "    2:r\"$\\nu_{e} CC$\",\n",
    "    3:r\"$\\nu_{e} NC$\",\n",
    "    4:r\"$\\bar{\\nu}_{\\mu}$\",\n",
    "    5:r\"$\\bar{\\nu}_{e}$\",\n",
    "    6:r\"DIRT $\\nu$\",\n",
    "    7:\"Cosmic\",\n",
    "}\n",
    "\n",
    "topology_selections = {\n",
    "    0:\"pdg == 14.0 and iscc == 1.0 and inTPC == 1\",\n",
    "    1:\"pdg == 14.0 and isnc == 1.0 and inTPC == 1\",\n",
    "    2:\"pdg == 12.0 and iscc == 1.0 and inTPC == 1\",\n",
    "    3:\"pdg == 12.0 and isnc == 1.0 and inTPC == 1\",\n",
    "    4:\"pdg == -14.0 and inTPC == 1\",\n",
    "    5:\"pdg == -12.0 and inTPC == 1\",\n",
    "    6:\"(pdg == 14.0 or pdg == 12.0 or pdg == -14.0 or pdg == -12.0 ) and inTPC == 0\",\n",
    "    7:\"pdg == -1\",\n",
    "}"
   ]
  },
  {
   "cell_type": "code",
   "execution_count": null,
   "id": "e960576e-85b0-4dc6-a57f-faccaf497824",
   "metadata": {},
   "outputs": [],
   "source": [
    "for num in range(len(topology_selections.keys())):\n",
    "    #temp = slc_df.query(topology_selections[num])\n",
    "    condition = slc_df.index.isin(slc_df.query(topology_selections[num]).index)\n",
    "    slc_df.loc[condition, \"TOP\"] = num\n",
    "\n",
    "slc_reco_df[\"TOP\"] = slc_df[\"TOP\"]\n",
    "slc_reco_df[:2]"
   ]
  },
  {
   "cell_type": "code",
   "execution_count": null,
   "id": "82fa5167-3a1c-4e76-aefe-e77f77c2f86c",
   "metadata": {},
   "outputs": [],
   "source": [
    "# Add topology labels to other dataframes\n",
    "df_small_filtered = slc_df[['run', 'subrun', 'evt', 'slc', 'TOP']]\n",
    "\n",
    "pfp_df = pfp_df.merge(df_small_filtered, on=['run', 'subrun', 'evt', 'slc'], how='left')\n",
    "#cosmic_df1 = cosmic_df1.merge(df_small_filtered, on=['run', 'subrun', 'evt', 'slc'], how='left')\n",
    "particle_df1 = particle_df1.merge(df_small_filtered, on=['run', 'subrun', 'evt', 'slc'], how='left')\n",
    "track_crt_df = track_crt_df.merge(df_small_filtered, on=['run', 'subrun', 'evt', 'slc'], how='left')\n",
    "slc_reco_df[\"TOP\"] = slc_df[\"TOP\"]\n",
    "particle_df1[:2]"
   ]
  },
  {
   "cell_type": "markdown",
   "id": "f71ff87a-cea3-4c97-9707-e25602dfb56b",
   "metadata": {},
   "source": [
    "# Initialize the Event Dataframe"
   ]
  },
  {
   "cell_type": "code",
   "execution_count": null,
   "id": "6a544f9c-b3ce-4ad9-a4b5-707059836f37",
   "metadata": {},
   "outputs": [],
   "source": [
    "runs = slc_df[\"run\"].values\n",
    "subruns = slc_df[\"subrun\"].values\n",
    "evts = slc_df[\"evt\"].values\n",
    "\n",
    "data = {'run': runs,\n",
    "        'subrun': subruns,\n",
    "        'evt': evts}\n",
    "\n",
    "event_df = pd.DataFrame(data)\n",
    "\n",
    "event_df = event_df.drop_duplicates()\n",
    "\n",
    "# Drop duplicates to find unique combinations\n",
    "#unique_combinations = event_df.drop_duplicates()\n",
    "\n",
    "# Get the number of unique combinations\n",
    "N_EVENTS = event_df.shape[0]\n",
    "\n",
    "print(\"N_EVENTS:\", N_EVENTS)\n"
   ]
  }
 ],
 "metadata": {
  "kernelspec": {
   "display_name": "pyROOT_3.9_env",
   "language": "python",
   "name": "pyroot_3.9_env"
  },
  "language_info": {
   "codemirror_mode": {
    "name": "ipython",
    "version": 3
   },
   "file_extension": ".py",
   "mimetype": "text/x-python",
   "name": "python",
   "nbconvert_exporter": "python",
   "pygments_lexer": "ipython3",
   "version": "3.9.17"
  }
 },
 "nbformat": 4,
 "nbformat_minor": 5
}
