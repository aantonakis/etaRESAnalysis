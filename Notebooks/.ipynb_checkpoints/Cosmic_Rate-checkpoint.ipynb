{
 "cells": [
  {
   "cell_type": "code",
   "execution_count": null,
   "id": "3c91a7f8-3308-432e-8023-1cbb61e67183",
   "metadata": {},
   "outputs": [],
   "source": [
    "# Let's Look at the true cosmics"
   ]
  },
  {
   "cell_type": "code",
   "execution_count": null,
   "id": "c5dccc17-949b-45ea-bfe6-e7b34580285c",
   "metadata": {},
   "outputs": [],
   "source": [
    "import ROOT\n",
    "import numpy as np\n",
    "import os\n",
    "import matplotlib.pyplot as plt\n",
    "from mpl_toolkits.mplot3d import Axes3D\n",
    "from mpl_toolkits.mplot3d.art3d import Poly3DCollection\n",
    "import sys\n",
    "import multiprocessing as mp\n",
    "import uproot\n",
    "import pandas as pd\n",
    "import pickle\n",
    "import h5py\n",
    "import gzip\n",
    "import math\n",
    "import timeit\n",
    "\n",
    "\n",
    "#MC CV Sample --> High Stats\n",
    "#infile = \"../NTuples/mc_production_with_fmatch_ntuple_more_stats.root\"\n",
    "infile = \"../NTuples/mc_production_true_particles_ntuple_v1.root\""
   ]
  },
  {
   "cell_type": "code",
   "execution_count": null,
   "id": "d3eae269-8f81-41cc-a9b0-18a9c2336e2a",
   "metadata": {},
   "outputs": [],
   "source": [
    "inFile = uproot.open(infile)\n",
    "\n",
    "inFileROOT = ROOT.TFile.Open(infile, \"READ\")\n",
    "#h_tot_pot = inFileROOT.Get(\"TotalPOT\")\n",
    "h_tot_pot = inFileROOT.Get(\"TOTPOT_Clone\")\n",
    "TOT_POT = h_tot_pot.GetBinContent(1)\n",
    "inFileROOT.Close()\n",
    "TOT_POT = f\"{TOT_POT:.2e}\"\n",
    "print(\"Total POT\", TOT_POT)\n",
    "\n",
    "#slc_tree = inFile[\"slc_truth_tree\"]\n",
    "part_tree1 = inFile[\"part_tree1\"]\n",
    "part_tree2 = inFile[\"part_tree2\"]\n",
    "part_tree3 = inFile[\"part_tree3\"]\n",
    "\n",
    "\n",
    "part_df1 = part_tree1.arrays(part_tree1.keys(), library=\"pd\")\n",
    "part_df2 = part_tree2.arrays(part_tree2.keys(), library=\"pd\")\n",
    "part_df3 = part_tree3.arrays(part_tree3.keys(), library=\"pd\")\n",
    "\n",
    "\n",
    "part_df1[:2]"
   ]
  },
  {
   "cell_type": "code",
   "execution_count": null,
   "id": "7cc491f7-7f2a-47fc-9594-64f082d40b33",
   "metadata": {},
   "outputs": [],
   "source": [
    "part_df2[\"pdg\"] = part_df1[\"pdg\"]\n",
    "part_df3[\"pdg\"] = part_df1[\"pdg\"]\n",
    "part_df2[\"interaction_id\"] = part_df1[\"interaction_id\"]\n",
    "part_df3[\"interaction_id\"] = part_df1[\"interaction_id\"]\n",
    "\n",
    "part_df1 = part_df1.query(\"(pdg == 13 or pdg == -13) and interaction_id == -1\")\n",
    "part_df2 = part_df2.query(\"(pdg == 13 or pdg == -13) and interaction_id == -1\")\n",
    "part_df3 = part_df3.query(\"(pdg == 13 or pdg == -13) and interaction_id == -1\")\n",
    "\n",
    "part_df1[:4]"
   ]
  },
  {
   "cell_type": "code",
   "execution_count": null,
   "id": "9d22f836-d297-4f17-9662-98d97f3d9476",
   "metadata": {},
   "outputs": [],
   "source": [
    "B = np.arange(-0.5, 1.5, 1)\n",
    "\n",
    "plt.hist(part_df1[\"crosses_tpc\"].values, bins=B)\n",
    "plt.show()"
   ]
  },
  {
   "cell_type": "code",
   "execution_count": null,
   "id": "401a7695-4b1f-4207-915e-8a499b4c75d3",
   "metadata": {},
   "outputs": [],
   "source": [
    "evt_tree = inFile[\"event_tree\"]\n",
    "evt_df = evt_tree.arrays(evt_tree.keys(), library=\"pd\")\n",
    "evt_df[:2]"
   ]
  },
  {
   "cell_type": "code",
   "execution_count": null,
   "id": "142883fa-684e-40b3-abb6-45bc694e0d1c",
   "metadata": {},
   "outputs": [],
   "source": [
    "runs = evt_df[\"run\"].values\n",
    "subruns = evt_df[\"subrun\"].values\n",
    "\n",
    "\n",
    "data = {'run': runs,\n",
    "        'subrun': subruns,\n",
    "       }\n",
    "\n",
    "header_df = pd.DataFrame(data)\n",
    "header_df = header_df.drop_duplicates()\n",
    "\n",
    "header_df[:2]"
   ]
  },
  {
   "cell_type": "code",
   "execution_count": null,
   "id": "b41b4482-dea2-4ad0-acc0-cc9ce3e16c46",
   "metadata": {},
   "outputs": [],
   "source": [
    "def get_genevt(row):\n",
    "    r = row[\"run\"]\n",
    "    sr = row[\"subrun\"]\n",
    "    g = evt_df.query(\"run == \"+str(r) + \" and subrun == \"+str(sr))[\"ngenevt\"].values\n",
    "    if g[-1] != g[0]:\n",
    "        print(\"diff ?\")\n",
    "    return g[0]\n",
    "\n",
    "\n",
    "header_df[\"genevt\"] = header_df.apply(get_genevt, axis=1)\n",
    "header_df[:3]"
   ]
  },
  {
   "cell_type": "code",
   "execution_count": null,
   "id": "1282f5aa-e5ab-4554-82e0-6b5b5600728c",
   "metadata": {},
   "outputs": [],
   "source": [
    "plt.hist(header_df[\"genevt\"].values, bins=100)\n",
    "plt.show()"
   ]
  },
  {
   "cell_type": "code",
   "execution_count": null,
   "id": "f35c3986-ad79-4da3-b893-3a3e5b1470c9",
   "metadata": {},
   "outputs": [],
   "source": [
    "part_df3[:4]"
   ]
  },
  {
   "cell_type": "code",
   "execution_count": null,
   "id": "91a6f025-4c4c-48cb-941d-186288e041ec",
   "metadata": {},
   "outputs": [],
   "source": [
    "tpc_cosmics = part_df3.query(\"start_x > -8000 and start_y > -8000 and start_z > -8000\")\n",
    "\n",
    "print(\"N cosmics \", tpc_cosmics.shape[0])"
   ]
  },
  {
   "cell_type": "code",
   "execution_count": null,
   "id": "3200312a-c645-4f36-af2c-ab87ae580492",
   "metadata": {},
   "outputs": [],
   "source": [
    "print(np.sum(header_df[\"genevt\"].values))"
   ]
  },
  {
   "cell_type": "code",
   "execution_count": null,
   "id": "53aec455-620c-4c48-9e0a-3ace0248fc3c",
   "metadata": {},
   "outputs": [],
   "source": [
    "print(tpc_cosmics.shape[0]/(3*np.sum(header_df[\"genevt\"].values)))"
   ]
  },
  {
   "cell_type": "code",
   "execution_count": null,
   "id": "608e92cc-14c9-4d0e-9a12-e1bdd4d0cf2c",
   "metadata": {},
   "outputs": [],
   "source": [
    "evt_df = event_df.drop_duplicates()\n",
    "evt_df[:2]"
   ]
  },
  {
   "cell_type": "code",
   "execution_count": null,
   "id": "077eafda-cccc-474e-aced-846538ff03b5",
   "metadata": {},
   "outputs": [],
   "source": [
    "\n",
    "# Loop over events\n",
    "for num in range(event_df.shape[0]):\n",
    "    if num % 10000 == 0:\n",
    "        print(\"Analyzing event\", num)\n",
    "        \n",
    "    row = event_df.iloc[num]\n",
    "    r, sr, e = row[\"run\"], row[\"subrun\"], row[\"evt\"]\n",
    "    \n",
    "    m1 = (slc_av_reco_df[\"run\"].values == r)\n",
    "    m2 = (slc_av_reco_df[\"subrun\"].values == sr)\n",
    "    m3 = (slc_av_reco_df[\"evt\"].values == e)\n",
    "    m4 = (slc_av_reco_df[\"fmatch_time\"].values <= 2.1)\n",
    "    m5 = (slc_av_reco_df[\"fmatch_time\"].values >= 0)\n",
    "    m = m1 & m2 & m3 & m4 & m5\n",
    " \n",
    "    AV_slc_ids = np.array(slc_av_reco_df[\"slc\"].values)[m]\n",
    "    if len(AV_slc_ids) > 0:\n",
    "        N_AV += 1\n",
    "        \n",
    "        #print(\"AV Slice IDs\")\n",
    "        #print(AV_slc_ids)\n",
    "\n",
    "        N_CRT = 0\n",
    "        for s in AV_slc_ids:\n",
    "            m1 = (trk_av_df1[\"run\"].values == r)\n",
    "            m2 = (trk_av_df1[\"subrun\"].values == sr)\n",
    "            m3 = (trk_av_df1[\"evt\"].values == e) \n",
    "            m4 = (trk_av_df1[\"slc\"].values == s)\n",
    "            m = m1 & m2 & m3 & m4\n",
    "            crt_hits = np.array(trk_av_df1[\"N_CRT_AV\"].values)[m]\n",
    "            n_cont = 0"
   ]
  }
 ],
 "metadata": {
  "kernelspec": {
   "display_name": "pyROOT_3.9_env",
   "language": "python",
   "name": "pyroot_3.9_env"
  },
  "language_info": {
   "codemirror_mode": {
    "name": "ipython",
    "version": 3
   },
   "file_extension": ".py",
   "mimetype": "text/x-python",
   "name": "python",
   "nbconvert_exporter": "python",
   "pygments_lexer": "ipython3",
   "version": "3.9.17"
  }
 },
 "nbformat": 4,
 "nbformat_minor": 5
}
