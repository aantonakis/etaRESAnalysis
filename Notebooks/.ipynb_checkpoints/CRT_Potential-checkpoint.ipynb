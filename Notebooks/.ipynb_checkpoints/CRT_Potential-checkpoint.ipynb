{
 "cells": [
  {
   "cell_type": "code",
   "execution_count": null,
   "id": "963b23ce-fe3a-426e-b77b-7bcedf11145d",
   "metadata": {},
   "outputs": [],
   "source": [
    "import ROOT\n",
    "import numpy as np\n",
    "import os\n",
    "import matplotlib.pyplot as plt\n",
    "from mpl_toolkits.mplot3d import Axes3D\n",
    "from mpl_toolkits.mplot3d.art3d import Poly3DCollection\n",
    "import sys\n",
    "import multiprocessing as mp\n",
    "import uproot\n",
    "import pandas as pd\n",
    "import pickle\n",
    "import h5py\n",
    "import gzip\n",
    "import math\n",
    "import timeit\n",
    "\n",
    "\n",
    "#infile = \"../NTuples/test_truth.root\"\n",
    "infile = \"../NTuples/full_sample.root\"\n"
   ]
  }
 ],
 "metadata": {
  "kernelspec": {
   "display_name": "pyROOT_3.9_env",
   "language": "python",
   "name": "pyroot_3.9_env"
  },
  "language_info": {
   "codemirror_mode": {
    "name": "ipython",
    "version": 3
   },
   "file_extension": ".py",
   "mimetype": "text/x-python",
   "name": "python",
   "nbconvert_exporter": "python",
   "pygments_lexer": "ipython3",
   "version": "3.9.17"
  }
 },
 "nbformat": 4,
 "nbformat_minor": 5
}
