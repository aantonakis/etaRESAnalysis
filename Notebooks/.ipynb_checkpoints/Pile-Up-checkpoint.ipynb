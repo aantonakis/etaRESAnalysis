{
 "cells": [
  {
   "cell_type": "code",
   "execution_count": null,
   "id": "0140752e-59ba-4f99-a57d-e485de59c591",
   "metadata": {},
   "outputs": [],
   "source": [
    "# Let's Explore the Neutrino pile up normalized by events"
   ]
  },
  {
   "cell_type": "code",
   "execution_count": null,
   "id": "5c1db124-d84b-43e9-a04f-7f5954b85e05",
   "metadata": {},
   "outputs": [],
   "source": [
    "import ROOT\n",
    "import numpy as np\n",
    "import os\n",
    "import matplotlib.pyplot as plt\n",
    "from mpl_toolkits.mplot3d import Axes3D\n",
    "from mpl_toolkits.mplot3d.art3d import Poly3DCollection\n",
    "import sys\n",
    "import multiprocessing as mp\n",
    "import uproot\n",
    "import pandas as pd\n",
    "import pickle\n",
    "import h5py\n",
    "import gzip\n",
    "import math\n",
    "import timeit\n",
    "\n",
    "# First attempt\n",
    "#infile = \"../NTuples/eta_production_ntuple_test_nodirt.root\"\n",
    "\n",
    "# Latest Eta Production\n",
    "#infile = \"../NTuples/eta_production_nodirt_ntuple_batch1.root\"\n",
    "\n",
    "# MC CV Sample --> Low Stats\n",
    "#infile = \"../NTuples/mc_production_with_fmatch_ntuple.root\"\n",
    "\n",
    "#MC CV Sample --> High Stats\n",
    "infile = \"../NTuples/mc_production_with_fmatch_ntuple_more_stats.root\""
   ]
  }
 ],
 "metadata": {
  "kernelspec": {
   "display_name": "pyROOT_3.9_env",
   "language": "python",
   "name": "pyroot_3.9_env"
  },
  "language_info": {
   "codemirror_mode": {
    "name": "ipython",
    "version": 3
   },
   "file_extension": ".py",
   "mimetype": "text/x-python",
   "name": "python",
   "nbconvert_exporter": "python",
   "pygments_lexer": "ipython3",
   "version": "3.9.17"
  }
 },
 "nbformat": 4,
 "nbformat_minor": 5
}
