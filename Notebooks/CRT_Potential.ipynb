{
 "cells": [
  {
   "cell_type": "code",
   "execution_count": null,
   "id": "963b23ce-fe3a-426e-b77b-7bcedf11145d",
   "metadata": {},
   "outputs": [],
   "source": [
    "import ROOT\n",
    "import numpy as np\n",
    "import os\n",
    "import matplotlib.pyplot as plt\n",
    "from mpl_toolkits.mplot3d import Axes3D\n",
    "from mpl_toolkits.mplot3d.art3d import Poly3DCollection\n",
    "import sys\n",
    "import multiprocessing as mp\n",
    "import uproot\n",
    "import pandas as pd\n",
    "import pickle\n",
    "import h5py\n",
    "import gzip\n",
    "import math\n",
    "import timeit\n",
    "\n",
    "\n",
    "#infile = \"../NTuples/test_truth.root\"\n",
    "#infile = \"../NTuples/small_tpceta_sample.root\"\n",
    "#infile = \"../NTuples/full_tpceta_sample.root\"\n",
    "infile = \"../NTuples/production_sample_take1.root\""
   ]
  },
  {
   "cell_type": "code",
   "execution_count": null,
   "id": "745daaf5-0765-49ac-9ac6-5bf0b4d437a1",
   "metadata": {},
   "outputs": [],
   "source": [
    "\n",
    "inFile = uproot.open(infile)\n",
    "\n",
    "#h_tot_pot = ROOT.TFile.Open(infile).Get(\"TotalPOT\")\n",
    "#pot = h_tot_pot.GetBinContent(1)\n",
    "\n",
    "slc_tree = inFile[\"slc_tree\"]\n",
    "particle_tree1 = inFile[\"particle_tree1\"]\n",
    "particle_tree2 = inFile[\"particle_tree2\"]\n",
    "daughter_tree1 = inFile[\"daughter_tree1\"]\n",
    "daughter_tree2 = inFile[\"daughter_tree2\"]\n",
    "\n",
    "slc_df = slc_tree.arrays(slc_tree.keys(), library=\"pd\")\n",
    "particle_df1 = particle_tree1.arrays(particle_tree1.keys(), library=\"pd\")\n",
    "particle_df2 = particle_tree2.arrays(particle_tree2.keys(), library=\"pd\")\n",
    "daughter_df1 = daughter_tree1.arrays(daughter_tree1.keys(), library=\"pd\")\n",
    "daughter_df2 = daughter_tree2.arrays(daughter_tree2.keys(), library=\"pd\")\n",
    "\n",
    "slc_df[:2]"
   ]
  },
  {
   "cell_type": "code",
   "execution_count": null,
   "id": "792ae8cb-0124-4526-8425-095fe75e74ba",
   "metadata": {},
   "outputs": [],
   "source": [
    "particle_df1[:2]"
   ]
  },
  {
   "cell_type": "code",
   "execution_count": null,
   "id": "20f331dd-a24b-41a9-895e-a3d8a2a1cb79",
   "metadata": {},
   "outputs": [],
   "source": [
    "particle_df2[:2]"
   ]
  },
  {
   "cell_type": "code",
   "execution_count": null,
   "id": "79b5c8cd-a8eb-4502-b892-8a0d616662ca",
   "metadata": {},
   "outputs": [],
   "source": [
    "daughter_df1[:2]"
   ]
  },
  {
   "cell_type": "code",
   "execution_count": null,
   "id": "c6aa218c-1e6d-4e22-94bd-8186a8837d2a",
   "metadata": {},
   "outputs": [],
   "source": [
    "daughter_df2[:2]"
   ]
  },
  {
   "cell_type": "code",
   "execution_count": null,
   "id": "e4aafce9-731d-4ff2-8c44-3271f21e0f50",
   "metadata": {},
   "outputs": [],
   "source": [
    "def is_inTPC(row):\n",
    "    x, y, z = row[\"vtx_x\"], row[\"vtx_y\"], row[\"vtx_z\"]\n",
    "    if math.isnan(x) or math.isnan(y) or math.isnan(z):\n",
    "        return 0\n",
    "    #if (x == 'NaN') or (y == 'NaN') or (z == 'NaN'):\n",
    "    #    return 0\n",
    "        \n",
    "    if (-200 < x < 200) and (-200 < y < 200) and (0 < z < 500):\n",
    "        return 1\n",
    "    else:\n",
    "        return 0\n",
    "\n",
    "slc_df[\"inTPC\"] = slc_df.apply(is_inTPC, axis=1)\n",
    "slc_df[:2]"
   ]
  },
  {
   "cell_type": "code",
   "execution_count": null,
   "id": "6b7ea59d-b58b-4fa4-83fe-78c06528423d",
   "metadata": {},
   "outputs": [],
   "source": [
    "topology_labels = {\n",
    "    0:r\"$\\nu_{\\mu} CC$\",\n",
    "    1:r\"$\\nu_{\\mu} NC$\",\n",
    "    2:r\"$\\nu_{e} CC$\",\n",
    "    3:r\"$\\nu_{e} NC$\",\n",
    "    4:r\"$\\bar{\\nu}_{\\mu}$\",\n",
    "    5:r\"$\\bar{\\nu}_{e}$\",\n",
    "    6:r\"DIRT $\\nu$\",\n",
    "    7:\"Cosmic\",\n",
    "}\n",
    "\n",
    "topology_selections = {\n",
    "    0:\"pdg == 14.0 and iscc == 1.0 and inTPC == 1\",\n",
    "    1:\"pdg == 14.0 and isnc == 1.0 and inTPC == 1\",\n",
    "    2:\"pdg == 12.0 and iscc == 1.0 and inTPC == 1\",\n",
    "    3:\"pdg == 12.0 and isnc == 1.0 and inTPC == 1\",\n",
    "    4:\"pdg == -14.0 and inTPC == 1\",\n",
    "    5:\"pdg == -12.0 and inTPC == 1\",\n",
    "    6:\"(pdg == 14.0 or pdg == 12.0 or pdg == -14.0 or pdg == -12.0 ) and inTPC == 0\",\n",
    "    7:\"pdg == -1\",\n",
    "}"
   ]
  },
  {
   "cell_type": "code",
   "execution_count": null,
   "id": "483aa7eb-d249-4d62-aa96-ff193b85ae7a",
   "metadata": {},
   "outputs": [],
   "source": [
    "# Let's look at the file composition\n",
    "\n",
    "N = slc_df.shape[0]\n",
    "\n",
    "bin_centers = [1]\n",
    "bin_width = 1\n",
    "N_prev = 0\n",
    "#plt.yscale('log')\n",
    "for num in range(len(topology_labels.keys())):\n",
    "    temp_df = slc_df.query(topology_selections[num])\n",
    "    N_top = temp_df.shape[0]\n",
    "    \n",
    "    plt.bar(bin_centers, [N_top], width=bin_width, bottom=N_prev, alpha=0.6, label=topology_labels[num])\n",
    "    N_prev += N_top\n",
    "\n",
    "plt.errorbar([1], [N], xerr=[0.5], yerr=np.sqrt(N), fmt=\"o\", c=\"black\", label=\"All Slices\")\n",
    "plt.legend(loc='center left', bbox_to_anchor=(1, 0.5), ncol=1)\n",
    "plt.xticks([])\n",
    "plt.ylabel(\"Slice Count\", fontsize=14)\n",
    "#plt.yscale('log')\n",
    "plt.show()"
   ]
  },
  {
   "cell_type": "code",
   "execution_count": null,
   "id": "3a0f6bb1-16f0-4f43-9810-784fd5c07d6b",
   "metadata": {},
   "outputs": [],
   "source": [
    "# Let's add the topologies to the dataframes\n",
    "\n",
    "# initialize to -1 for now\n",
    "slc_df[\"TOP\"] = -1\n",
    "\n",
    "for num in range(len(topology_selections.keys())):\n",
    "    #temp = slc_df.query(topology_selections[num])\n",
    "    condition = slc_df.index.isin(slc_df.query(topology_selections[num]).index)\n",
    "    slc_df.loc[condition, \"TOP\"] = num\n",
    "    \n",
    "slc_df[:2]\n"
   ]
  },
  {
   "cell_type": "code",
   "execution_count": null,
   "id": "73f18cfe-9f38-421d-bdbe-afd0e771595b",
   "metadata": {},
   "outputs": [],
   "source": [
    "\n",
    "\n",
    "#df_result = df_large.merge(df_small, on=['col1', 'col2'], how='left')\n",
    "\n",
    "# Let's try to add the topology to the particle dfs\n",
    "df_small_filtered = slc_df[['run', 'subrun', 'evt', 'slc', 'TOP']]\n",
    "particle_df1 = particle_df1.merge(df_small_filtered, on=['run', 'subrun', 'evt', 'slc'], how='left')\n",
    "\n",
    "particle_df1[:2]"
   ]
  },
  {
   "cell_type": "code",
   "execution_count": null,
   "id": "7ed77286-0f32-4f56-9e94-3301eda046af",
   "metadata": {},
   "outputs": [],
   "source": [
    "daughter_df1 = daughter_df1.merge(df_small_filtered, on=['run', 'subrun', 'evt', 'slc'], how='left')\n",
    "\n",
    "daughter_df1[:2]"
   ]
  },
  {
   "cell_type": "code",
   "execution_count": null,
   "id": "ca8ae3a8-df52-4639-a110-71a2a10dcfff",
   "metadata": {},
   "outputs": [],
   "source": [
    "particle_df2[\"TOP\"] = particle_df1[\"TOP\"]\n",
    "daughter_df2[\"TOP\"] = daughter_df1[\"TOP\"]\n",
    "\n",
    "particle_df2[:2]"
   ]
  },
  {
   "cell_type": "code",
   "execution_count": null,
   "id": "21eeab9e-7500-4f1f-856f-1767d1c4947d",
   "metadata": {},
   "outputs": [],
   "source": [
    "\n",
    "cosmic_primaries = particle_df2.query(\"TOP == 7\")\n",
    "cosmic_primaries[:2]\n",
    "\n",
    "#plt.hist(particle_df2.query(\"TOP == 7\")[\"start_x\"].values, bins=100, label=topology_labels[7])\n",
    "#plt.legend()\n",
    "#plt.show()"
   ]
  },
  {
   "cell_type": "code",
   "execution_count": null,
   "id": "76b6e871-1326-40ff-976a-027387b6045b",
   "metadata": {},
   "outputs": [],
   "source": []
  },
  {
   "cell_type": "code",
   "execution_count": null,
   "id": "6a0b9549-65b0-410a-8eef-6b456e73b9ec",
   "metadata": {},
   "outputs": [],
   "source": [
    "def is_prim_cont(row):\n",
    "    run, subrun, evt, slc = row[\"run\"], row[\"subrun\"], row[\"evt\"], row[\"slc\"]\n",
    "    q = \"run == \"+str(run)+\" and subrun == \"+str(subrun) + \" and evt == \"+str(evt) + \"and slc == \"+str(slc)\n",
    "    temp_df = particle_df2.query(q)\n",
    "    x_s, y_s, z_s = temp_df[\"start_x\"].values, temp_df[\"start_y\"].values, temp_df[\"start_z\"].values\n",
    "    x_e, y_e, z_e = temp_df[\"end_x\"].values, temp_df[\"end_y\"].values, temp_df[\"end_z\"].values\n",
    "    for num in range(len(x_s)):\n",
    "        if (x_s[num] > 200 or x_s[num] < -200):\n",
    "            return 0\n",
    "        if (x_e[num] > 200 or x_e[num] < -200):\n",
    "            return 0\n",
    "        if (y_s[num] > 200 or y_s[num] < -200):\n",
    "            return 0\n",
    "        if (y_e[num] > 200 or y_e[num] < -200):\n",
    "            return 0\n",
    "        if (z_s[num] > 500 or z_s[num] < 0):\n",
    "            return 0\n",
    "        if (z_e[num] > 500 or z_e[num] < 0):\n",
    "            return 0\n",
    "        return 1\n",
    "\n",
    "\n",
    "  \n",
    "slc_df[\"primCont\"] = slc_df.apply(is_prim_cont, axis=1)    \n",
    "\n",
    "slc_df[:2]"
   ]
  },
  {
   "cell_type": "code",
   "execution_count": null,
   "id": "149cc9d4-f70f-4262-8092-ca7cc2abd7cf",
   "metadata": {},
   "outputs": [],
   "source": [
    "# Let's look at the file composition\n",
    "\n",
    "\n",
    "bin_centers = [0, 1]\n",
    "bin_width = 1\n",
    "N_prev_sel = 0\n",
    "N_prev_rej = 0\n",
    "for num in range(len(topology_labels.keys())):\n",
    "    temp_df = slc_df.query(topology_selections[num])\n",
    "    N_top = temp_df.shape[0]\n",
    "    N_sel = temp_df.query(\"primCont == 1\").shape[0]\n",
    "    N_rej = N_top - N_sel\n",
    "    \n",
    "    plt.bar(bin_centers, [N_sel, N_rej], width=bin_width, bottom=[N_prev_sel, N_prev_rej], \n",
    "            alpha=0.6, label=topology_labels[num])\n",
    "    N_prev_sel += N_sel\n",
    "    N_prev_rej += N_rej\n",
    "\n",
    "#plt.errorbar([1], [N], xerr=[0.5], yerr=np.sqrt(N), fmt=\"o\", c=\"black\", label=\"All Slices\")\n",
    "#plt.legend(loc='center left', bbox_to_anchor=(1, 0.5), ncol=1)\n",
    "plt.legend()\n",
    "#plt.xticks([])\n",
    "plt.xticks([0, 1], ['Contained in TPC', 'Not Contained'])\n",
    "plt.ylabel(\"Slice Count\", fontsize=14)\n",
    "plt.ylim([0, N])\n",
    "plt.title(\"All Primary Particles\")\n",
    "plt.show()"
   ]
  },
  {
   "cell_type": "code",
   "execution_count": null,
   "id": "2a6d00f2-401c-4b8b-b179-47176d6613db",
   "metadata": {},
   "outputs": [],
   "source": []
  }
 ],
 "metadata": {
  "kernelspec": {
   "display_name": "pyROOT_3.9_env",
   "language": "python",
   "name": "pyroot_3.9_env"
  },
  "language_info": {
   "codemirror_mode": {
    "name": "ipython",
    "version": 3
   },
   "file_extension": ".py",
   "mimetype": "text/x-python",
   "name": "python",
   "nbconvert_exporter": "python",
   "pygments_lexer": "ipython3",
   "version": "3.9.17"
  }
 },
 "nbformat": 4,
 "nbformat_minor": 5
}
