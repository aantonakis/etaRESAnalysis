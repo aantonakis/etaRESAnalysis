{
 "cells": [
  {
   "cell_type": "code",
   "execution_count": null,
   "id": "f77d539d-133e-49fc-a188-4fe56756df1b",
   "metadata": {},
   "outputs": [],
   "source": [
    "# Cosmic Rate from SRTrueParticles"
   ]
  },
  {
   "cell_type": "code",
   "execution_count": null,
   "id": "3443e9f3-d9cd-4e05-84c9-de82e1e7140c",
   "metadata": {},
   "outputs": [],
   "source": [
    "import ROOT\n",
    "import numpy as np\n",
    "import os\n",
    "import matplotlib.pyplot as plt\n",
    "from mpl_toolkits.mplot3d import Axes3D\n",
    "from mpl_toolkits.mplot3d.art3d import Poly3DCollection\n",
    "import sys\n",
    "import multiprocessing as mp\n",
    "import uproot\n",
    "import pandas as pd\n",
    "import pickle\n",
    "import h5py\n",
    "import gzip\n",
    "import math\n",
    "import timeit\n",
    "\n",
    "\n",
    "#MC CV Sample --> High Stats\n",
    "#infile = \"../NTuples/mc_production_with_fmatch_ntuple_more_stats.root\"\n",
    "infile = \"../NTuples/mc_production_true_particles_ntuple_v2.root\""
   ]
  },
  {
   "cell_type": "code",
   "execution_count": null,
   "id": "a3d5bd51-bd3f-431c-b916-a8626ff06458",
   "metadata": {},
   "outputs": [],
   "source": [
    "inFile = uproot.open(infile)\n",
    "\n",
    "inFileROOT = ROOT.TFile.Open(infile, \"READ\")\n",
    "#h_tot_pot = inFileROOT.Get(\"TotalPOT\")\n",
    "h_tot_pot = inFileROOT.Get(\"TOTPOT_Clone\")\n",
    "TOT_POT = h_tot_pot.GetBinContent(1)\n",
    "inFileROOT.Close()\n",
    "TOT_POT = f\"{TOT_POT:.2e}\"\n",
    "print(\"Total POT\", TOT_POT)\n",
    "\n",
    "#slc_tree = inFile[\"slc_truth_tree\"]\n",
    "part_tree1 = inFile[\"part_tree1\"]\n",
    "#part_tree2 = inFile[\"part_tree2\"]\n",
    "part_tree3 = inFile[\"part_tree3\"]\n",
    "\n",
    "\n",
    "part_df1 = part_tree1.arrays(part_tree1.keys(), library=\"pd\")\n",
    "#part_df2 = part_tree2.arrays(part_tree2.keys(), library=\"pd\")\n",
    "part_df3 = part_tree3.arrays(part_tree3.keys(), library=\"pd\")\n",
    "\n",
    "\n",
    "part_df1[:2]"
   ]
  },
  {
   "cell_type": "code",
   "execution_count": null,
   "id": "05d7d5d3-e88a-4966-812b-5dbdf74828f8",
   "metadata": {},
   "outputs": [],
   "source": [
    "#cosmic_df3[\"interaction_id\"] = cosmic_df1[\"interaction_id\"]\n",
    "\n",
    "part_df3[\"pdg\"] = part_df1[\"pdg\"]\n",
    "part_df3[\"interaction_id\"] = part_df1[\"interaction_id\"]\n",
    "\n",
    "cosmic_df1 = part_df1.query(\"(pdg == 13 or pdg == -13) and interaction_id == -1\")\n",
    "#cosmic_df2 = part_df2.query(\"pdg == 13 or pdg == -13\")\n",
    "cosmic_df3 = part_df3.query(\"(pdg == 13 or pdg == -13) and interaction_id == -1\")\n",
    "\n",
    "cosmic_df3[:2]"
   ]
  },
  {
   "cell_type": "code",
   "execution_count": null,
   "id": "baca2c65-7482-4541-bab0-5875ac36b1fb",
   "metadata": {},
   "outputs": [],
   "source": [
    "def is_AV(row):\n",
    "    xs,ys,zs = row[\"start_x\"], row[\"start_y\"], row[\"start_z\"]\n",
    "    #xe,ye,ze = row[\"end_x\"], row[\"end_y\"], row[\"end_z\"]\n",
    "    v = -9998\n",
    "    if (xs > v and ys > v and zs > v):\n",
    "    #and xe > v and ye > v and ze > v):\n",
    "        return 1\n",
    "    else:\n",
    "        return 0\n",
    "\n",
    "cosmic_df3[\"AV\"] = cosmic_df3.apply(is_AV, axis=1)\n",
    "cosmic_df3[:4]"
   ]
  },
  {
   "cell_type": "code",
   "execution_count": null,
   "id": "50992534-a3a1-4d4d-a0b2-0e6aa7b719b6",
   "metadata": {},
   "outputs": [],
   "source": [
    "def inTime(row):\n",
    "    t = row[\"startT\"]\n",
    "    if 0 <= t <= 2:\n",
    "        return 1\n",
    "    else:\n",
    "        return 0\n",
    "\n",
    "cosmic_df3[\"inTime\"] = cosmic_df3.apply(inTime, axis=1)\n",
    "cosmic_df3[:2]"
   ]
  },
  {
   "cell_type": "code",
   "execution_count": null,
   "id": "553d5c6e-4af9-4daa-b4fa-196c3289c092",
   "metadata": {},
   "outputs": [],
   "source": [
    "#cosmic_tpc = cosmic_df3.query(\"AV == 1 and inTime == 1\")\n",
    "cosmic_tpc = cosmic_df3.query(\"AV == 1\")\n",
    "cosmic_tpc = cosmic_tpc.drop_duplicates()\n",
    "cosmic_tpc[:2]"
   ]
  },
  {
   "cell_type": "code",
   "execution_count": null,
   "id": "621362ff-b157-4ab1-98c0-0279951965a6",
   "metadata": {},
   "outputs": [],
   "source": [
    "t_cosmic = cosmic_tpc[\"startT\"].values\n",
    "delT = np.max(t_cosmic) - np.min(t_cosmic)\n",
    "print(delT)"
   ]
  },
  {
   "cell_type": "markdown",
   "id": "5fd8894d-be80-4ec5-8e41-60251c9f7075",
   "metadata": {},
   "source": [
    "# Event Loop for Rate"
   ]
  },
  {
   "cell_type": "code",
   "execution_count": null,
   "id": "193be96f-4504-4759-a976-aa08e9733e4e",
   "metadata": {},
   "outputs": [],
   "source": [
    "evt_tree = inFile[\"event_tree\"]\n",
    "evt_df = evt_tree.arrays(evt_tree.keys(), library=\"pd\")\n",
    "evt_df = evt_df.drop_duplicates()\n",
    "evt_df[:2]"
   ]
  },
  {
   "cell_type": "code",
   "execution_count": null,
   "id": "1bf97ca2-e67d-4905-9d2b-1e4bd0cd4714",
   "metadata": {},
   "outputs": [],
   "source": [
    "runs = evt_df[\"run\"].values\n",
    "subruns = evt_df[\"subrun\"].values\n",
    "\n",
    "data = {'run': runs,\n",
    "        'subrun': subruns,\n",
    "       }\n",
    "\n",
    "header_df = pd.DataFrame(data)\n",
    "header_df = header_df.drop_duplicates()\n",
    "\n",
    "header_df[:2]"
   ]
  },
  {
   "cell_type": "code",
   "execution_count": null,
   "id": "2809fb2f-c338-4cf5-b1a5-cd7f1270fad0",
   "metadata": {},
   "outputs": [],
   "source": [
    "def get_genevt(row):\n",
    "    r = row[\"run\"]\n",
    "    sr = row[\"subrun\"]\n",
    "    g = evt_df.query(\"run == \"+str(r) + \" and subrun == \"+str(sr))[\"ngenevt\"].values\n",
    "    if g[-1] != g[0]:\n",
    "        print(\"diff ?\")\n",
    "    return g[0]\n",
    "\n",
    "\n",
    "header_df[\"genevt\"] = header_df.apply(get_genevt, axis=1)\n",
    "header_df[:3]"
   ]
  },
  {
   "cell_type": "code",
   "execution_count": null,
   "id": "883366fc-6a95-42fd-a25b-3ad86c81d1a0",
   "metadata": {},
   "outputs": [],
   "source": [
    "N_cosmic_tot = 0\n",
    "N_cosmic = 0\n",
    "\n",
    "# Loop over events\n",
    "for num in range(evt_df.shape[0]):\n",
    "    if num % 10000 == 0:\n",
    "        print(\"Analyzing event\", num)\n",
    "        \n",
    "    row = evt_df.iloc[num]\n",
    "    r, sr, e = row[\"run\"], row[\"subrun\"], row[\"evt\"]\n",
    "\n",
    "    # check cosmic number\n",
    "    m1 = (cosmic_tpc[\"run\"].values == r)\n",
    "    m2 = (cosmic_tpc[\"subrun\"].values == sr)\n",
    "    m3 = (cosmic_tpc[\"evt\"].values == e) \n",
    "    m = m1 & m2 & m3\n",
    "    N = np.sum(m)\n",
    "    N_cosmic_tot += N\n",
    "    #N = len(np.array(cosmic_tpc[\"pdg\"].values)[m])\n",
    "    #print(\"number of cosmics\", N_cosmic)\n",
    "    if N > 0:\n",
    "        N_cosmic += 1\n",
    "    \n",
    "\n",
    "print(\"Done!\")"
   ]
  },
  {
   "cell_type": "code",
   "execution_count": null,
   "id": "da2bc70a-beb3-4259-a0a2-fcd93b1c04b5",
   "metadata": {},
   "outputs": [],
   "source": [
    "print((1.0*N_cosmic)/evt_df.shape[0])"
   ]
  },
  {
   "cell_type": "code",
   "execution_count": null,
   "id": "f2b5929e-8e67-4c61-b392-d19f17a13304",
   "metadata": {},
   "outputs": [],
   "source": [
    "E_tot = np.sum(header_df[\"genevt\"].values)\n",
    "\n",
    "print((1.0*N_cosmic)/E_tot)"
   ]
  },
  {
   "cell_type": "code",
   "execution_count": null,
   "id": "29a76b71-7df0-4563-a707-a0389eabe23f",
   "metadata": {},
   "outputs": [],
   "source": [
    "r = (1.0*N_cosmic_tot)/(E_tot*3000)\n",
    "\n",
    "r *= 1.6\n",
    "\n",
    "print(r)"
   ]
  },
  {
   "cell_type": "code",
   "execution_count": null,
   "id": "d1e0b20a-9fd7-45ec-a830-4350c2f2b833",
   "metadata": {},
   "outputs": [],
   "source": [
    "E_tot_p = header_df.shape[0]*50"
   ]
  },
  {
   "cell_type": "code",
   "execution_count": null,
   "id": "3fac43bf-9211-44e1-a715-e64af53d9eea",
   "metadata": {},
   "outputs": [],
   "source": [
    "print(E_tot)\n",
    "print(E_tot_p)"
   ]
  },
  {
   "cell_type": "code",
   "execution_count": null,
   "id": "9cd9120d-a52e-4691-ba56-d8b1241fa058",
   "metadata": {},
   "outputs": [],
   "source": [
    "num_runs = len(list(set(list(header_df[\"run\"].values))))\n",
    "\n",
    "E_tot_p2 = num_runs*50\n",
    "print(E_tot_p2)"
   ]
  },
  {
   "cell_type": "code",
   "execution_count": null,
   "id": "8d8fb166-59e1-4716-ad6f-ff7b5c8d9e4f",
   "metadata": {},
   "outputs": [],
   "source": [
    "r = (1.0*N_cosmic_tot)/(E_tot_p2*delT)\n",
    "\n",
    "r *= 1.6\n",
    "\n",
    "print(r)"
   ]
  },
  {
   "cell_type": "code",
   "execution_count": null,
   "id": "55b50429-59cd-4675-851b-487109acca04",
   "metadata": {},
   "outputs": [],
   "source": [
    "print(evt_df.shape[0]/E_tot)"
   ]
  },
  {
   "cell_type": "code",
   "execution_count": null,
   "id": "82181b5a-3718-4438-af92-0c0765a6177b",
   "metadata": {},
   "outputs": [],
   "source": [
    "print(0.17571879170205024*0.14)"
   ]
  },
  {
   "cell_type": "code",
   "execution_count": null,
   "id": "3bffd39f-6bcb-4b52-8c51-0b95d06134c6",
   "metadata": {},
   "outputs": [],
   "source": [
    "print(0.17571879170205024*0.04)"
   ]
  },
  {
   "cell_type": "code",
   "execution_count": null,
   "id": "30090ac6-769a-4e64-8611-21d83c293391",
   "metadata": {},
   "outputs": [],
   "source": []
  }
 ],
 "metadata": {
  "kernelspec": {
   "display_name": "pyROOT_3.9_env",
   "language": "python",
   "name": "pyroot_3.9_env"
  },
  "language_info": {
   "codemirror_mode": {
    "name": "ipython",
    "version": 3
   },
   "file_extension": ".py",
   "mimetype": "text/x-python",
   "name": "python",
   "nbconvert_exporter": "python",
   "pygments_lexer": "ipython3",
   "version": "3.9.17"
  }
 },
 "nbformat": 4,
 "nbformat_minor": 5
}
