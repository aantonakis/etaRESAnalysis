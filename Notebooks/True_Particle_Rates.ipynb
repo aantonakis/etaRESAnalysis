{
 "cells": [
  {
   "cell_type": "code",
   "execution_count": null,
   "id": "036c6f3a-9f3d-4568-8206-c964860eca66",
   "metadata": {},
   "outputs": [],
   "source": [
    "# Explore the Event Rates in SBND"
   ]
  },
  {
   "cell_type": "code",
   "execution_count": null,
   "id": "64d042b3-2bd1-4866-bb7a-1289dadd69eb",
   "metadata": {},
   "outputs": [],
   "source": [
    "import ROOT\n",
    "import numpy as np\n",
    "import os\n",
    "import matplotlib.pyplot as plt\n",
    "from mpl_toolkits.mplot3d import Axes3D\n",
    "from mpl_toolkits.mplot3d.art3d import Poly3DCollection\n",
    "import sys\n",
    "import multiprocessing as mp\n",
    "import uproot\n",
    "import pandas as pd\n",
    "import pickle\n",
    "import h5py\n",
    "import gzip\n",
    "import math\n",
    "import timeit\n",
    "\n",
    "\n",
    "#MC CV Sample --> High Stats\n",
    "#infile = \"../NTuples/mc_production_with_fmatch_ntuple_more_stats.root\"\n",
    "infile = \"../NTuples/mc_production_true_particles_ntuple_v2.root\""
   ]
  },
  {
   "cell_type": "code",
   "execution_count": null,
   "id": "df9018f3-b8ac-49c9-b473-373e0e9d394e",
   "metadata": {},
   "outputs": [],
   "source": [
    "inFile = uproot.open(infile)\n",
    "\n",
    "inFileROOT = ROOT.TFile.Open(infile, \"READ\")\n",
    "#h_tot_pot = inFileROOT.Get(\"TotalPOT\")\n",
    "h_tot_pot = inFileROOT.Get(\"TOTPOT_Clone\")\n",
    "TOT_POT = h_tot_pot.GetBinContent(1)\n",
    "inFileROOT.Close()\n",
    "TOT_POT = f\"{TOT_POT:.2e}\"\n",
    "print(\"Total POT\", TOT_POT)\n",
    "\n",
    "#slc_tree = inFile[\"slc_truth_tree\"]\n",
    "part_tree1 = inFile[\"part_tree1\"]\n",
    "#part_tree2 = inFile[\"part_tree2\"]\n",
    "part_tree3 = inFile[\"part_tree3\"]\n",
    "\n",
    "\n",
    "part_df1 = part_tree1.arrays(part_tree1.keys(), library=\"pd\")\n",
    "#part_df2 = part_tree2.arrays(part_tree2.keys(), library=\"pd\")\n",
    "part_df3 = part_tree3.arrays(part_tree3.keys(), library=\"pd\")\n",
    "\n",
    "\n",
    "part_df1[:2]"
   ]
  },
  {
   "cell_type": "code",
   "execution_count": null,
   "id": "88974ef8-6b71-45d2-a23e-2b7f1a014409",
   "metadata": {},
   "outputs": [],
   "source": [
    "#part_df2[:2]"
   ]
  },
  {
   "cell_type": "code",
   "execution_count": null,
   "id": "ea0b7433-f5a7-42e7-8db1-e7ce1837b19e",
   "metadata": {},
   "outputs": [],
   "source": [
    "part_df3[:2]"
   ]
  },
  {
   "cell_type": "markdown",
   "id": "67882a4e-972f-4e97-aef7-7a177e27b2e6",
   "metadata": {},
   "source": [
    "# Get the Neutrinos in Truth"
   ]
  },
  {
   "cell_type": "code",
   "execution_count": null,
   "id": "8672f17c-e08e-4b9b-bc7c-870cc9037813",
   "metadata": {},
   "outputs": [],
   "source": [
    "#part_df2[\"pdg\"] = part_df1[\"pdg\"]\n",
    "part_df3[\"pdg\"] = part_df1[\"pdg\"]\n",
    "part_df3[\"interaction_id\"] = part_df1[\"interaction_id\"]\n",
    "\n",
    "nu_df1 = part_df1.query(\"(pdg == 12 or pdg == -12 or pdg == 14 or pdg == -14) and interaction_id != -1\")\n",
    "#nu_df2 = part_df2.query(\"pdg == 12 or pdg == -12 or pdg == 14 or pdg == -14\")\n",
    "nu_df3 = part_df3.query(\"(pdg == 12 or pdg == -12 or pdg == 14 or pdg == -14) and interaction_id != -1\")\n",
    "\n",
    "nu_df3[:2]"
   ]
  },
  {
   "cell_type": "markdown",
   "id": "c575da6a-d048-4676-a945-b3d1782b0406",
   "metadata": {},
   "source": [
    "# All Neutrino Interaction IDs "
   ]
  },
  {
   "cell_type": "code",
   "execution_count": null,
   "id": "8371d7e0-098a-4d13-9afc-a674a155e5f8",
   "metadata": {},
   "outputs": [],
   "source": [
    "int_ids = list(set(list(nu_df3[\"interaction_id\"].values)))\n",
    "print(int_ids)"
   ]
  },
  {
   "cell_type": "code",
   "execution_count": null,
   "id": "1a65b4b9-b85a-41ec-af2d-2e78112f0d3b",
   "metadata": {},
   "outputs": [],
   "source": [
    "def is_AV(row):\n",
    "    xs,ys,zs = row[\"start_x\"], row[\"start_y\"], row[\"start_z\"]\n",
    "    xe,ye,ze = row[\"end_x\"], row[\"end_y\"], row[\"end_z\"]\n",
    "    v = -9998\n",
    "    if (xs > v and ys > v and zs > v and xe > v and ye > v and ze > v):\n",
    "        return 1\n",
    "    else:\n",
    "        return 0\n",
    "\n",
    "nu_df3[\"AV\"] = nu_df3.apply(is_AV, axis=1)\n",
    "nu_df3[:4]"
   ]
  },
  {
   "cell_type": "markdown",
   "id": "9649e462-9b27-4473-9169-d0ad123a83e3",
   "metadata": {},
   "source": [
    "# AV and Dirt Interaction IDs"
   ]
  },
  {
   "cell_type": "code",
   "execution_count": null,
   "id": "d973bb79-3678-4830-926b-81e6c933e8c5",
   "metadata": {},
   "outputs": [],
   "source": [
    "av_int_ids = list(set(list(nu_df3.query(\"AV == 1\")[\"interaction_id\"].values)))\n",
    "dirt_int_ids = list(set(list(nu_df3.query(\"AV == 0\")[\"interaction_id\"].values)))\n",
    "print(av_int_ids)\n",
    "print(dirt_int_ids)"
   ]
  },
  {
   "cell_type": "code",
   "execution_count": null,
   "id": "3d367f69-6533-4939-9b76-12127f68d7d4",
   "metadata": {},
   "outputs": [],
   "source": [
    "plt.hist(nu_df3.query(\"AV == 1 and 0 <= startT <= 10\")[\"startT\"].values, bins=50, histtype=\"step\", label=\"AV startT\")\n",
    "plt.hist(nu_df3.query(\"AV == 1 and 0 <= startT <= 10\")[\"genT\"].values, bins=50, histtype=\"step\", label=\"AV genT\")\n",
    "plt.hist(nu_df3.query(\"AV == 0 and 0 <= genT <= 10\")[\"genT\"].values, bins=50, histtype=\"step\", label=\"Dirt genT\")\n",
    "plt.xlabel(\"True Time Relative to Beam Spill [us]\", fontsize=14)\n",
    "plt.xlim([0, 10])\n",
    "#plt.yscale(\"log\")\n",
    "plt.legend()\n",
    "plt.show()"
   ]
  },
  {
   "cell_type": "code",
   "execution_count": null,
   "id": "146ac456-a6a9-42f7-943d-b6108db65a68",
   "metadata": {},
   "outputs": [],
   "source": [
    "B = np.arange(0, 10, 0.1)\n",
    "for num in av_int_ids:\n",
    "    t = nu_df3.query(\"AV == 1 and 0 <= startT <= 10 and interaction_id == \"+str(num))[\"startT\"].values\n",
    "    plt.hist(t, bins=B, histtype=\"step\", label=str(num))\n",
    "\n",
    "plt.xlabel(\"True Start Time Relative to Beam Spill [us]\", fontsize=14)\n",
    "plt.legend()\n",
    "plt.yscale(\"log\")\n",
    "plt.title(\"AV Neutrino Interaction IDs\", fontsize=14)\n",
    "plt.show()"
   ]
  },
  {
   "cell_type": "code",
   "execution_count": null,
   "id": "b5478bd3-e37a-46e0-9150-0d381bf3f043",
   "metadata": {},
   "outputs": [],
   "source": [
    "#plt.hist(nu_df3.query(\"AV == 1 and 0 <= startT <= 10\")[\"startT\"].values, bins=50, histtype=\"step\", label=\"AV startT\")\n",
    "plt.hist(nu_df3.query(\"AV == 1\")[\"genT\"].values, bins=50, histtype=\"step\", label=\"AV genT\")\n",
    "plt.hist(nu_df3.query(\"AV == 1\")[\"startT\"].values, bins=50, histtype=\"step\", label=\"AV startT\")\n",
    "plt.hist(nu_df3.query(\"AV == 0\")[\"genT\"].values, bins=50, histtype=\"step\", label=\"Dirt\")\n",
    "#plt.xlim([0, 10])\n",
    "plt.yscale(\"log\")\n",
    "plt.legend()\n",
    "plt.show()"
   ]
  },
  {
   "cell_type": "code",
   "execution_count": null,
   "id": "ad3319fd-215b-4fe0-b463-2bad28605e60",
   "metadata": {},
   "outputs": [],
   "source": [
    "plt.hist(nu_df3.query(\"AV == 1\")[\"endT\"].values, bins=50, histtype=\"step\", label=\"AV endT\")\n",
    "plt.yscale(\"log\")\n",
    "plt.legend()\n",
    "plt.show()"
   ]
  },
  {
   "cell_type": "code",
   "execution_count": null,
   "id": "bd1a3f5c-32ac-488a-af2b-6ac595f609cf",
   "metadata": {},
   "outputs": [],
   "source": [
    "plt.hist(nu_df3.query(\"AV == 1 and 0<= endT <= 10\")[\"endT\"].values, bins=B, histtype=\"step\", label=\"AV endT\")\n",
    "plt.plot([1.6, 1.6], [0.00001, 10**4], c=\"r\", label=\"1.6 us\")\n",
    "plt.plot([2, 2], [0.00001, 10**4], c=\"g\", label=\"2 us\")\n",
    "#plt.yscale(\"log\")\n",
    "plt.legend()\n",
    "plt.show()"
   ]
  },
  {
   "cell_type": "code",
   "execution_count": null,
   "id": "109897f0-7242-416a-91b7-8e8b8f57d9a8",
   "metadata": {},
   "outputs": [],
   "source": [
    "x = nu_df3.query(\"AV == 1 and 0<= endT <= 10\")[\"end_x\"].values\n",
    "y = nu_df3.query(\"AV == 1 and 0<= endT <= 10\")[\"end_y\"].values\n",
    "\n",
    "#plt.hist2d(x, y, bins=100, cmap)\n",
    "\n",
    "plt.title(\"AV Neutrinos (0 <= endT <= 10 us)\", fontsize=20)\n",
    "cmap = plt.colormaps['rainbow'].copy()  # Copy the colormap to modify it\n",
    "cmap.set_under(color='white')  \n",
    "hist = plt.hist2d(x, y, bins=50, cmap=cmap)\n",
    "cbar = plt.colorbar(hist[3], label='Counts')\n",
    "plt.xlabel(\"End X [cm]\", fontsize=14)\n",
    "plt.ylabel(\"End Y [cm]\", fontsize=14)\n",
    "#plt.xlim([min(x), max(x)])\n",
    "#plt.ylim([min(x), max(x)])\n",
    "#plt.savefig(fig_dir+\"heatmap_north_after.png\", format='png')\n",
    "plt.show()\n",
    "\n",
    "print(\"Max X\", max(x), \"Min X\", min(x))\n",
    "print(\"Max Y\", max(y), \"Min Y\", min(y))"
   ]
  },
  {
   "cell_type": "code",
   "execution_count": null,
   "id": "61321009-3787-4846-9ebd-1f6f66155aa8",
   "metadata": {},
   "outputs": [],
   "source": [
    "z = nu_df3.query(\"AV == 1 and 0<= endT <= 10\")[\"end_z\"].values\n",
    "y = nu_df3.query(\"AV == 1 and 0<= endT <= 10\")[\"end_y\"].values\n",
    "\n",
    "#plt.hist2d(x, y, bins=100, cmap)\n",
    "\n",
    "plt.title(\"AV Neutrinos (0 <= endT <= 10 us)\", fontsize=20)\n",
    "cmap = plt.colormaps['rainbow'].copy()  # Copy the colormap to modify it\n",
    "cmap.set_under(color='white')  \n",
    "hist = plt.hist2d(z, y, bins=50, cmap=cmap)\n",
    "cbar = plt.colorbar(hist[3], label='Counts')\n",
    "plt.xlabel(\"End Z [cm]\", fontsize=14)\n",
    "plt.ylabel(\"End Y [cm]\", fontsize=14)\n",
    "#plt.xlim([min(x), max(x)])\n",
    "#plt.ylim([min(x), max(x)])\n",
    "#plt.savefig(fig_dir+\"heatmap_north_after.png\", format='png')\n",
    "plt.show()\n",
    "\n",
    "print(\"Max Z\", max(z), \"Min Z\", min(z))"
   ]
  },
  {
   "cell_type": "code",
   "execution_count": null,
   "id": "d41126ae-20a8-4d77-ac2c-58ec971602c7",
   "metadata": {},
   "outputs": [],
   "source": [
    "def is_TPC(row):\n",
    "    xe,ye,ze = row[\"end_x\"], row[\"end_y\"], row[\"end_z\"]\n",
    "    xe, ye = abs(xe), abs(ye)\n",
    "    \n",
    "    if (xe <= 200 and ye <= 200 and 0 <= ze <= 500):\n",
    "        return 1\n",
    "    else:\n",
    "        return 0\n",
    "\n",
    "nu_df3[\"isTPC\"] = nu_df3.apply(is_TPC, axis=1)\n",
    "nu_df3[:3]"
   ]
  },
  {
   "cell_type": "code",
   "execution_count": null,
   "id": "80973691-23bc-4f50-ad97-b67cb12b9d48",
   "metadata": {},
   "outputs": [],
   "source": [
    "x = nu_df3.query(\"isTPC == 1 and 0<= endT <= 10\")[\"end_x\"].values\n",
    "y = nu_df3.query(\"isTPC == 1 and 0<= endT <= 10\")[\"end_y\"].values\n",
    "\n",
    "#plt.hist2d(x, y, bins=100, cmap)\n",
    "\n",
    "plt.title(\"TPC Neutrinos (0 <= endT <= 10 us)\", fontsize=20)\n",
    "cmap = plt.colormaps['rainbow'].copy()  # Copy the colormap to modify it\n",
    "cmap.set_under(color='white')  \n",
    "hist = plt.hist2d(x, y, bins=50, cmap=cmap)\n",
    "cbar = plt.colorbar(hist[3], label='Counts')\n",
    "plt.xlabel(\"End X [cm]\", fontsize=14)\n",
    "plt.ylabel(\"End Y [cm]\", fontsize=14)\n",
    "#plt.xlim([min(x), max(x)])\n",
    "#plt.ylim([min(x), max(x)])\n",
    "#plt.savefig(fig_dir+\"heatmap_north_after.png\", format='png')\n",
    "plt.show()"
   ]
  },
  {
   "cell_type": "code",
   "execution_count": null,
   "id": "0e2001cb-317b-4537-9df6-edde3ac687f0",
   "metadata": {},
   "outputs": [],
   "source": [
    "z = nu_df3.query(\"isTPC == 1 and 0<= endT <= 10\")[\"end_z\"].values\n",
    "y = nu_df3.query(\"isTPC == 1 and 0<= endT <= 10\")[\"end_y\"].values\n",
    "\n",
    "#plt.hist2d(x, y, bins=100, cmap)\n",
    "\n",
    "plt.title(\"TPC Neutrinos (0 <= endT <= 10 us)\", fontsize=20)\n",
    "cmap = plt.colormaps['rainbow'].copy()  # Copy the colormap to modify it\n",
    "cmap.set_under(color='white')  \n",
    "hist = plt.hist2d(z, y, bins=50, cmap=cmap)\n",
    "cbar = plt.colorbar(hist[3], label='Counts')\n",
    "plt.xlabel(\"End Z [cm]\", fontsize=14)\n",
    "plt.ylabel(\"End Y [cm]\", fontsize=14)\n",
    "#plt.xlim([min(x), max(x)])\n",
    "#plt.ylim([min(x), max(x)])\n",
    "#plt.savefig(fig_dir+\"heatmap_north_after.png\", format='png')\n",
    "plt.show()"
   ]
  },
  {
   "cell_type": "code",
   "execution_count": null,
   "id": "9fb8776f-a1f7-4e2b-85d4-628bc182dea4",
   "metadata": {},
   "outputs": [],
   "source": [
    "plt.hist(nu_df3.query(\"isTPC == 1 and 0 <= endT <= 10\")[\"endT\"].values, bins=B, histtype=\"step\", label=\"TPC\")\n",
    "plt.hist(nu_df3.query(\"isTPC == 0 and 0 <= genT <= 10\")[\"genT\"].values, bins=B, histtype=\"step\", label=\"Not TPC\")\n",
    "plt.hist(nu_df3.query(\"isTPC == 0 and AV == 1 and (0 <= endT <= 10)\")[\"endT\"].values, \n",
    "         bins=B, histtype=\"step\", label=\"Not TPC and AV\")\n",
    "plt.hist(nu_df3.query(\"AV == 0 and isTPC == 0 and 0 <= genT <= 10\")[\"genT\"].values, \n",
    "         bins=B, histtype=\"step\", label=\"Not AV and Not TPC\")\n",
    "#plt.plot([1.6, 1.6], [0.00001, 10**4], c=\"r\", label=\"1.6 us\")\n",
    "#plt.plot([2, 2], [0.00001, 10**4], c=\"g\", label=\"2 us\")\n",
    "plt.xlabel(\"True Time Since the Beam Spill [us]\", fontsize=14)\n",
    "plt.yscale(\"log\")\n",
    "plt.legend()\n",
    "plt.show()"
   ]
  },
  {
   "cell_type": "code",
   "execution_count": null,
   "id": "8c594faa-d2e7-4d7f-87ae-6bc22516e0f6",
   "metadata": {},
   "outputs": [],
   "source": [
    "B = np.arange(0, 10, 0.1)\n",
    "for num in dirt_int_ids:\n",
    "    t = nu_df3.query(\"isTPC == 0 and 0 <= genT <= 10 and interaction_id == \"+str(num))[\"genT\"].values\n",
    "    plt.hist(t, bins=B, histtype=\"step\", label=str(num))\n",
    "\n",
    "plt.xlabel(\"True Gen Time Relative to Beam Spill [us]\", fontsize=14)\n",
    "plt.legend()\n",
    "plt.yscale(\"log\")\n",
    "plt.title(\"Dirt Neutrino Interaction IDs\", fontsize=14)\n",
    "plt.show()"
   ]
  },
  {
   "cell_type": "code",
   "execution_count": null,
   "id": "814a930b-311c-4927-8d2d-e1a918decd36",
   "metadata": {},
   "outputs": [],
   "source": [
    "nu_df1[:5]"
   ]
  },
  {
   "cell_type": "code",
   "execution_count": null,
   "id": "b03074a6-2008-47f7-b5e7-94ed841a5816",
   "metadata": {},
   "outputs": [],
   "source": [
    "nu_df1[\"isTPC\"] = nu_df3[\"isTPC\"]\n",
    "nu_df1[:2]"
   ]
  },
  {
   "cell_type": "code",
   "execution_count": null,
   "id": "41fed3b5-a550-4b0a-8c58-f02a29fa688f",
   "metadata": {},
   "outputs": [],
   "source": [
    "\n",
    "def num_d(row):\n",
    "\n",
    "    N_inter = 0\n",
    "    #for num in range(nu_df1.query(\"isTPC == 1\").shape[0]):\n",
    "\n",
    "    #nu_ex1 = nu_df1.query(\"isTPC == 1\").iloc[num]\n",
    "    #nu_ex3 = nu_df3.query(\"isTPC == 1\").iloc[num]\n",
    "\n",
    "    #nu_ex1[:]\n",
    "    \n",
    "    id = row[\"G4ID\"]\n",
    "\n",
    "    #print(id)\n",
    "\n",
    "    r, sr, e = row[\"run\"], row[\"subrun\"], row[\"evt\"]\n",
    "    \n",
    "    m1 = (part_df1[\"run\"].values == r)\n",
    "    m2 = (part_df1[\"subrun\"].values == sr)\n",
    "    m3 = (part_df1[\"evt\"].values == e)\n",
    "    m4 = (part_df1[\"parent\"].values == id)\n",
    "    m = m1 & m2 & m3 & m4\n",
    "\n",
    "    pdgs = part_df1[\"pdg\"].values[m]\n",
    "\n",
    "    return len(pdgs)\n",
    "\n",
    "nu_df1[\"numD\"] = nu_df1.apply(num_d, axis=1)\n",
    "nu_df1[:2]"
   ]
  },
  {
   "cell_type": "markdown",
   "id": "e48264cf-4aa6-4f64-812e-fe60ab7fa1c5",
   "metadata": {},
   "source": [
    "# Get the Cosmics in Truth"
   ]
  },
  {
   "cell_type": "code",
   "execution_count": null,
   "id": "cc6ebd1d-a60c-48bd-9aa4-831876f68bd9",
   "metadata": {},
   "outputs": [],
   "source": [
    "#cosmic_df3[\"interaction_id\"] = cosmic_df1[\"interaction_id\"]\n",
    "cosmic_df1 = part_df1.query(\"(pdg == 13 or pdg == -13) and interaction_id == -1\")\n",
    "#cosmic_df2 = part_df2.query(\"pdg == 13 or pdg == -13\")\n",
    "cosmic_df3 = part_df3.query(\"(pdg == 13 or pdg == -13) and interaction_id == -1\")\n",
    "\n",
    "cosmic_df3[:2]"
   ]
  },
  {
   "cell_type": "code",
   "execution_count": null,
   "id": "dd1b94f5-7d85-40c8-bf40-95060c364f64",
   "metadata": {},
   "outputs": [],
   "source": [
    "plt.hist(cosmic_df3[\"genT\"].values, bins=50, histtype=\"step\", label=\"Cosmic Muons\")\n",
    "\n",
    "#plt.xlim([0, 10])\n",
    "plt.yscale(\"log\")\n",
    "plt.legend()\n",
    "plt.show()"
   ]
  },
  {
   "cell_type": "code",
   "execution_count": null,
   "id": "6132cf6d-f67d-4013-bb82-ab442c99e5b1",
   "metadata": {},
   "outputs": [],
   "source": [
    "plt.hist(cosmic_df3[\"startT\"].values, bins=50, histtype=\"step\", label=\"Cosmic Muons\")\n",
    "\n",
    "#plt.xlim([0, 10])\n",
    "plt.yscale(\"log\")\n",
    "plt.legend()\n",
    "plt.show()"
   ]
  },
  {
   "cell_type": "code",
   "execution_count": null,
   "id": "276d8eec-3c44-4cd2-9446-2ff9bbdf3987",
   "metadata": {},
   "outputs": [],
   "source": [
    "\n",
    "cosmic_df3[\"inTPC\"] = cosmic_df3.apply(is_AV, axis=1)\n",
    "cosmic_df3[:2]"
   ]
  },
  {
   "cell_type": "code",
   "execution_count": null,
   "id": "ca26b6ba-c55b-4806-94ea-83dad0a05cef",
   "metadata": {},
   "outputs": [],
   "source": [
    "plt.hist(cosmic_df3.query(\"inTPC == 1\")[\"startT\"].values, bins=50, histtype=\"step\", label=\"Cosmic Muons\")\n",
    "plt.xlabel(\"True Start Time of TPC interaction [us]\", fontsize=14)\n",
    "#plt.xlim([0, 10])\n",
    "plt.yscale(\"log\")\n",
    "plt.legend()\n",
    "plt.show()"
   ]
  },
  {
   "cell_type": "code",
   "execution_count": null,
   "id": "31a572d0-334f-4ecd-af13-64905fe73662",
   "metadata": {},
   "outputs": [],
   "source": [
    "B = np.arange(0, 10, 0.1)\n",
    "\n",
    "plt.hist(cosmic_df3.query(\"inTPC == 1 and 0 <= startT <= 10\")[\"startT\"].values, bins=B, histtype=\"step\", label=\"Cosmic Muons\")\n",
    "plt.hist(nu_df3.query(\"AV == 1 and 0 <= startT <= 10\")[\"startT\"].values, bins=B, histtype=\"step\", label=\"AV\")\n",
    "plt.hist(nu_df3.query(\"AV == 0 and 0 <= genT <= 10\")[\"genT\"].values, bins=B, histtype=\"step\", label=\"Dirt\")\n",
    "plt.xlabel(\"Time Since Beam Spill [\"+r\"$\\mu$s]\", fontsize=14)\n",
    "plt.ylabel(\"Counts/bin/\"+str(TOT_POT)+\" POT\", fontsize=14)\n",
    "plt.title(\"SBND MC: True Timing\", fontsize=14)\n",
    "#plt.xlim([0, 10])\n",
    "plt.yscale(\"log\")\n",
    "plt.legend()\n",
    "plt.show()"
   ]
  },
  {
   "cell_type": "markdown",
   "id": "766c62fb-3864-437d-a072-3df3a7eee637",
   "metadata": {},
   "source": [
    "# Do an event Loop to understand Rates"
   ]
  },
  {
   "cell_type": "code",
   "execution_count": null,
   "id": "71425bf1-3660-4d65-a1e0-29e729b7113f",
   "metadata": {},
   "outputs": [],
   "source": [
    "evt_tree = inFile[\"event_tree\"]\n",
    "evt_df = evt_tree.arrays(evt_tree.keys(), library=\"pd\")\n",
    "evt_df = evt_df.drop_duplicates()\n",
    "evt_df[:2]"
   ]
  },
  {
   "cell_type": "code",
   "execution_count": null,
   "id": "eac1cd40-8e36-4aa7-8e32-df905409596f",
   "metadata": {},
   "outputs": [],
   "source": [
    "runs = evt_df[\"run\"].values\n",
    "subruns = evt_df[\"subrun\"].values\n",
    "\n",
    "data = {'run': runs,\n",
    "        'subrun': subruns,\n",
    "       }\n",
    "\n",
    "header_df = pd.DataFrame(data)\n",
    "header_df = header_df.drop_duplicates()\n",
    "\n",
    "header_df[:2]"
   ]
  },
  {
   "cell_type": "code",
   "execution_count": null,
   "id": "0a4d8b7a-a2d6-4f9b-9b4c-2d9d84e52bf5",
   "metadata": {},
   "outputs": [],
   "source": [
    "def get_genevt(row):\n",
    "    r = row[\"run\"]\n",
    "    sr = row[\"subrun\"]\n",
    "    g = evt_df.query(\"run == \"+str(r) + \" and subrun == \"+str(sr))[\"ngenevt\"].values\n",
    "    if g[-1] != g[0]:\n",
    "        print(\"diff ?\")\n",
    "    return g[0]\n",
    "\n",
    "\n",
    "header_df[\"genevt\"] = header_df.apply(get_genevt, axis=1)\n",
    "header_df[:3]"
   ]
  },
  {
   "cell_type": "code",
   "execution_count": null,
   "id": "f69826b8-33a9-4163-91dd-720153b09d9c",
   "metadata": {},
   "outputs": [],
   "source": [
    "h_2d_nu = ROOT.TH2D(\"h_2d_nu\", \"\", 5, 0, 5, 5, 0, 5)\n",
    "h_2d_cosmic = ROOT.TH2D(\"h_2d_cosmic\", \"\", 5, 0, 5, 5, 0, 5)\n",
    "print(\"Initialized histos\")"
   ]
  },
  {
   "cell_type": "code",
   "execution_count": null,
   "id": "679dfc1a-9a1a-456b-a900-e07e1efbc18d",
   "metadata": {},
   "outputs": [],
   "source": [
    "# check beam window\n",
    "\n",
    "def is_nu_intime(row):\n",
    "    av = row[\"isTPC\"]\n",
    "    if av:\n",
    "        t = row[\"endT\"]\n",
    "        if 0<= t <= 2:\n",
    "            return 1\n",
    "        else:\n",
    "            return 0\n",
    "    else:\n",
    "        t = row[\"genT\"]\n",
    "        if 0<= t <= 2:\n",
    "            return 1\n",
    "        else:\n",
    "            return 0        \n",
    "            \n",
    "nu_df3[\"inTime\"] = nu_df3.apply(is_nu_intime, axis=1)\n",
    "nu_df3[:3]"
   ]
  },
  {
   "cell_type": "code",
   "execution_count": null,
   "id": "c1d268a0-cdcf-41bc-8367-31b335873e15",
   "metadata": {},
   "outputs": [],
   "source": [
    "# check beam window\n",
    "\n",
    "cosmic_tpc = cosmic_df3.query(\"inTPC == 1\")\n",
    "\n",
    "def is_cosmic_intime(row): \n",
    "    t = row[\"startT\"]\n",
    "    if 0<= t <= 2:\n",
    "        return 1\n",
    "    else:\n",
    "        return 0\n",
    "        \n",
    "            \n",
    "cosmic_tpc[\"inTime\"] = cosmic_tpc.apply(is_cosmic_intime, axis=1)\n",
    "cosmic_tpc[:3]"
   ]
  },
  {
   "cell_type": "code",
   "execution_count": null,
   "id": "09ffc301-619c-421a-8005-b6b433b0ff9b",
   "metadata": {},
   "outputs": [],
   "source": [
    "nu_df3 = nu_df3.query(\"inTime == 1\")\n",
    "cosmic_tpc = cosmic_tpc.query(\"inTime == 1\")\n",
    "cosmic_tpc[:2]"
   ]
  },
  {
   "cell_type": "code",
   "execution_count": null,
   "id": "429830a2-0ebe-4353-877f-4e0284038243",
   "metadata": {},
   "outputs": [],
   "source": [
    "\n",
    "N_cosmic_overall = 0\n",
    "\n",
    "# Loop over events\n",
    "for num in range(evt_df.shape[0]):\n",
    "    if num % 10000 == 0:\n",
    "        print(\"Analyzing event\", num)\n",
    "        \n",
    "    row = evt_df.iloc[num]\n",
    "    r, sr, e = row[\"run\"], row[\"subrun\"], row[\"evt\"]\n",
    "\n",
    "    # check cosmic number\n",
    "    m1 = (cosmic_tpc[\"run\"].values == r)\n",
    "    m2 = (cosmic_tpc[\"subrun\"].values == sr)\n",
    "    m3 = (cosmic_tpc[\"evt\"].values == e) \n",
    "    m = m1 & m2 & m3\n",
    "    N_cosmic = len(np.array(cosmic_tpc[\"pdg\"].values)[m])\n",
    "    #print(\"number of cosmics\", N_cosmic)\n",
    "    if N_cosmic > 0:\n",
    "        N_cosmic_overall += 1\n",
    "    \n",
    "    # check AV number\n",
    "    m1 = (nu_df3[\"run\"].values == r)\n",
    "    m2 = (nu_df3[\"subrun\"].values == sr)\n",
    "    m3 = (nu_df3[\"evt\"].values == e) \n",
    "    m4 = (nu_df3[\"isTPC\"].values == 1)\n",
    "    m5 = (nu_df3[\"isTPC\"].values == 0)\n",
    "    \n",
    "    m_av = m1 & m2 & m3 & m4\n",
    "    m_dirt = m1 & m2 & m3 & m5\n",
    "\n",
    "    #print(np.array(nu_df3[\"pdg\"].values)[m_av])\n",
    "    \n",
    "    N_av = len(np.array(nu_df3[\"pdg\"].values)[m_av])\n",
    "    N_dirt = len(np.array(nu_df3[\"pdg\"].values)[m_dirt])\n",
    "\n",
    "    #if num > 5:\n",
    "    #    break\n",
    "    \n",
    "    #print(\"number of AV\", N_av)\n",
    "    #print(\"number of Dirt\", N_dirt)\n",
    "    h_2d_cosmic.Fill(N_cosmic, N_av)\n",
    "    h_2d_nu.Fill(N_dirt, N_av)\n",
    "    \n",
    "print(\"Done!\")"
   ]
  },
  {
   "cell_type": "code",
   "execution_count": null,
   "id": "ab651462-509d-46dc-9bcd-b8903d49c43c",
   "metadata": {},
   "outputs": [],
   "source": [
    "ROOT.gStyle.SetPalette(ROOT.kRainBow)\n",
    "h_2d_nu.SetStats(0)\n",
    "h_2d_nu.SetTitle(\"\")\n",
    "\n",
    "c = ROOT.TCanvas(\"c\", \"c\", 700, 500)\n",
    "h_2d_nu.GetXaxis().SetTitle(\"Number of Dirt #nu\")\n",
    "h_2d_nu.GetYaxis().SetTitle(\"Number of AV #nu\")\n",
    "#h_2d_nu.GetZaxis().Setlog()\n",
    "ROOT.gStyle.SetPaintTextFormat(\"1.1e\")\n",
    "h_2d_nu.Draw(\"Colz TEXT\")\n",
    "ROOT.gPad.SetLogz()\n",
    "c.Draw()"
   ]
  },
  {
   "cell_type": "code",
   "execution_count": null,
   "id": "f52425d1-1263-4a4f-a77f-3bbf7c1610c5",
   "metadata": {},
   "outputs": [],
   "source": [
    "h_2d_cosmic.SetStats(0)\n",
    "h_2d_cosmic.SetTitle(\"\")\n",
    "#ROOT.gPad.SetLogz()\n",
    "c = ROOT.TCanvas(\"c\", \"c\", 700, 500)\n",
    "h_2d_cosmic.GetXaxis().SetTitle(\"Number of Cosmic\")\n",
    "h_2d_cosmic.GetYaxis().SetTitle(\"Number of AV #nu\")\n",
    "#h_2d_nu.GetZaxis().Setlog()\n",
    "ROOT.gStyle.SetPaintTextFormat(\"1.1e\")\n",
    "h_2d_cosmic.Draw(\"Colz TEXT\")\n",
    "ROOT.gPad.SetLogz()\n",
    "c.Draw()"
   ]
  },
  {
   "cell_type": "code",
   "execution_count": null,
   "id": "719aa4c2-8141-48d0-9632-bd7f7e18de4a",
   "metadata": {},
   "outputs": [],
   "source": [
    "\n",
    "def get_nu_rate(h):\n",
    "    N_tot = 0\n",
    "    N_nu = 0\n",
    "    for i in range(1, h.GetNbinsX()+1):\n",
    "        for j in range(1, h.GetNbinsY()+1):\n",
    "            if j >= 2:\n",
    "                N_nu += h.GetBinContent(i, j)\n",
    "            N_tot += h.GetBinContent(i, j)\n",
    "            \n",
    "    return ((1.0*N_nu)/N_tot)\n",
    "\n",
    "\n",
    "nu_r_d = get_nu_rate(h_2d_nu)\n",
    "nu_r_c = get_nu_rate(h_2d_cosmic)"
   ]
  },
  {
   "cell_type": "code",
   "execution_count": null,
   "id": "4770d136-5a47-4c18-8636-66061e53d52c",
   "metadata": {},
   "outputs": [],
   "source": [
    "print(nu_r_d)\n",
    "print(nu_r_c)"
   ]
  },
  {
   "cell_type": "code",
   "execution_count": null,
   "id": "fe6209f9-9ab7-440a-b78a-c8cc3ddfdf16",
   "metadata": {},
   "outputs": [],
   "source": [
    "def get_other_rate(h):\n",
    "    N_tot = 0\n",
    "    N_other = 0\n",
    "    for i in range(1, h.GetNbinsX()+1):\n",
    "        for j in range(1, h.GetNbinsY()+1):\n",
    "            if i >= 2:\n",
    "                N_other += h.GetBinContent(i, j)\n",
    "            N_tot += h.GetBinContent(i, j)\n",
    "            \n",
    "    return ((1.0*N_other)/N_tot)\n",
    "\n",
    "\n",
    "cosmic_r = get_other_rate(h_2d_cosmic)\n",
    "dirt_r = get_other_rate(h_2d_nu)\n",
    "\n",
    "print(cosmic_r)\n",
    "print(dirt_r)"
   ]
  },
  {
   "cell_type": "code",
   "execution_count": null,
   "id": "ae005a8d-ac10-45c1-af42-50fe2e501d09",
   "metadata": {},
   "outputs": [],
   "source": [
    "# Determin the correct event normalization\n",
    "\n",
    "E_tot = np.sum(header_df[\"genevt\"].values)\n",
    "\n",
    "E_kept = evt_df.shape[0]\n",
    "\n",
    "print(\"E_kept\", E_kept)\n",
    "print(\"E_tot\", E_tot)"
   ]
  },
  {
   "cell_type": "code",
   "execution_count": null,
   "id": "d0227003-2d1a-4cc4-ba05-5aecbab50d8e",
   "metadata": {},
   "outputs": [],
   "source": [
    "E_lost = int(E_tot - E_kept)\n",
    "\n",
    "h_2d_cosmic.SetBinContent(1, 1, h_2d_cosmic.GetBinContent(1, 1)+E_lost)\n",
    "h_2d_nu.SetBinContent(1, 1, h_2d_nu.GetBinContent(1, 1)+E_lost)\n",
    "print(\"Added Lost Events\")"
   ]
  },
  {
   "cell_type": "code",
   "execution_count": null,
   "id": "591e9956-08f1-4a7c-b9e1-2dd2d22bec59",
   "metadata": {},
   "outputs": [],
   "source": [
    "c = ROOT.TCanvas(\"c\", \"c\", 700, 500)\n",
    "h_2d_nu.GetXaxis().SetTitle(\"Number of Dirt #nu\")\n",
    "h_2d_nu.GetYaxis().SetTitle(\"Number of AV #nu\")\n",
    "#h_2d_nu.GetZaxis().Setlog()\n",
    "ROOT.gStyle.SetPaintTextFormat(\"1.1e\")\n",
    "h_2d_nu.Draw(\"Colz TEXT\")\n",
    "ROOT.gPad.SetLogz()\n",
    "c.Draw()"
   ]
  },
  {
   "cell_type": "code",
   "execution_count": null,
   "id": "98340b85-72f6-4943-bb9d-6365c0f99ff3",
   "metadata": {},
   "outputs": [],
   "source": [
    "c = ROOT.TCanvas(\"c\", \"c\", 700, 500)\n",
    "h_2d_cosmic.GetXaxis().SetTitle(\"Number of Cosmic\")\n",
    "h_2d_cosmic.GetYaxis().SetTitle(\"Number of AV #nu\")\n",
    "#h_2d_nu.GetZaxis().Setlog()\n",
    "ROOT.gStyle.SetPaintTextFormat(\"1.1e\")\n",
    "h_2d_cosmic.Draw(\"Colz TEXT\")\n",
    "ROOT.gPad.SetLogz()\n",
    "c.Draw()"
   ]
  },
  {
   "cell_type": "code",
   "execution_count": null,
   "id": "1467c06d-d234-4fe9-872a-e0dd4953adde",
   "metadata": {},
   "outputs": [],
   "source": [
    "nu_r_d = get_nu_rate(h_2d_nu)\n",
    "nu_r_c = get_nu_rate(h_2d_cosmic)\n",
    "cosmic_r = get_other_rate(h_2d_cosmic)\n",
    "dirt_r = get_other_rate(h_2d_nu)\n",
    "\n",
    "print(nu_r_c)\n",
    "print(nu_r_d)\n",
    "print(cosmic_r)\n",
    "print(dirt_r)"
   ]
  },
  {
   "cell_type": "code",
   "execution_count": null,
   "id": "07496f19-bbfc-44f9-bf2e-a97d63dc28c6",
   "metadata": {},
   "outputs": [],
   "source": [
    "print(N_cosmic_overall/E_kept)\n",
    "print(N_cosmic_overall/E_tot)"
   ]
  }
 ],
 "metadata": {
  "kernelspec": {
   "display_name": "pyROOT_3.9_env",
   "language": "python",
   "name": "pyroot_3.9_env"
  },
  "language_info": {
   "codemirror_mode": {
    "name": "ipython",
    "version": 3
   },
   "file_extension": ".py",
   "mimetype": "text/x-python",
   "name": "python",
   "nbconvert_exporter": "python",
   "pygments_lexer": "ipython3",
   "version": "3.9.17"
  }
 },
 "nbformat": 4,
 "nbformat_minor": 5
}
