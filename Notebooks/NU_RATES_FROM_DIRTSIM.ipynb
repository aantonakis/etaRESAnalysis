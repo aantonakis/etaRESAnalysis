{
 "cells": [
  {
   "cell_type": "code",
   "execution_count": null,
   "id": "8bcff759-54a9-4e15-822c-4cbffa692957",
   "metadata": {},
   "outputs": [],
   "source": [
    "# Event Rates\n",
    "import numpy as np\n",
    "import math\n",
    "\n",
    "N_AV_NU = 5.71*10**6 + 2.44*10**5 + 5.67*10**3 + 8.66*10**1 + 1.24*10**5 + 4.93*10**3 + 4.33*10 + 1.17*10**3 + 4.33*10\n",
    "N_DIRT = 1.44*10**6 + 1.7*10**4 + 1.3*10**2 + 1.24*10**5 + 1.17*10**3 + 4.93*10**3 + 4.33*10 + 4.33*10\n",
    "\n",
    "N_EVT0 = 3.49*10**7 + 1.44*10**6 + 1.7*10**4 + 1.3*10**2\n",
    "N_EVT1 = 5.71*10**6 + 1.24*10**5 + 1.17*10**3\n",
    "N_EVT2 = 2.44*10**5 + 4.93*10**3 + 4.33*10\n",
    "N_EVT3 = 5.67*10**3 + 4.33*10 + 8.66*10\n",
    "\n",
    "N_EVT = N_EVT0 + N_EVT1 + N_EVT2 + N_EVT3\n",
    "\n",
    "print(N_AV_NU/N_EVT)"
   ]
  },
  {
   "cell_type": "code",
   "execution_count": null,
   "id": "a77992d6-eca5-40a0-862e-0e18625551c8",
   "metadata": {},
   "outputs": [],
   "source": [
    "print(N_AV_NU/N_EVT)\n",
    "print(N_DIRT/N_EVT)\n"
   ]
  }
 ],
 "metadata": {
  "kernelspec": {
   "display_name": "pyROOT_3.9_env",
   "language": "python",
   "name": "pyroot_3.9_env"
  },
  "language_info": {
   "codemirror_mode": {
    "name": "ipython",
    "version": 3
   },
   "file_extension": ".py",
   "mimetype": "text/x-python",
   "name": "python",
   "nbconvert_exporter": "python",
   "pygments_lexer": "ipython3",
   "version": "3.9.17"
  }
 },
 "nbformat": 4,
 "nbformat_minor": 5
}
