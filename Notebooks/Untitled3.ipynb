{
 "cells": [
  {
   "cell_type": "code",
   "execution_count": null,
   "id": "e77c911d-0ce9-4b4e-ad8c-4ea649f84de6",
   "metadata": {},
   "outputs": [],
   "source": [
    "import numpy as np\n",
    "import math\n",
    "\n",
    "def error_factor(N, e):\n",
    "    a = (1 + e**2)*(N-1)\n",
    "    b = 2*e*(N+1)\n",
    "    return a - b\n",
    "\n",
    "\n",
    "print(error_factor(10, 0.2))\n",
    "\n"
   ]
  },
  {
   "cell_type": "code",
   "execution_count": null,
   "id": "6ab7bcb4-aa98-4e7f-a0e4-4babe321ce68",
   "metadata": {},
   "outputs": [],
   "source": [
    "def error_factor2(N, e):\n",
    "    return (1-e)*N - e - 1\n",
    "\n",
    "print(error_factor2(10, 0.2))"
   ]
  },
  {
   "cell_type": "code",
   "execution_count": null,
   "id": "15317b02-61ef-4949-9b5e-a8b452fe1fbf",
   "metadata": {},
   "outputs": [],
   "source": []
  }
 ],
 "metadata": {
  "kernelspec": {
   "display_name": "pyROOT_3.9_env",
   "language": "python",
   "name": "pyroot_3.9_env"
  },
  "language_info": {
   "codemirror_mode": {
    "name": "ipython",
    "version": 3
   },
   "file_extension": ".py",
   "mimetype": "text/x-python",
   "name": "python",
   "nbconvert_exporter": "python",
   "pygments_lexer": "ipython3",
   "version": "3.9.17"
  }
 },
 "nbformat": 4,
 "nbformat_minor": 5
}
