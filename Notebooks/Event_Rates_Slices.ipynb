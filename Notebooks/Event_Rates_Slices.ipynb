{
 "cells": [
  {
   "cell_type": "code",
   "execution_count": null,
   "id": "33575ede-3947-42fc-8149-ee8a0e8dd260",
   "metadata": {},
   "outputs": [],
   "source": [
    "# Look at Event Rates using Slices and CRT Header"
   ]
  },
  {
   "cell_type": "code",
   "execution_count": null,
   "id": "497eb759-157a-47da-8721-8e6d45bb19e7",
   "metadata": {},
   "outputs": [],
   "source": [
    "import ROOT\n",
    "import numpy as np\n",
    "import os\n",
    "import matplotlib.pyplot as plt\n",
    "from mpl_toolkits.mplot3d import Axes3D\n",
    "from mpl_toolkits.mplot3d.art3d import Poly3DCollection\n",
    "import sys\n",
    "import multiprocessing as mp\n",
    "import uproot\n",
    "import pandas as pd\n",
    "import pickle\n",
    "import h5py\n",
    "import gzip\n",
    "import math\n",
    "import timeit\n",
    "\n",
    "# First attempt\n",
    "#infile = \"../NTuples/eta_production_ntuple_test_nodirt.root\"\n",
    "\n",
    "# Latest Eta Production\n",
    "#infile = \"../NTuples/eta_production_nodirt_ntuple_batch1.root\"\n",
    "\n",
    "# MC CV Sample --> Low Stats\n",
    "#infile = \"../NTuples/mc_production_with_fmatch_ntuple.root\"\n",
    "\n",
    "#MC CV Sample --> High Stats\n",
    "#infile = \"../NTuples/mc_production_with_fmatch_ntuple_more_stats.root\"\n",
    "infile = \"../NTuples/mc_production_with_fmatch_ntuple_more_stats_v2.root\"\n",
    "crt_header_file = \"../NTuples/mc_production_crt_header_ntuple_v1.root\""
   ]
  },
  {
   "cell_type": "code",
   "execution_count": null,
   "id": "08b5a129-8053-43f8-9fee-8e565b570478",
   "metadata": {},
   "outputs": [],
   "source": [
    "crtFile = uproot.open(crt_header_file)\n",
    "inFile = uproot.open(infile)\n",
    "\n",
    "inFileROOT = ROOT.TFile.Open(infile, \"READ\")\n",
    "#h_tot_pot = inFileROOT.Get(\"TotalPOT\")\n",
    "h_tot_pot = inFileROOT.Get(\"TOTPOT_Clone\")\n",
    "TOT_POT = h_tot_pot.GetBinContent(1)\n",
    "inFileROOT.Close()\n",
    "TOT_POT = f\"{TOT_POT:.2e}\"\n",
    "print(\"Total POT\", TOT_POT)\n",
    "\n",
    "#slc_tree = inFile[\"slc_truth_tree\"]\n",
    "slc_tree = inFile[\"slc_truth_tree\"]\n",
    "slc_reco_tree = inFile[\"slc_tree\"]\n",
    "\n",
    "slc_df = slc_tree.arrays(slc_tree.keys(), library=\"pd\")\n",
    "slc_reco_df = slc_reco_tree.arrays(slc_reco_tree.keys(), library=\"pd\")\n",
    "\n",
    "\n",
    "crt_h_tree = crtFile[\"crt_event_tree\"]\n",
    "crt_df = crt_h_tree.arrays(crt_h_tree.keys(), library=\"pd\")\n",
    "\n",
    "slc_df[:2]"
   ]
  },
  {
   "cell_type": "code",
   "execution_count": null,
   "id": "8c0c7eb8-d677-43f1-8aa0-bab835818846",
   "metadata": {},
   "outputs": [],
   "source": [
    "def isTPC(row):\n",
    "    zm = 509.4\n",
    "    xm = 201.3\n",
    "    ym = 203.73225\n",
    "    x, y, z = -9999, -9999, 9999\n",
    "    try:\n",
    "        x = abs(row[\"vtx_x\"])\n",
    "        y = abs(row[\"vtx_y\"])\n",
    "        z = abs(row[\"vtx_z\"])\n",
    "    except:\n",
    "        x, y, z = -9999, -9999, 9999\n",
    "        \n",
    "    if (x <= xm) and (y <= ym) and (0 <= z <= zm):\n",
    "        return 1\n",
    "    else:\n",
    "        return 0\n",
    "\n",
    "slc_df[\"inTPC\"] = slc_df.apply(isTPC, axis=1)\n",
    "slc_reco_df[\"inTPC\"] = slc_reco_df.apply(isTPC, axis=1)\n",
    "slc_df[:2]"
   ]
  },
  {
   "cell_type": "code",
   "execution_count": null,
   "id": "9fbd21fc-3827-43b6-8bfb-c5f00823dc72",
   "metadata": {},
   "outputs": [],
   "source": [
    "crt_df[:4]"
   ]
  },
  {
   "cell_type": "code",
   "execution_count": null,
   "id": "79005ec9-c8d1-4b2e-9937-ed4e6628ab86",
   "metadata": {},
   "outputs": [],
   "source": [
    "runs = slc_df[\"run\"].values\n",
    "subruns = slc_df[\"subrun\"].values\n",
    "evts = slc_df[\"evt\"].values\n",
    "\n",
    "data = {'run': runs,\n",
    "        'subrun': subruns,\n",
    "        'evt': evts}\n",
    "\n",
    "event_df = pd.DataFrame(data)\n",
    "\n",
    "event_df = event_df.drop_duplicates()\n",
    "\n",
    "# Drop duplicates to find unique combinations\n",
    "#unique_combinations = event_df.drop_duplicates()\n",
    "\n",
    "# Get the number of unique combinations\n",
    "N_EVENTS = event_df.shape[0]\n",
    "\n",
    "print(\"N_EVENTS:\", N_EVENTS)\n"
   ]
  },
  {
   "cell_type": "code",
   "execution_count": null,
   "id": "e6498d6e-1b05-4a32-8e5e-add671b2549b",
   "metadata": {},
   "outputs": [],
   "source": [
    "N_slc = slc_df.shape[0]\n",
    "\n",
    "slc_df = slc_df.drop_duplicates()\n",
    "\n",
    "N_slc_n = slc_df.shape[0]\n",
    "print(N_slc)\n",
    "print(N_slc_n)"
   ]
  },
  {
   "cell_type": "code",
   "execution_count": null,
   "id": "a98674b8-2a6a-4649-b344-a38cf8c0db98",
   "metadata": {},
   "outputs": [],
   "source": [
    "N_slc_r = slc_reco_df.shape[0]\n",
    "slc_reco_df = slc_reco_df.drop_duplicates()\n",
    "N_slc_r_n = slc_reco_df.shape[0]\n",
    "\n",
    "print(N_slc_r)\n",
    "print(N_slc_r_n)"
   ]
  },
  {
   "cell_type": "code",
   "execution_count": null,
   "id": "0a08f430-5a6b-4462-90b0-d6fba883d58c",
   "metadata": {},
   "outputs": [],
   "source": [
    "slc_df[\"fmatch_time\"] = slc_reco_df[\"fmatch_time\"]\n",
    "slc_df[:2]"
   ]
  },
  {
   "cell_type": "markdown",
   "id": "31a9a9da-3378-468a-8970-a6084d4f389c",
   "metadata": {},
   "source": [
    "# Select Slices in Time with the Beam"
   ]
  },
  {
   "cell_type": "code",
   "execution_count": null,
   "id": "fbb0a67c-f7b4-48b6-836d-cbe5af982865",
   "metadata": {},
   "outputs": [],
   "source": [
    "def inTime(row):\n",
    "    t = row[\"fmatch_time\"]\n",
    "    if 0 <= t <= 2.1:\n",
    "        return 1\n",
    "    else:\n",
    "        return 0\n",
    "\n",
    "slc_df[\"inTime\"] = slc_df.apply(inTime, axis=1)\n",
    "slc_df[:2]"
   ]
  },
  {
   "cell_type": "code",
   "execution_count": null,
   "id": "b74daeea-1312-4c7a-870a-fd5dd6a8ca8f",
   "metadata": {},
   "outputs": [],
   "source": [
    "slc_df = slc_df.query(\"inTime == 1\")\n",
    "slc_df[:2]"
   ]
  },
  {
   "cell_type": "code",
   "execution_count": null,
   "id": "4d1a9f61-6966-4231-aa13-4ec6df28f62f",
   "metadata": {},
   "outputs": [],
   "source": [
    "av_df = slc_df.query(\"inTPC == 1\")\n",
    "\n",
    "dirt_df = slc_df.query(\"inTPC == 0\")\n",
    "\n",
    "av_df[:2]"
   ]
  },
  {
   "cell_type": "code",
   "execution_count": null,
   "id": "0815085b-88c7-4580-8b34-6e527064fabc",
   "metadata": {},
   "outputs": [],
   "source": [
    "def get_av(row):\n",
    "    r, sr, e = row[\"run\"], row[\"subrun\"], row[\"evt\"]\n",
    "    m1 = (av_df[\"run\"].values == r)\n",
    "    m2 = (av_df[\"subrun\"].values == sr)\n",
    "    m3 = (av_df[\"evt\"].values == e)\n",
    "    m = m1 & m2 & m3\n",
    "    return np.sum(m)\n",
    "\n",
    "event_df[\"N_av\"] = event_df.apply(get_av, axis=1)\n",
    "event_df[:3]"
   ]
  },
  {
   "cell_type": "code",
   "execution_count": null,
   "id": "364e9554-2e43-4849-8064-ba8c0d9ef6a6",
   "metadata": {},
   "outputs": [],
   "source": [
    "def get_dirt(row):\n",
    "    r, sr, e = row[\"run\"], row[\"subrun\"], row[\"evt\"]\n",
    "    m1 = (dirt_df[\"run\"].values == r)\n",
    "    m2 = (dirt_df[\"subrun\"].values == sr)\n",
    "    m3 = (dirt_df[\"evt\"].values == e)\n",
    "    m = m1 & m2 & m3\n",
    "    return np.sum(m)\n",
    "\n",
    "event_df[\"N_dirt\"] = event_df.apply(get_dirt, axis=1)\n",
    "event_df[:3]"
   ]
  },
  {
   "cell_type": "code",
   "execution_count": null,
   "id": "a51bd632-17b8-4bcb-8c17-dbfca50fd72c",
   "metadata": {},
   "outputs": [],
   "source": [
    "\n",
    "# Event Loop Section\n",
    "\n",
    "h_2d_nu = ROOT.TH2D(\"h_2d_nu\", \"\", 8, 0, 8, 8, 0, 8)\n",
    "\n",
    "\n",
    "# Loop over events\n",
    "for num in range(event_df.shape[0]):\n",
    "    if num % 10000 == 0:\n",
    "        print(\"Analyzing event\", num)\n",
    "        \n",
    "    row = event_df.iloc[num]\n",
    "    N_av = row[\"N_av\"]\n",
    "    N_dirt = row[\"N_dirt\"]\n",
    "    \n",
    "    h_2d_nu.Fill(N_dirt, N_av)\n",
    "\n",
    "\n",
    "   \n",
    "print(\"Finished Event Loop\")"
   ]
  },
  {
   "cell_type": "code",
   "execution_count": null,
   "id": "24391868-8a46-425f-b044-2d4b0d3c1c45",
   "metadata": {},
   "outputs": [],
   "source": [
    "ROOT.gStyle.SetPalette(ROOT.kRainBow)\n",
    "h_2d_nu.SetStats(0)\n",
    "h_2d_nu.SetTitle(\"\")\n",
    "\n",
    "c = ROOT.TCanvas(\"c\", \"c\", 700, 500)\n",
    "h_2d_nu.GetXaxis().SetTitle(\"Number of Dirt #nu\")\n",
    "h_2d_nu.GetYaxis().SetTitle(\"Number of AV #nu\")\n",
    "#h_2d_nu.GetZaxis().Setlog()\n",
    "ROOT.gStyle.SetPaintTextFormat(\"1.1e\")\n",
    "h_2d_nu.Draw(\"Colz TEXT\")\n",
    "ROOT.gPad.SetLogz()\n",
    "c.Draw()"
   ]
  },
  {
   "cell_type": "code",
   "execution_count": null,
   "id": "c2082c77-0d56-4af6-9ba7-0c516dbb9fd5",
   "metadata": {},
   "outputs": [],
   "source": [
    "def get_nu_rate(h):\n",
    "    N_tot = 0\n",
    "    N_nu = 0\n",
    "    for i in range(1, h.GetNbinsX()+1):\n",
    "        for j in range(1, h.GetNbinsY()+1):\n",
    "            if j >= 2:\n",
    "                N_nu += h.GetBinContent(i, j)\n",
    "            N_tot += h.GetBinContent(i, j)\n",
    "            \n",
    "    return ((1.0*N_nu)/N_tot)\n",
    "\n",
    "\n",
    "nu_r_d = get_nu_rate(h_2d_nu)\n",
    "print(nu_r_d)"
   ]
  },
  {
   "cell_type": "code",
   "execution_count": null,
   "id": "699b1964-57ee-4298-8b0c-1e9f2aac9cfb",
   "metadata": {},
   "outputs": [],
   "source": [
    "def get_other_rate(h):\n",
    "    N_tot = 0\n",
    "    N_other = 0\n",
    "    for i in range(1, h.GetNbinsX()+1):\n",
    "        for j in range(1, h.GetNbinsY()+1):\n",
    "            if i >= 2:\n",
    "                N_other += h.GetBinContent(i, j)\n",
    "            N_tot += h.GetBinContent(i, j)\n",
    "            \n",
    "    return ((1.0*N_other)/N_tot)\n",
    "\n",
    "\n",
    "dirt_r = get_other_rate(h_2d_nu)\n",
    "\n",
    "\n",
    "print(dirt_r)"
   ]
  },
  {
   "cell_type": "code",
   "execution_count": null,
   "id": "16b48809-7873-4978-be28-d445306ab13e",
   "metadata": {},
   "outputs": [],
   "source": []
  }
 ],
 "metadata": {
  "kernelspec": {
   "display_name": "pyROOT_3.9_env",
   "language": "python",
   "name": "pyroot_3.9_env"
  },
  "language_info": {
   "codemirror_mode": {
    "name": "ipython",
    "version": 3
   },
   "file_extension": ".py",
   "mimetype": "text/x-python",
   "name": "python",
   "nbconvert_exporter": "python",
   "pygments_lexer": "ipython3",
   "version": "3.9.17"
  }
 },
 "nbformat": 4,
 "nbformat_minor": 5
}
