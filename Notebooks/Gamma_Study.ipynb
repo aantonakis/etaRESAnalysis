{
 "cells": [
  {
   "cell_type": "code",
   "execution_count": null,
   "id": "1017c81b-4c6a-4eee-8c99-3353cf951811",
   "metadata": {},
   "outputs": [],
   "source": [
    "# Study the photons associated with eta meson production"
   ]
  },
  {
   "cell_type": "code",
   "execution_count": null,
   "id": "aa39e6ac-9245-4ed5-a45e-195cee572d48",
   "metadata": {},
   "outputs": [],
   "source": [
    "import ROOT\n",
    "import numpy as np\n",
    "import os\n",
    "import matplotlib.pyplot as plt\n",
    "from mpl_toolkits.mplot3d import Axes3D\n",
    "from mpl_toolkits.mplot3d.art3d import Poly3DCollection\n",
    "import sys\n",
    "import multiprocessing as mp\n",
    "import uproot\n",
    "import pandas as pd\n",
    "import pickle\n",
    "import h5py\n",
    "import gzip\n",
    "import math\n",
    "import timeit\n",
    "\n",
    "\n",
    "#infile = \"../NTuples/test_truth.root\"\n",
    "#infile = \"../NTuples/full_tpceta_sample.root\"\n",
    "\n",
    "# New Stuff\n",
    "infile = \"../NTuples/tpcetanocosmic_full_sample_v2.root\"\n",
    "#infile = \"../NTuples/production_ntuples_v2.root\""
   ]
  },
  {
   "cell_type": "code",
   "execution_count": null,
   "id": "d1174b06-2ab6-4b15-9e05-4617b1603798",
   "metadata": {},
   "outputs": [],
   "source": [
    "inFile = uproot.open(infile)\n",
    "\n",
    "inFileROOT = ROOT.TFile.Open(infile, \"READ\")\n",
    "#h_tot_pot = inFileROOT.Get(\"TotalPOT\")\n",
    "h_tot_pot = inFileROOT.Get(\"TOTPOT_Clone\")\n",
    "TOT_POT = h_tot_pot.GetBinContent(1)\n",
    "inFileROOT.Close()\n",
    "TOT_POT = f\"{TOT_POT:.2e}\"\n",
    "print(\"Total POT\", TOT_POT)\n",
    "\n",
    "#pot = h_tot_pot.\n",
    "#print(\"Total POT\", pot)\n",
    "\n",
    "#slc_tree = inFile[\"slc_truth_tree\"]\n",
    "slc_tree = inFile[\"slc_truth_tree\"]\n",
    "slc_reco_tree = inFile[\"slc_tree\"]\n",
    "particle_tree1 = inFile[\"particle_tree1\"]\n",
    "particle_tree2 = inFile[\"particle_tree2\"]\n",
    "shw_tree1 = inFile[\"shower_tree1\"]\n",
    "shw_tree2 = inFile[\"shower_tree2\"]\n",
    "trk_tree1 = inFile[\"track_tree1\"]\n",
    "trk_tree2 = inFile[\"track_tree2\"]\n",
    "\n",
    "\n",
    "slc_df = slc_tree.arrays(slc_tree.keys(), library=\"pd\")\n",
    "slc_reco_df = slc_reco_tree.arrays(slc_reco_tree.keys(), library=\"pd\")\n",
    "shw_df1 = shw_tree1.arrays(shw_tree1.keys(), library=\"pd\")\n",
    "shw_df2 = shw_tree2.arrays(shw_tree2.keys(), library=\"pd\")\n",
    "trk_df1 = trk_tree1.arrays(trk_tree1.keys(), library=\"pd\")\n",
    "trk_df2 = trk_tree2.arrays(trk_tree2.keys(), library=\"pd\")\n",
    "\n",
    "particle_df1 = particle_tree1.arrays(particle_tree1.keys(), library=\"pd\")\n",
    "particle_df2 = particle_tree2.arrays(particle_tree2.keys(), library=\"pd\")\n",
    "\n",
    "\n",
    "slc_df[:2]"
   ]
  },
  {
   "cell_type": "code",
   "execution_count": null,
   "id": "e94cb7e7-1ca2-41ba-a5e1-d33817f7b1c6",
   "metadata": {},
   "outputs": [],
   "source": [
    "def isTPC(row):\n",
    "    if (-200 <= row[\"vtx_x\"] <= 200) and (-200 <= row[\"vtx_y\"] <= 200) and (0 <= row[\"vtx_z\"] <= 500):\n",
    "        return 1\n",
    "    else:\n",
    "        return 0\n",
    "\n",
    "slc_df[\"isTPC\"] = slc_df.apply(isTPC, axis=1)\n",
    "slc_reco_df[\"isTPC\"] = slc_reco_df.apply(isTPC, axis=1)\n",
    "slc_df[:2]"
   ]
  },
  {
   "cell_type": "code",
   "execution_count": null,
   "id": "eeb6a9a0-4f98-4323-8fb0-d6a09f1f4f31",
   "metadata": {},
   "outputs": [],
   "source": [
    "slc_reco_df[:2]"
   ]
  },
  {
   "cell_type": "code",
   "execution_count": null,
   "id": "f1ab366e-f774-40fe-bc06-993d1fb6d761",
   "metadata": {},
   "outputs": [],
   "source": [
    "def map_pdg_counts_to_slices(slc_df_t, other_df, pdg, new_col):\n",
    "    filtered = other_df[other_df['pdg'] == pdg]\n",
    "\n",
    "    # Step 2: Group by run and subrun and count occurrences\n",
    "    counts = filtered.groupby(['run', 'subrun', 'evt', 'slc']).size()\n",
    "\n",
    "    # Step 3: Map the counts to the smaller DataFrame\n",
    "    slc_df_t[new_col] = slc_df_t.set_index(['run', 'subrun', 'evt', 'slc']).index.map(counts).fillna(0).astype(int)\n",
    "\n",
    "\n",
    "map_pdg_counts_to_slices(slc_df, particle_df1, 111, \"npi0\")\n",
    "map_pdg_counts_to_slices(slc_df, particle_df1, 221, \"neta\")\n",
    "map_pdg_counts_to_slices(slc_df, particle_df1, 22, \"ngamma\")\n",
    "map_pdg_counts_to_slices(slc_df, particle_df1, 13, \"nmuminus\")\n",
    "slc_df[:2]"
   ]
  },
  {
   "cell_type": "code",
   "execution_count": null,
   "id": "c3292165-ca85-4017-8a0d-196ec6484ece",
   "metadata": {},
   "outputs": [],
   "source": [
    "interaction_codes = {\n",
    "    0: \"QE\",\n",
    "    1: \"Resonant\",\n",
    "    2: \"DIS\",\n",
    "    3: \"Coherent\",\n",
    "    4: \"Coherent Elastic\",\n",
    "    5: \"Electron scatt.\",\n",
    "    6: \"IMDAnnihilation\",\n",
    "    7: r\"Inverse $\\beta$ decay\",\n",
    "    8: \"Glashow resonance\",\n",
    "    9: \"AMNuGamma\",\n",
    "    10: \"MEC\",\n",
    "    11: \"Diffractive\",\n",
    "    12: \"EM\",\n",
    "    13: \"Weak Mix\"\n",
    "}\n",
    "\n",
    "\n",
    "basic_topology_labels = {\n",
    "    0:r\"RES: $\\nu_{\\mu}\\eta$\",\n",
    "    1:r\"QE: $\\nu_{\\mu}\\eta$\",\n",
    "    2:r\"DIS: $\\nu_{\\mu}\\eta$\",\n",
    "    3:r\"MEC: $\\nu_{\\mu}\\eta$\",\n",
    "    4:r\"$\\bar{\\nu}_{\\mu}\\eta$\",\n",
    "    5:r\"$\\nu_{e}\\eta$\"+ \" or \"+ r\"$\\bar{\\nu}_{e}\\eta$\",\n",
    "    6:r\"$\\nu_{\\mu}\\eta \\rightarrow 0\\pi^{0}$\",\n",
    "    7:\"Other\"\n",
    "\n",
    "}\n",
    "\n",
    "basic_topology_selections = {\n",
    "    0:\"pdg == 14.0 and mode == 1.0 and neta > 0\",\n",
    "    1:\"pdg == 14.0 and mode == 0.0 and neta > 0\",\n",
    "    2:\"pdg == 14.0 and mode == 2.0 and neta > 0\",\n",
    "    3:\"pdg == 14.0 and mode == 10.0 and neta > 0\",\n",
    "    4:\"pdg == -14.0 and neta > 0\",\n",
    "    5:\"(pdg == 12.0 or pdg == -12.0) and neta > 0\",\n",
    "    6: \"pdg == 14.0 and mode == 1.0 and npi0 == 0 and neta > 0\", \n",
    "    7: \"!(pdg == 14.0 and mode == 1.0 and npi0 == 0 and neta > 0)\"\n",
    "}\n",
    "\n",
    "\n",
    "# differentiate between a few interesting eta topologies\n",
    "topology_labels1 = {\n",
    "\n",
    "    0:r\"RES: $\\nu_{\\mu}CC\\eta \\rightarrow 0\\pi^{0}$\",\n",
    "    1:r\"RES: $\\nu_{\\mu}CC\\eta \\rightarrow 1\\pi^{0}$\",\n",
    "    2:r\"RES: $\\nu_{\\mu}CC\\eta \\rightarrow 2\\pi^{0}$\",\n",
    "    3:r\"RES: $\\nu_{\\mu}CC\\eta \\rightarrow 3\\pi^{0}$\",\n",
    "    \n",
    "    4:r\"RES: $\\nu_{\\mu}NC\\eta \\rightarrow 0\\pi^{0}$\",\n",
    "    5:r\"RES: $\\nu_{\\mu}NC\\eta \\rightarrow 1\\pi^{0}$\",\n",
    "    6:r\"RES: $\\nu_{\\mu}NC\\eta \\rightarrow 2\\pi^{0}$\",\n",
    "    7:r\"RES: $\\nu_{\\mu}NC\\eta \\rightarrow 3\\pi^{0}$\",\n",
    "\n",
    "    8:r\"Not RES: $\\nu_{\\mu}\\eta$\",\n",
    "    9:r\"$\\bar{\\nu}_{\\mu}\\eta$\",\n",
    "    10:r\"$\\nu_{e}\\eta$\"+ \" or \"+ r\"$\\bar{\\nu}_{e}\\eta$\",\n",
    "    11:r\"$\\nu_{\\mu}$ CC $1\\pi^{0}$\",\n",
    "    12:r\"$\\nu_{\\mu}$ NC $1\\pi^{0}$\",\n",
    "    13:r\"$\\nu_{\\mu}$ CC Other\",\n",
    "    14:r\"$\\nu_{\\mu}$ NC Other\",\n",
    "    15:r\"$\\nu$ Other\",\n",
    "    16:r\"Dirt $\\nu$\",\n",
    "    17:\"Cosmic\",\n",
    "    18:r\"RES $\\nu_{\\mu}\\eta \\rightarrow > 3\\pi^{0}$\"\n",
    "       \n",
    "}\n",
    "\n",
    "topology_selections1 = {\n",
    "    \n",
    "    0:\"pdg == 14.0 and mode == 1.0 and iscc == 1.0 and neta > 0 and npi0 == 0 and isTPC == 1\",\n",
    "    1:\"pdg == 14.0 and mode == 1.0 and iscc == 1.0 and neta > 0 and npi0 == 1 and isTPC == 1\",\n",
    "    2:\"pdg == 14.0 and mode == 1.0 and iscc == 1.0 and neta > 0 and npi0 == 2 and isTPC == 1\",\n",
    "    3:\"pdg == 14.0 and mode == 1.0 and iscc == 1.0 and neta > 0 and npi0 == 3 and isTPC == 1\",\n",
    "    \n",
    "    4:\"pdg == 14.0 and mode == 1.0 and isnc == 1.0 and neta > 0 and npi0 == 0 and isTPC == 1\",\n",
    "    5:\"pdg == 14.0 and mode == 1.0 and isnc == 1.0 and neta > 0 and npi0 == 1 and isTPC == 1\",\n",
    "    6:\"pdg == 14.0 and mode == 1.0 and isnc == 1.0 and neta > 0 and npi0 == 2 and isTPC == 1\",\n",
    "    7:\"pdg == 14.0 and mode == 1.0 and isnc == 1.0 and neta > 0 and npi0 == 3 and isTPC == 1\",\n",
    "\n",
    "    8:\"pdg == 14.0 and mode != 1.0 and neta > 0 and isTPC == 1\",\n",
    "    9:\"pdg == -14.0 and neta > 0\",\n",
    "    10:\"(pdg == 12.0 or pdg == -12.0) and neta > 0\",\n",
    "    11:\"pdg == 14.0 and iscc == 1.0 and neta == 0 and npi0 == 1 and isTPC == 1\",\n",
    "    12:\"pdg == 14.0 and isnc == 1.0 and neta == 0 and npi0 == 1 and isTPC == 1\",\n",
    "    13:\"pdg == 14.0 and iscc == 1.0 and neta == 0 and npi0 != 1 and isTPC == 1\",\n",
    "    14:\"pdg == 14.0 and isnc == 1.0 and neta == 0 and npi0 != 1 and isTPC == 1\",\n",
    "    15:\"(pdg == 12 or pdg == -12 or pdg == -14) and neta == 0 and isTPC == 1\",\n",
    "    16:\"(pdg == 14 or pdg == -14 or pdg == 12 or pdg == -12) and isTPC == 0\",\n",
    "    17:\"pdg == -1\",\n",
    "    #18:\"(pdg != 14 and pdg != -14 and pdg != 12 and pdg != -12 and pdg != -1)\"\n",
    "    18:\"pdg == 14 and mode == 1.0 and neta > 0 and npi0 > 3 and isTPC == 1\"\n",
    "    \n",
    "}\n",
    "\n",
    "topology_colors1 = {\n",
    "    0:\"magenta\", \n",
    "    1:\"purple\",\n",
    "    2:\"violet\",\n",
    "    3:\"deeppink\",\n",
    "    4:\"blue\",\n",
    "    5:\"navy\",\n",
    "    6:\"royalblue\",\n",
    "    7:\"lavender\",\n",
    "    8:\"indigo\",\n",
    "    9:\"green\",\n",
    "    10:\"lime\",\n",
    "    11:\"cyan\",\n",
    "    12:\"aquamarine\",\n",
    "    13:\"red\",\n",
    "    14:\"maroon\",\n",
    "    15:\"orange\",\n",
    "    16:\"coral\",\n",
    "    17:\"gray\",\n",
    "    18:\"red\"\n",
    "}\n",
    "\n"
   ]
  },
  {
   "cell_type": "code",
   "execution_count": null,
   "id": "2f11567f-caf1-44ef-ad83-c7b2295c5219",
   "metadata": {},
   "outputs": [],
   "source": [
    "for num in range(len(topology_selections1.keys())):\n",
    "    #temp = slc_df.query(topology_selections[num])\n",
    "    condition = slc_df.index.isin(slc_df.query(topology_selections1[num]).index)\n",
    "    slc_df.loc[condition, \"TOP\"] = num\n",
    "\n",
    "slc_reco_df[\"TOP\"] = slc_df[\"TOP\"]\n",
    "slc_reco_df[:2]"
   ]
  },
  {
   "cell_type": "code",
   "execution_count": null,
   "id": "5298ed59-d728-4079-b097-93e9623f812b",
   "metadata": {},
   "outputs": [],
   "source": [
    "df_small_filtered = slc_df[['run', 'subrun', 'evt', 'slc', 'TOP']]\n",
    "shw_df1 = shw_df1.merge(df_small_filtered, on=['run', 'subrun', 'evt', 'slc'], how='left')\n",
    "trk_df1 = trk_df1.merge(df_small_filtered, on=['run', 'subrun', 'evt', 'slc'], how='left')\n",
    "particle_df1 = particle_df1.merge(df_small_filtered, on=['run', 'subrun', 'evt', 'slc'], how='left')\n",
    "#particle_df2 = particle_df2.merge(df_small_filtered, on=['run', 'subrun', 'evt', 'slc'], how='left')\n",
    "\n",
    "shw_df1[:2]"
   ]
  },
  {
   "cell_type": "code",
   "execution_count": null,
   "id": "a0974f03-9f4b-4e5d-998b-a41d3e7c9d3f",
   "metadata": {},
   "outputs": [],
   "source": [
    "shw_df2[:2]"
   ]
  },
  {
   "cell_type": "code",
   "execution_count": null,
   "id": "893a3dd9-de67-4e01-986e-7082e8fb07b4",
   "metadata": {},
   "outputs": [],
   "source": [
    "shw_df2[\"TOP\"] = shw_df1[\"TOP\"]\n",
    "trk_df2[\"TOP\"] = trk_df1[\"TOP\"]\n",
    "particle_df2[\"TOP\"] = particle_df1[\"TOP\"]"
   ]
  },
  {
   "cell_type": "code",
   "execution_count": null,
   "id": "0bd97e98-0e00-4a2b-be34-134dd8d1687c",
   "metadata": {},
   "outputs": [],
   "source": [
    "top = 0\n",
    "\n",
    "particle_df1 = particle_df1.query(\"TOP == \"+str(top))\n",
    "particle_df2 = particle_df2.query(\"TOP == \"+str(top))\n",
    "shw_df1 = shw_df1.query(\"TOP == \"+str(top))\n",
    "shw_df2 = shw_df2.query(\"TOP == \"+str(top))\n",
    "trk_df1 = trk_df1.query(\"TOP == \"+str(top))\n",
    "trk_df2 = trk_df2.query(\"TOP == \"+str(top))\n",
    "\n",
    "print(\"Grabbed topology \"+str(top))"
   ]
  },
  {
   "cell_type": "code",
   "execution_count": null,
   "id": "ec049e7d-f4b9-4445-be55-d6e4743facb6",
   "metadata": {},
   "outputs": [],
   "source": [
    "particle_df1[:2]"
   ]
  },
  {
   "cell_type": "code",
   "execution_count": null,
   "id": "26846dfc-2710-4629-ad6b-9d48e0ea34d8",
   "metadata": {},
   "outputs": [],
   "source": [
    "particle_df2[:2]"
   ]
  },
  {
   "cell_type": "code",
   "execution_count": null,
   "id": "3593cdfd-ead7-4e47-8a6b-dab474123036",
   "metadata": {},
   "outputs": [],
   "source": [
    "particle_df1[\"start_x\"] = particle_df2[\"start_x\"]\n",
    "particle_df1[\"start_y\"] = particle_df2[\"start_y\"]\n",
    "particle_df1[\"start_z\"] = particle_df2[\"start_z\"]\n",
    "\n",
    "particle_df1[\"end_x\"] = particle_df2[\"end_x\"]\n",
    "particle_df1[\"end_y\"] = particle_df2[\"end_y\"]\n",
    "particle_df1[\"end_z\"] = particle_df2[\"end_z\"]"
   ]
  },
  {
   "cell_type": "code",
   "execution_count": null,
   "id": "c10d8f47-81cb-4762-8671-857774aa970e",
   "metadata": {},
   "outputs": [],
   "source": [
    "def tpc_xy(xy):\n",
    "    if -200 <= xy <= 200:\n",
    "        return 1\n",
    "    else:\n",
    "        return 0\n",
    "        \n",
    "def tpc_z(z):\n",
    "    if 0 <= z <= 500:\n",
    "        return 1\n",
    "    else:\n",
    "        return 0\n",
    "\n",
    "\n",
    "def is_true_cont(row):\n",
    "    sx, sy, sz = row[\"start_x\"], row[\"start_y\"], row[\"start_z\"]\n",
    "    ex, ey, ez = row[\"end_x\"], row[\"end_y\"], row[\"end_z\"]\n",
    "\n",
    "    if tpc_xy(sx) and tpc_xy(sy) and tpc_xy(ex) and tpc_xy(ey):\n",
    "        if tpc_z(sz) and tpc_z(sz):\n",
    "            return 1\n",
    "        return 0\n",
    "    return 0\n",
    "    \n",
    "particle_df1[\"cont\"] = particle_df1.apply(is_true_cont, axis=1)\n",
    "particle_df1[:2]"
   ]
  },
  {
   "cell_type": "code",
   "execution_count": null,
   "id": "55fe5423-5c8b-4da1-8be7-4e835386a0a2",
   "metadata": {},
   "outputs": [],
   "source": [
    "contained_gammas = particle_df1.query(\"pdg == 22 and cont == 1\")\n",
    "contained_gammas[:2]"
   ]
  },
  {
   "cell_type": "code",
   "execution_count": null,
   "id": "340984a5-e994-4652-a788-9c01104b04a9",
   "metadata": {},
   "outputs": [],
   "source": [
    "shw_df2[\"trackScore\"] = shw_df1[\"trackScore\"]\n",
    "shw_df2[:2]"
   ]
  },
  {
   "cell_type": "code",
   "execution_count": null,
   "id": "17f4ca07-9cc7-4988-b1d1-f5f13de3fb22",
   "metadata": {},
   "outputs": [],
   "source": [
    "#df_small_filtered = shw_df1[['run', 'subrun', 'evt', 'slc', 'bestmatch_G4ID', \"conv_gap\"]]\n",
    "#contained_gammas = contained_gammas.merge(df_small_filtered, on=['run', 'subrun', 'evt', 'slc', 'bestmatch_G4ID'], how='left')\n",
    "\n",
    "VAR = \"\"\n",
    "def get_thing(row):\n",
    "    #print(VAR)\n",
    "    g4id = row[\"G4ID\"]\n",
    "    r = row[\"run\"]\n",
    "    sr = row[\"subrun\"]\n",
    "    e = row[\"evt\"]\n",
    "    slc = row[\"slc\"]\n",
    "    q = \"run == \" + str(r) + \" and subrun == \"+str(sr) + \" and evt == \"+str(e) + \" and slc == \"+str(slc) + \" and bestmatch_G4ID == \"+str(g4id)\n",
    "    v = 0\n",
    "    try:\n",
    "        v = shw_df2.query(q)[VAR].values[0]\n",
    "    except:\n",
    "        v = -999999\n",
    "        #print(\"No Match ???\")\n",
    "    #print(v)\n",
    "    return v\n",
    "\n",
    "\n",
    "VAR = \"conv_gap\"\n",
    "\n",
    "contained_gammas[\"conv_gap\"] = contained_gammas.apply(get_thing, axis=1)\n",
    "contained_gammas[:2]"
   ]
  },
  {
   "cell_type": "code",
   "execution_count": null,
   "id": "e03ae78e-69ec-4ae1-9bcd-d71ab316469b",
   "metadata": {},
   "outputs": [],
   "source": [
    "plt.hist(contained_gammas.query(\"conv_gap >= 0.0\")[\"conv_gap\"].values, bins=50, histtype=\"step\", linewidth=2, label=topology_labels1[top])\n",
    "plt.title(\"True Contained Gammas\")\n",
    "plt.xlabel(\"Reconstructed Conversion Gap [cm]\", fontsize=14)\n",
    "plt.ylabel(\"Counts/bin/\"+str(TOT_POT)+\" POT\", fontsize=14)\n",
    "plt.legend()\n",
    "plt.show()"
   ]
  },
  {
   "cell_type": "code",
   "execution_count": null,
   "id": "1fcc6081-79f0-4b1e-9010-4cf5c6ab2eec",
   "metadata": {},
   "outputs": [],
   "source": [
    "shw_df2[\"bestplane_energy\"] = shw_df1[\"bestplane_energy\"]\n",
    "\n",
    "shw_df2[:2]"
   ]
  },
  {
   "cell_type": "code",
   "execution_count": null,
   "id": "d8b884f8-6d57-4156-bfb7-c27472e4f4f0",
   "metadata": {},
   "outputs": [],
   "source": [
    "VAR = \"bestplane_energy\"\n",
    "contained_gammas[\"bestplane_energy\"] = contained_gammas.apply(get_thing, axis=1)\n",
    "\n",
    "contained_gammas[:4]"
   ]
  },
  {
   "cell_type": "code",
   "execution_count": null,
   "id": "43a1ab4d-d310-4432-8041-e76bae16f8ad",
   "metadata": {},
   "outputs": [],
   "source": [
    "x = contained_gammas.query(\"bestplane_energy > 0\")[\"genE\"].values\n",
    "y = contained_gammas.query(\"bestplane_energy > 0\")[\"bestplane_energy\"].values\n",
    "\n",
    "plt.title(\"True Contained Gammas\")\n",
    "hist = plt.hist2d(x, y, bins=100, label=topology_labels1[0], density=False, cmap='rainbow')\n",
    "plt.colorbar(hist[3], label='Counts')\n",
    "plt.xlabel(\"True genE [GeV]\", fontsize=14)\n",
    "plt.ylabel(\"Best Plane Energy [GeV]\", fontsize=14)\n",
    "#plt.legend()\n",
    "plt.show()"
   ]
  },
  {
   "cell_type": "code",
   "execution_count": null,
   "id": "0e6c0531-c5ff-436f-b05b-b0d272ad097d",
   "metadata": {},
   "outputs": [],
   "source": [
    "from matplotlib import cm\n",
    "x = contained_gammas.query(\"0 < bestplane_energy < 0.7\")[\"genE\"].values\n",
    "y = contained_gammas.query(\"0 < bestplane_energy < 0.7\")[\"bestplane_energy\"].values\n",
    "\n",
    "plt.title(\"True Contained Gammas\")\n",
    "cmap = plt.colormaps['rainbow'].copy()  # Copy the colormap to modify it\n",
    "cmap.set_under(color='white')  \n",
    "hist = plt.hist2d(x, y, bins=50, label=topology_labels1[0], density=False, cmap=cmap, vmin=0.001)\n",
    "plt.scatter([], [], color='white', label=topology_labels1[top])\n",
    "plt.plot([0, 0.7], [0, 0.7], linestyle=\"--\", c=\"r\", linewidth=2)\n",
    "plt.colorbar(hist[3], label='Counts')\n",
    "plt.xlabel(\"True genE [GeV]\", fontsize=14)\n",
    "plt.ylabel(\"Best Plane Energy [GeV]\", fontsize=14)\n",
    "plt.legend(loc=\"lower right\")\n",
    "plt.show()"
   ]
  },
  {
   "cell_type": "code",
   "execution_count": null,
   "id": "5ad49bf7-5330-4fd9-b2e5-6783600e6c06",
   "metadata": {},
   "outputs": [],
   "source": [
    "plt.hist(contained_gammas.query(\"bestplane_energy < 0\")[\"genE\"].values, bins=100)\n",
    "plt.show()"
   ]
  },
  {
   "cell_type": "code",
   "execution_count": null,
   "id": "ddca3ac7-4f60-4165-b093-236b93fde2bd",
   "metadata": {},
   "outputs": [],
   "source": [
    "plt.hist(contained_gammas.query(\"bestplane_energy < 0\")[\"start_x\"].values, bins=50, histtype=\"step\", label=\"X\")\n",
    "plt.hist(contained_gammas.query(\"bestplane_energy < 0\")[\"start_y\"].values, bins=50, histtype=\"step\", label=\"Y\")\n",
    "plt.hist(contained_gammas.query(\"bestplane_energy < 0\")[\"start_z\"].values, bins=50, histtype=\"step\", label=\"Z\")\n",
    "plt.xlabel(\"TPC Start Position [cm]\")\n",
    "plt.legend()\n",
    "plt.show()"
   ]
  },
  {
   "cell_type": "code",
   "execution_count": null,
   "id": "87646fe1-6d5d-44c6-958d-225e6c81938d",
   "metadata": {},
   "outputs": [],
   "source": [
    "N_missing = contained_gammas.query(\"bestplane_energy < 0\").shape[0]\n",
    "\n",
    "N_cont = contained_gammas.shape[0]\n",
    "\n",
    "print((1.0*N_missing)/N_cont)"
   ]
  },
  {
   "cell_type": "code",
   "execution_count": null,
   "id": "f0bfba79-53f2-418f-a61e-8f1a5bd9d134",
   "metadata": {},
   "outputs": [],
   "source": [
    "VAR = \"trackScore\"\n",
    "\n",
    "contained_gammas[\"trackScore\"] = contained_gammas.apply(get_thing, axis=1)\n",
    "contained_gammas[:2]"
   ]
  },
  {
   "cell_type": "code",
   "execution_count": null,
   "id": "acdef509-feec-445a-ac71-8cd359f40a6d",
   "metadata": {},
   "outputs": [],
   "source": [
    "plt.hist(contained_gammas.query(\"-5 < trackScore < 2\")[\"trackScore\"].values, \n",
    "                 bins=20, histtype=\"step\", linewidth=2, color=\"blue\", label=topology_labels1[0])\n",
    "\n",
    "plt.title(\"Primary Gammas\", fontsize=20)\n",
    "plt.xlabel(\"Track Score\", fontsize=14)\n",
    "plt.ylabel(\"Counts/bin/\"+str(TOT_POT)+\" POT\", fontsize=14)\n",
    "#plt.yscale(\"log\")\n",
    "plt.legend(ncol=2)\n",
    "plt.show()"
   ]
  },
  {
   "cell_type": "code",
   "execution_count": null,
   "id": "08997736-20c4-4b13-9549-f2dabd741775",
   "metadata": {},
   "outputs": [],
   "source": []
  }
 ],
 "metadata": {
  "kernelspec": {
   "display_name": "pyROOT_3.9_env",
   "language": "python",
   "name": "pyroot_3.9_env"
  },
  "language_info": {
   "codemirror_mode": {
    "name": "ipython",
    "version": 3
   },
   "file_extension": ".py",
   "mimetype": "text/x-python",
   "name": "python",
   "nbconvert_exporter": "python",
   "pygments_lexer": "ipython3",
   "version": "3.9.17"
  }
 },
 "nbformat": 4,
 "nbformat_minor": 5
}
