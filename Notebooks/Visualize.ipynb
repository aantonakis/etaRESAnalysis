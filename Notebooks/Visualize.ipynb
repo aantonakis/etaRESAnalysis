{
 "cells": [
  {
   "cell_type": "code",
   "execution_count": null,
   "id": "9be9aa85-22c7-4b60-ab07-eb17ac8075c1",
   "metadata": {},
   "outputs": [],
   "source": [
    "import ROOT\n",
    "import numpy as np\n",
    "import os\n",
    "import matplotlib.pyplot as plt\n",
    "from mpl_toolkits.mplot3d import Axes3D\n",
    "from mpl_toolkits.mplot3d.art3d import Poly3DCollection\n",
    "import sys\n",
    "import multiprocessing as mp\n",
    "import uproot\n",
    "import pandas as pd\n",
    "import pickle\n",
    "import h5py\n",
    "import gzip\n",
    "import math\n",
    "import timeit\n",
    "\n",
    "\n",
    "#infile = \"../NTuples/test_truth.root\"\n",
    "infile = \"../NTuples/small_tpceta_sample.root\""
   ]
  },
  {
   "cell_type": "markdown",
   "id": "bab1c2ff-7d56-4ed4-a6b0-363001caa561",
   "metadata": {},
   "source": [
    "# Make Truth DataFrames\n",
    "\n",
    "## Show Slice DF"
   ]
  },
  {
   "cell_type": "code",
   "execution_count": null,
   "id": "4cdf261b-b386-4495-9269-fa7ac39d1cca",
   "metadata": {},
   "outputs": [],
   "source": [
    "\n",
    "inFile = uproot.open(infile)\n",
    "\n",
    "#h_tot_pot = inFile[\"TotalPOT\"]\n",
    "#pot = h_tot_pot.\n",
    "#print(\"Total POT\", pot)\n",
    "\n",
    "slc_tree = inFile[\"slc_tree\"]\n",
    "particle_tree1 = inFile[\"particle_tree1\"]\n",
    "particle_tree2 = inFile[\"particle_tree2\"]\n",
    "daughter_tree1 = inFile[\"daughter_tree1\"]\n",
    "daughter_tree2 = inFile[\"daughter_tree2\"]\n",
    "\n",
    "slc_df = slc_tree.arrays(slc_tree.keys(), library=\"pd\")\n",
    "particle_df1 = particle_tree1.arrays(particle_tree1.keys(), library=\"pd\")\n",
    "particle_df2 = particle_tree2.arrays(particle_tree2.keys(), library=\"pd\")\n",
    "daughter_df1 = daughter_tree1.arrays(daughter_tree1.keys(), library=\"pd\")\n",
    "daughter_df2 = daughter_tree2.arrays(daughter_tree2.keys(), library=\"pd\")\n",
    "\n",
    "slc_df[:2]"
   ]
  },
  {
   "cell_type": "markdown",
   "id": "cf94fe68-d5bc-4699-be83-0c3086a0c563",
   "metadata": {},
   "source": [
    "## Show Particle1 DF"
   ]
  },
  {
   "cell_type": "code",
   "execution_count": null,
   "id": "ecee012f-7f4a-455b-b225-ff8e2b737911",
   "metadata": {},
   "outputs": [],
   "source": [
    "particle_df1[:2]"
   ]
  },
  {
   "cell_type": "markdown",
   "id": "c2198a13-917a-43af-a4e8-783c15f5e01b",
   "metadata": {},
   "source": [
    "# Show Particle2 DF"
   ]
  },
  {
   "cell_type": "code",
   "execution_count": null,
   "id": "ae4e07c6-cbdd-4a94-9d5c-188d3d4238fc",
   "metadata": {},
   "outputs": [],
   "source": [
    "particle_df2[:2]"
   ]
  },
  {
   "cell_type": "markdown",
   "id": "cb30ef87-e0dd-441a-a024-aec4d88374a0",
   "metadata": {},
   "source": [
    "# Show Daughter1 DF"
   ]
  },
  {
   "cell_type": "code",
   "execution_count": null,
   "id": "d6cc23d4-b5b4-4358-b667-81fdf39a7a4a",
   "metadata": {},
   "outputs": [],
   "source": [
    "daughter_df1[:2]"
   ]
  },
  {
   "cell_type": "markdown",
   "id": "e8c74807-e33d-4b07-88af-e09a344e6bb3",
   "metadata": {},
   "source": [
    "# Show Daughter2 DF"
   ]
  },
  {
   "cell_type": "code",
   "execution_count": null,
   "id": "2dc75455-a7c6-4019-8f08-91ba16cbec23",
   "metadata": {},
   "outputs": [],
   "source": [
    "daughter_df2[:2]"
   ]
  },
  {
   "cell_type": "code",
   "execution_count": null,
   "id": "d83ca317-cc03-475c-8cf6-8bd56de2605a",
   "metadata": {},
   "outputs": [],
   "source": [
    "def get_slice_npi0(row):\n",
    "    run = row[\"run\"]\n",
    "    subrun = row[\"subrun\"]\n",
    "    evt = row[\"evt\"]\n",
    "    sel = particle_df1.query(\"run == \"+str(run)+ \" and subrun == \"+str(subrun) + \" and evt == \"+str(evt))\n",
    "    c = sum((sel[\"pdg\"].values == 111))\n",
    "    return c\n",
    "\n",
    "slc_df[\"npi0\"] = slc_df.apply(get_slice_npi0, axis=1)\n",
    "slc_df[:2]"
   ]
  },
  {
   "cell_type": "code",
   "execution_count": null,
   "id": "f5bdff1a-1fa9-4e78-970c-ab66ae26be9e",
   "metadata": {},
   "outputs": [],
   "source": [
    "pdg_colors = {\n",
    "    # eta\n",
    "    221:\"pink\",\n",
    "    # pi0\n",
    "    111:\"purple\",\n",
    "    # proton\n",
    "    2212:\"red\",\n",
    "    # neutron\n",
    "    2112:\"black\",\n",
    "    # gamma\n",
    "    22:\"gold\", \n",
    "    # muon\n",
    "    13:\"blue\",\n",
    "    # mu +\n",
    "    -13:\"navy\",\n",
    "    #pi+    \n",
    "    211:\"orangered\",\n",
    "    #pi-\n",
    "    -211:\"magenta\",\n",
    "    # electron\n",
    "    11:\"green\",\n",
    "    # positron\n",
    "    -11:\"cyan\"\n",
    "          \n",
    "}\n",
    "\n",
    "pdg_labels = {\n",
    "    221: r\"$\\eta$\", \n",
    "    111: r\"$\\pi^{0}$\",\n",
    "    2212:\"p\",\n",
    "    2112:\"n\",\n",
    "    22:r\"$\\gamma$\",\n",
    "    13:r\"$\\mu^{-}$\",\n",
    "    211:r\"$\\pi^{+}$\",\n",
    "    -211:r\"$\\pi^{-}$\",\n",
    "    11:r\"$e^{-}$\",\n",
    "    -11:r\"$e^{+}$\",\n",
    "}\n",
    "\n"
   ]
  },
  {
   "cell_type": "code",
   "execution_count": null,
   "id": "5fc1cf8e-e0a0-4611-84b9-56f21891ef72",
   "metadata": {},
   "outputs": [],
   "source": [
    "def plot_yz(slice_sel, show_tpc=False, show_crt=False, zoom=False):\n",
    "    run, subrun, evt, slc = slice_sel[0], slice_sel[1], slice_sel[2], slice_sel[3]\n",
    "    q = \"run == \"+str(run)+\" and subrun == \"+str(subrun) + \" and evt == \"+str(evt) + \"and slc == \"+str(slc)\n",
    "    slc_df_sel = slc_df.query(q)\n",
    "    part1_sel = particle_df1.query(q)\n",
    "    part2_sel = particle_df2.query(q)\n",
    "    daughter1_sel = daughter_df1.query(q)\n",
    "    daughter2_sel = daughter_df2.query(q)\n",
    "    plt.title(\"True Particle Interaction\")\n",
    "    plt.xlabel('True Z [cm]', fontsize=14)\n",
    "    plt.ylabel('True Y [cm]', fontsize=14)\n",
    "    #miny, maxy = 10000, -10000\n",
    "    #minz, maxz = 10000, -10000\n",
    "    plt.scatter(slc_df_sel[\"vtx_z\"], slc_df_sel[\"vtx_y\"], c=\"r\", label=\"Primary Vertex\")\n",
    "    pdgs = []\n",
    "    for i in range(part1_sel.shape[0]):\n",
    "        r1 = part1_sel.iloc[i]\n",
    "        r2 = part2_sel.iloc[i]\n",
    "        pdg = r1[\"pdg\"]\n",
    "        if pdg not in pdg_colors.keys():\n",
    "            continue\n",
    "        y = [r2[\"start_y\"], r2[\"end_y\"]]\n",
    "        z = [r2[\"start_z\"], r2[\"end_z\"]]\n",
    "        if pdg not in pdgs:\n",
    "            plt.plot(z, y, color=pdg_colors[pdg], linewidth=2, label=pdg_labels[pdg])\n",
    "            pdgs.append(pdg)\n",
    "        else:\n",
    "            plt.plot(z, y, color=pdg_colors[pdg])\n",
    "                \n",
    "    for i in range(daughter1_sel.shape[0]):\n",
    "        r1 = daughter1_sel.iloc[i]\n",
    "        r2 = daughter2_sel.iloc[i]\n",
    "        pdg = r1[\"pdg\"]\n",
    "        if pdg not in pdg_colors.keys():\n",
    "            continue\n",
    "        y = [r2[\"start_y\"], r2[\"end_y\"]]\n",
    "        z = [r2[\"start_z\"], r2[\"end_z\"]]\n",
    "        if pdg not in pdgs:\n",
    "            plt.plot(z, y, color=pdg_colors[pdg], linewidth=2, label=pdg_labels[pdg])\n",
    "            pdgs.append(pdg)\n",
    "        else:\n",
    "            plt.plot(z, y, color=pdg_colors[pdg])\n",
    "\n",
    "    if zoom != False:\n",
    "        plt.xlim(zoom[0])\n",
    "        plt.ylim(zoom[1])\n",
    "        \n",
    "    plt.legend(loc='center left', bbox_to_anchor=(1, 0.5), ncol=1)\n",
    "    plt.show()\n",
    "    \n",
    "print(\"Made YZ plotting function\")        "
   ]
  },
  {
   "cell_type": "code",
   "execution_count": null,
   "id": "a9541b4c-44e9-48a0-aeb8-403895558498",
   "metadata": {},
   "outputs": [],
   "source": [
    "# test the YZ plotter\n",
    "\n",
    "num = 2\n",
    "\n",
    "slice_sel = [slc_df.iloc[num][\"run\"],\n",
    "             slc_df.iloc[num][\"subrun\"],\n",
    "             slc_df.iloc[num][\"evt\"],\n",
    "             slc_df.iloc[num][\"slc\"]\n",
    "            ]\n",
    "\n",
    "\n",
    "plot_yz(slice_sel)\n",
    "\n",
    "plot_yz(slice_sel, False, False, [[450, 500], [0, 50]])\n",
    "plot_yz(slice_sel, False, False, [[275, 325], [0, 50]])"
   ]
  },
  {
   "cell_type": "code",
   "execution_count": null,
   "id": "8a565a87-74ff-4be0-aa96-72a75847b3e7",
   "metadata": {},
   "outputs": [],
   "source": [
    "nopi0_sel = slc_df.query(\"npi0 == 0\")\n",
    "\n",
    "num_plots = 5\n",
    "\n",
    "for num in range(num_plots):\n",
    "    slice_sel = [nopi0_sel.iloc[num][\"run\"],\n",
    "                 nopi0_sel.iloc[num][\"subrun\"],\n",
    "                 nopi0_sel.iloc[num][\"evt\"],\n",
    "                 nopi0_sel.iloc[num][\"slc\"]\n",
    "                ]  \n",
    "    plot_yz(slice_sel)\n",
    "\n"
   ]
  },
  {
   "cell_type": "code",
   "execution_count": null,
   "id": "eef22353-bb80-4656-b2d4-91b475b61113",
   "metadata": {},
   "outputs": [],
   "source": [
    "slice_sel = [nopi0_sel.iloc[0][\"run\"],\n",
    "             nopi0_sel.iloc[0][\"subrun\"],\n",
    "             nopi0_sel.iloc[0][\"evt\"],\n",
    "             nopi0_sel.iloc[0][\"slc\"]\n",
    "            ]  \n",
    "plot_yz(slice_sel, False, False, [[30, 50], [100, 200]])"
   ]
  },
  {
   "cell_type": "code",
   "execution_count": null,
   "id": "ac9823ea-2c54-418e-a630-6b495e9d0894",
   "metadata": {},
   "outputs": [],
   "source": [
    "\n",
    "def plot_tpc(ax):\n",
    "\n",
    "    # Define the corners of the 2D rectangle\n",
    "    top_corners = [\n",
    "        [0,   -200, 200],     # Bottom-left corner\n",
    "        [500, -200, 200],     # Bottom-right corner\n",
    "        [500,  200, 200],     # Top-right corner\n",
    "        [0,    200, 200]      # Top-left corner\n",
    "    ]\n",
    "\n",
    "    # Create a 3D polygon collection for the rectangle\n",
    "    top = Poly3DCollection([top_corners], color='red', alpha=0.1, edgecolor='black')\n",
    "\n",
    "    # Add the rectangle to the 3D plot\n",
    "    ax.add_collection3d(top)\n",
    "\n"
   ]
  },
  {
   "cell_type": "code",
   "execution_count": null,
   "id": "f18350c7-780f-466c-b5c4-0b308463d2cf",
   "metadata": {},
   "outputs": [],
   "source": [
    "\n",
    "def plot_true_slice(run, subrun, evt, slc, e, a, zoom_vertex, tpc, zoom=None):\n",
    "    q = \"run == \"+str(run)+\" and subrun == \"+str(subrun) + \" and evt == \"+str(evt) + \"and slc == \"+str(slc) \n",
    "    sel1 = particle_df1.query(q)\n",
    "    sel2 = particle_df2.query(q)\n",
    "    if sel1.shape[0] != sel2.shape[0]:\n",
    "        print(\"PROBLEM: Dataframes have different shapes !!!!!!!!!!!!!\")\n",
    "        return\n",
    "    fig = plt.figure()\n",
    "    ax = fig.add_subplot(111, projection='3d')\n",
    "    ax.set_xlabel('Z Axis [cm]')\n",
    "    ax.set_ylabel('X Axis [cm]')\n",
    "    ax.set_zlabel('Y Axis [cm]')\n",
    "    minx, maxx = 10000, -10000\n",
    "    miny, maxy = 10000, -10000\n",
    "    minz, maxz = 10000, -10000\n",
    "    for i in range(sel1.shape[0]):\n",
    "        r1 = sel1.iloc[i]\n",
    "        r2 = sel2.iloc[i]\n",
    "        pdg = r1[\"pdg\"]\n",
    "        if pdg != 111:\n",
    "            continue\n",
    "        x = [r2[\"start_x\"], r2[\"end_x\"]]\n",
    "        y = [r2[\"start_y\"], r2[\"end_y\"]]\n",
    "        z = [r2[\"start_z\"], r2[\"end_z\"]]\n",
    "        print(\"x\", x, \"y\", y, \"z\", z)\n",
    "        \n",
    "        if min(x) < minx:\n",
    "            minx = min(x)\n",
    "        if max(x) > maxx:\n",
    "            maxx = max(x)\n",
    "        if min(y) < miny:\n",
    "            miny = min(y)\n",
    "        if max(y) > maxy:\n",
    "            maxy = max(y)\n",
    "        if min(z) < minz:\n",
    "            minz = min(z)\n",
    "        if max(z) > maxz:\n",
    "            maxz = max(z)\n",
    "        \n",
    "        # eta\n",
    "        if pdg == 221:\n",
    "            print(\"Has Eta !!!\")\n",
    "            ax.plot(z, x, y, color=\"pink\")\n",
    "        # pi0\n",
    "        elif pdg == 111:\n",
    "            print(\"We have a pi0\")\n",
    "            ax.plot(z, x, y, color=\"purple\")\n",
    "        # proton\n",
    "        elif pdg == 2212:\n",
    "            ax.plot(z, x, y, color=\"red\")\n",
    "        # neutron\n",
    "        elif pdg == 2112:\n",
    "            ax.plot(z, x, y, color=\"black\")\n",
    "        # gamma\n",
    "        elif pdg == 22:\n",
    "            ax.plot(z, x, y, color=\"yellow\")\n",
    "        # muon\n",
    "        elif pdg == 13:\n",
    "            ax.plot(z, x, y, color=\"blue\")\n",
    "        # piplus or piminus\n",
    "        elif pdg == 211 or pdg == -211:\n",
    "            ax.plot(z, x, y, color=\"orange\")\n",
    "        else:\n",
    "            print(\"Unknown PDG\", pdg)\n",
    "            ax.plot(z, x, y, color=\"green\")\n",
    "    \n",
    "    ax.view_init(elev=e, azim=a)  # Adjust elevation and azimuth here\n",
    "\n",
    "    if zoom != None:\n",
    "        print(\"Zooming\")\n",
    "        ax.set_xlim(zoom[0])\n",
    "        ax.set_ylim(zoom[1])\n",
    "        ax.set_zlim(zoom[2])\n",
    "    else:\n",
    "        ax.set_xlim([minz, maxz])\n",
    "        ax.set_ylim(minx, maxx)\n",
    "        ax.set_zlim([miny, maxy])\n",
    "\n",
    "    if zoom_vertex != 0:\n",
    "        slc_sel_row = slc_df.query(q).iloc[0]\n",
    "        x = slc_sel_row[\"vtx_x\"]\n",
    "        y = slc_sel_row[\"vtx_y\"]\n",
    "        z = slc_sel_row[\"vtx_z\"]\n",
    "        ax.set_xlim([z - zoom_vertex, z + zoom_vertex])\n",
    "        ax.set_ylim([x - zoom_vertex, x + zoom_vertex])\n",
    "        ax.set_zlim([y - zoom_vertex, y + zoom_vertex])\n",
    "\n",
    "    if tpc:\n",
    "        plot_tpc(ax)   \n",
    "        ax.set_xlim([-100, 500])\n",
    "        ax.set_ylim([-300, 300])\n",
    "        ax.set_zlim([-300, 300])\n",
    "\n",
    "    \n",
    "    plt.show()\n",
    "\n",
    "\n",
    "plot_true_slice(1.0, 0.0, 290.0, 5.0, 20, 280, 0, 0, [[0, 100], [50, 200], [-100, 100]])\n",
    "\n"
   ]
  },
  {
   "cell_type": "code",
   "execution_count": null,
   "id": "3279b51d-f203-48b3-a0a9-c2a8516f219c",
   "metadata": {},
   "outputs": [],
   "source": [
    "for num in range(10):\n",
    "    r = slc_df.iloc[num]\n",
    "    plot_true_slice(r[\"run\"], r[\"subrun\"], r[\"evt\"], r[\"slc\"], 20, 280, 0, 1)"
   ]
  },
  {
   "cell_type": "code",
   "execution_count": null,
   "id": "95cb5458-bee6-4824-9d23-1155b4827933",
   "metadata": {},
   "outputs": [],
   "source": [
    "for num in range(10):\n",
    "    r = slc_df.iloc[num]\n",
    "    plot_true_slice(r[\"run\"], r[\"subrun\"], r[\"evt\"], r[\"slc\"], 0, 270, 0, 0)"
   ]
  },
  {
   "cell_type": "code",
   "execution_count": null,
   "id": "39f22aad-0615-473e-957d-2a0540109854",
   "metadata": {},
   "outputs": [],
   "source": [
    "for num in range(10):\n",
    "    r = slc_df.iloc[num]\n",
    "    plot_true_slice(r[\"run\"], r[\"subrun\"], r[\"evt\"], r[\"slc\"], 0, 270, 1, 0)"
   ]
  },
  {
   "cell_type": "code",
   "execution_count": null,
   "id": "fa37d939-1be7-47cb-9cb1-e0ced7f28474",
   "metadata": {},
   "outputs": [],
   "source": [
    "for num in range(10):\n",
    "    r = slc_df.iloc[num]\n",
    "    plot_true_slice(r[\"run\"], r[\"subrun\"], r[\"evt\"], r[\"slc\"], 90, 270, 0, 1)"
   ]
  },
  {
   "cell_type": "code",
   "execution_count": null,
   "id": "675cda87-4f8c-4268-b533-b2b6b7b0c2f0",
   "metadata": {},
   "outputs": [],
   "source": [
    "for num in range(20):\n",
    "    r = slc_df.iloc[num]\n",
    "    print(\"run\", r[\"run\"], \"subrun\", r[\"subrun\"], \"evt\", r[\"evt\"], \"slc\", r[\"slc\"])\n",
    "    print(\"MODE\", r[\"mode\"])\n",
    "    plot_true_slice(r[\"run\"], r[\"subrun\"], r[\"evt\"], r[\"slc\"], 90, 270, 0, 1)"
   ]
  },
  {
   "cell_type": "code",
   "execution_count": null,
   "id": "a10a6f29-9252-42d9-a5d9-5d16d962cab3",
   "metadata": {},
   "outputs": [],
   "source": [
    "three_pi0 = slc_df.query(\"npi0 == 3\")\n",
    "\n",
    "print(three_pi0.shape[0])"
   ]
  },
  {
   "cell_type": "code",
   "execution_count": null,
   "id": "47a3c5d5-aef7-4e0d-9308-1c9d18035c38",
   "metadata": {},
   "outputs": [],
   "source": [
    "for num in range(three_pi0.shape[0]):\n",
    "    r = three_pi0.iloc[num]\n",
    "    plot_true_slice(r[\"run\"], r[\"subrun\"], r[\"evt\"], r[\"slc\"], 20, 300, 0, 0)"
   ]
  },
  {
   "cell_type": "code",
   "execution_count": null,
   "id": "4c315a97-646d-4e6c-9990-34b3c5f42664",
   "metadata": {},
   "outputs": [],
   "source": []
  },
  {
   "cell_type": "code",
   "execution_count": null,
   "id": "b70c43c6-6759-4732-b706-9cfc7448cee5",
   "metadata": {},
   "outputs": [],
   "source": []
  },
  {
   "cell_type": "code",
   "execution_count": null,
   "id": "bf2248aa-f58b-47c4-8d6c-e609d630dfd6",
   "metadata": {},
   "outputs": [],
   "source": []
  },
  {
   "cell_type": "code",
   "execution_count": null,
   "id": "80743d23-7d94-4a6a-9404-acbf5bbcae2d",
   "metadata": {},
   "outputs": [],
   "source": []
  },
  {
   "cell_type": "code",
   "execution_count": null,
   "id": "2f93ded5-5ffd-408d-8de4-47697ed4d2ee",
   "metadata": {},
   "outputs": [],
   "source": []
  },
  {
   "cell_type": "code",
   "execution_count": null,
   "id": "95adb74d-7062-4ef3-9a13-eaf4536ff011",
   "metadata": {},
   "outputs": [],
   "source": []
  },
  {
   "cell_type": "code",
   "execution_count": null,
   "id": "20a68fee-17c9-46d3-8ce2-0b575da7fb3a",
   "metadata": {},
   "outputs": [],
   "source": []
  },
  {
   "cell_type": "code",
   "execution_count": null,
   "id": "728ce6b6-00f0-4e44-81d1-ac2548910260",
   "metadata": {},
   "outputs": [],
   "source": []
  },
  {
   "cell_type": "code",
   "execution_count": null,
   "id": "3042f448-3fc1-4786-ad92-8c0f60a5d3e2",
   "metadata": {},
   "outputs": [],
   "source": []
  },
  {
   "cell_type": "code",
   "execution_count": null,
   "id": "c876e1eb-275f-40fd-a0f1-67db152acd62",
   "metadata": {},
   "outputs": [],
   "source": []
  },
  {
   "cell_type": "code",
   "execution_count": null,
   "id": "7c29ab28-aa63-4d9b-837c-108d89762123",
   "metadata": {},
   "outputs": [],
   "source": []
  },
  {
   "cell_type": "code",
   "execution_count": null,
   "id": "95763ab7-36d8-47bf-b407-93d83c0fcbd8",
   "metadata": {},
   "outputs": [],
   "source": []
  },
  {
   "cell_type": "code",
   "execution_count": null,
   "id": "c29bdc2e-6e1a-41ef-bdc2-e77b10af49a1",
   "metadata": {},
   "outputs": [],
   "source": []
  },
  {
   "cell_type": "code",
   "execution_count": null,
   "id": "86ab86a9-33c0-4ed3-be10-d1635b6d3536",
   "metadata": {},
   "outputs": [],
   "source": []
  },
  {
   "cell_type": "code",
   "execution_count": null,
   "id": "236d7694-6877-4d24-bd76-a18a4a67dcc0",
   "metadata": {},
   "outputs": [],
   "source": []
  },
  {
   "cell_type": "code",
   "execution_count": null,
   "id": "30f3f582-715b-4ee8-97bc-951f3fe42b3c",
   "metadata": {},
   "outputs": [],
   "source": []
  }
 ],
 "metadata": {
  "kernelspec": {
   "display_name": "pyROOT_3.9_env",
   "language": "python",
   "name": "pyroot_3.9_env"
  },
  "language_info": {
   "codemirror_mode": {
    "name": "ipython",
    "version": 3
   },
   "file_extension": ".py",
   "mimetype": "text/x-python",
   "name": "python",
   "nbconvert_exporter": "python",
   "pygments_lexer": "ipython3",
   "version": "3.9.17"
  }
 },
 "nbformat": 4,
 "nbformat_minor": 5
}
