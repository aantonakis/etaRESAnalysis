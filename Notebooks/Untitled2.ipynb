{
 "cells": [
  {
   "cell_type": "code",
   "execution_count": null,
   "id": "6ae2b40a-aa39-4b0e-b3d6-2ba982bfcad8",
   "metadata": {},
   "outputs": [],
   "source": [
    "# Study Selections of Eta Mesons"
   ]
  },
  {
   "cell_type": "code",
   "execution_count": null,
   "id": "6aa6ac9d-7dc0-4682-a02c-9e02ed0a6949",
   "metadata": {},
   "outputs": [],
   "source": [
    "import ROOT\n",
    "import numpy as np\n",
    "import os\n",
    "import matplotlib.pyplot as plt\n",
    "from mpl_toolkits.mplot3d import Axes3D\n",
    "from mpl_toolkits.mplot3d.art3d import Poly3DCollection\n",
    "import sys\n",
    "import multiprocessing as mp\n",
    "import uproot\n",
    "import pandas as pd\n",
    "import pickle\n",
    "import h5py\n",
    "import gzip\n",
    "import math\n",
    "import timeit\n",
    "\n",
    "\n",
    "\n",
    "\n",
    "# Latest Eta Production\n",
    "infile = \"../NTuples/eta_production_nodirt_ntuple_batch1.root\"\n"
   ]
  },
  {
   "cell_type": "code",
   "execution_count": null,
   "id": "d999cc8f-0165-450c-8162-87b4d23f80f1",
   "metadata": {},
   "outputs": [],
   "source": [
    "inFile = uproot.open(infile)\n",
    "\n",
    "inFileROOT = ROOT.TFile.Open(infile, \"READ\")\n",
    "#h_tot_pot = inFileROOT.Get(\"TotalPOT\")\n",
    "h_tot_pot = inFileROOT.Get(\"TOTPOT_Clone\")\n",
    "TOT_POT = h_tot_pot.GetBinContent(1)\n",
    "inFileROOT.Close()\n",
    "TOT_POT = f\"{TOT_POT:.2e}\"\n",
    "print(\"Total POT\", TOT_POT)\n",
    "\n",
    "#slc_tree = inFile[\"slc_truth_tree\"]\n",
    "slc_tree = inFile[\"slc_truth_tree\"]\n",
    "slc_reco_tree = inFile[\"slc_tree\"]\n",
    "pfp_tree = inFile[\"pfp_tree\"]\n",
    "shw_tree1 = inFile[\"shower_tree1\"]\n",
    "shw_tree2 = inFile[\"shower_tree2\"]\n",
    "trk_tree1 = inFile[\"track_tree1\"]\n",
    "trk_tree2 = inFile[\"track_tree2\"]\n",
    "\n",
    "particle_tree1 = inFile[\"particle_tree1\"]\n",
    "particle_tree2 = inFile[\"particle_tree2\"]\n",
    "daughter_tree1 = inFile[\"daughter_tree1\"]\n",
    "daughter_tree2 = inFile[\"daughter_tree2\"]\n",
    "\n",
    "slc_df = slc_tree.arrays(slc_tree.keys(), library=\"pd\")\n",
    "slc_reco_df = slc_reco_tree.arrays(slc_reco_tree.keys(), library=\"pd\")\n",
    "pfp_df = pfp_tree.arrays(pfp_tree.keys(), library=\"pd\")\n",
    "\n",
    "shw_df1 = shw_tree1.arrays(shw_tree1.keys(), library=\"pd\")\n",
    "shw_df2 = shw_tree2.arrays(shw_tree2.keys(), library=\"pd\")\n",
    "trk_df1 = trk_tree1.arrays(trk_tree1.keys(), library=\"pd\")\n",
    "trk_df2 = trk_tree2.arrays(trk_tree2.keys(), library=\"pd\")\n",
    "\n",
    "particle_df1 = particle_tree1.arrays(particle_tree1.keys(), library=\"pd\")\n",
    "particle_df2 = particle_tree2.arrays(particle_tree2.keys(), library=\"pd\")\n",
    "\n",
    "daughter_df1 = daughter_tree1.arrays(daughter_tree1.keys(), library=\"pd\")\n",
    "daughter_df2 = daughter_tree2.arrays(daughter_tree2.keys(), library=\"pd\")\n",
    "\n",
    "slc_df[:2]"
   ]
  },
  {
   "cell_type": "code",
   "execution_count": null,
   "id": "7b13148d-4241-4282-be1a-6a82e867bf1d",
   "metadata": {},
   "outputs": [],
   "source": [
    "def isTPC(row):\n",
    "    if (-200 <= row[\"vtx_x\"] <= 200) and (-200 <= row[\"vtx_y\"] <= 200) and (0 <= row[\"vtx_z\"] <= 500):\n",
    "        return 1\n",
    "    else:\n",
    "        return 0\n",
    "\n",
    "slc_df[\"isTPC\"] = slc_df.apply(isTPC, axis=1)\n",
    "slc_reco_df[\"isTPC\"] = slc_reco_df.apply(isTPC, axis=1)\n",
    "slc_df[:2]"
   ]
  },
  {
   "cell_type": "code",
   "execution_count": null,
   "id": "118b3d47-234c-4290-a08b-c1e513c05922",
   "metadata": {},
   "outputs": [],
   "source": [
    "def map_pdg_counts_to_slices(slc_df_t, other_df, pdg, new_col):\n",
    "    filtered = other_df[other_df['pdg'] == pdg]\n",
    "\n",
    "    # Step 2: Group by run and subrun and count occurrences\n",
    "    counts = filtered.groupby(['run', 'subrun', 'evt', 'slc']).size()\n",
    "\n",
    "    # Step 3: Map the counts to the smaller DataFrame\n",
    "    slc_df_t[new_col] = slc_df_t.set_index(['run', 'subrun', 'evt', 'slc']).index.map(counts).fillna(0).astype(int)\n",
    "\n",
    "\n",
    "map_pdg_counts_to_slices(slc_df, particle_df1, 111, \"npi0\")\n",
    "map_pdg_counts_to_slices(slc_df, particle_df1, 221, \"neta\")\n",
    "map_pdg_counts_to_slices(slc_df, particle_df1, 22, \"ngamma\")\n",
    "map_pdg_counts_to_slices(slc_df, particle_df1, 13, \"nmuminus\")\n",
    "map_pdg_counts_to_slices(slc_df, daughter_df1, 22, \"ngamma_d\")\n",
    "slc_df[:2]"
   ]
  },
  {
   "cell_type": "code",
   "execution_count": null,
   "id": "31262773-72d8-46b0-a5e1-29e16b583796",
   "metadata": {},
   "outputs": [],
   "source": [
    "interaction_codes = {\n",
    "    0: \"QE\",\n",
    "    1: \"Resonant\",\n",
    "    2: \"DIS\",\n",
    "    3: \"Coherent\",\n",
    "    4: \"Coherent Elastic\",\n",
    "    5: \"Electron scatt.\",\n",
    "    6: \"IMDAnnihilation\",\n",
    "    7: r\"Inverse $\\beta$ decay\",\n",
    "    8: \"Glashow resonance\",\n",
    "    9: \"AMNuGamma\",\n",
    "    10: \"MEC\",\n",
    "    11: \"Diffractive\",\n",
    "    12: \"EM\",\n",
    "    13: \"Weak Mix\"\n",
    "}\n",
    "\n",
    "\n",
    "basic_topology_labels = {\n",
    "    0:r\"RES: $\\nu_{\\mu}\\eta$\",\n",
    "    1:r\"QE: $\\nu_{\\mu}\\eta$\",\n",
    "    2:r\"DIS: $\\nu_{\\mu}\\eta$\",\n",
    "    3:r\"MEC: $\\nu_{\\mu}\\eta$\",\n",
    "    4:r\"$\\bar{\\nu}_{\\mu}\\eta$\",\n",
    "    5:r\"$\\nu_{e}\\eta$\"+ \" or \"+ r\"$\\bar{\\nu}_{e}\\eta$\",\n",
    "    6:r\"$\\nu_{\\mu}\\eta \\rightarrow 0\\pi^{0}$\",\n",
    "    7:\"Other\"\n",
    "\n",
    "}\n",
    "\n",
    "basic_topology_selections = {\n",
    "    0:\"pdg == 14.0 and mode == 1.0 and neta > 0\",\n",
    "    1:\"pdg == 14.0 and mode == 0.0 and neta > 0\",\n",
    "    2:\"pdg == 14.0 and mode == 2.0 and neta > 0\",\n",
    "    3:\"pdg == 14.0 and mode == 10.0 and neta > 0\",\n",
    "    4:\"pdg == -14.0 and neta > 0\",\n",
    "    5:\"(pdg == 12.0 or pdg == -12.0) and neta > 0\",\n",
    "    6: \"pdg == 14.0 and mode == 1.0 and npi0 == 0 and neta > 0\", \n",
    "    7: \"!(pdg == 14.0 and mode == 1.0 and npi0 == 0 and neta > 0)\"\n",
    "}\n",
    "\n",
    "\n",
    "# differentiate between a few interesting eta topologies\n",
    "topology_labels1 = {\n",
    "\n",
    "    0:r\"RES: $\\nu_{\\mu}CC\\eta \\rightarrow 0\\pi^{0}$\",\n",
    "    1:r\"RES: $\\nu_{\\mu}CC\\eta \\rightarrow 1\\pi^{0}$\",\n",
    "    2:r\"RES: $\\nu_{\\mu}CC\\eta \\rightarrow 2\\pi^{0}$\",\n",
    "    3:r\"RES: $\\nu_{\\mu}CC\\eta \\rightarrow 3\\pi^{0}$\",\n",
    "    \n",
    "    4:r\"RES: $\\nu_{\\mu}NC\\eta \\rightarrow 0\\pi^{0}$\",\n",
    "    5:r\"RES: $\\nu_{\\mu}NC\\eta \\rightarrow 1\\pi^{0}$\",\n",
    "    6:r\"RES: $\\nu_{\\mu}NC\\eta \\rightarrow 2\\pi^{0}$\",\n",
    "    7:r\"RES: $\\nu_{\\mu}NC\\eta \\rightarrow 3\\pi^{0}$\",\n",
    "\n",
    "    8:r\"Not RES: $\\nu_{\\mu}\\eta$\",\n",
    "    9:r\"$\\bar{\\nu}_{\\mu}\\eta$\",\n",
    "    10:r\"$\\nu_{e}\\eta$\"+ \" or \"+ r\"$\\bar{\\nu}_{e}\\eta$\",\n",
    "    11:r\"$\\nu_{\\mu}$ CC $1\\pi^{0}$\",\n",
    "    12:r\"$\\nu_{\\mu}$ NC $1\\pi^{0}$\",\n",
    "    13:r\"$\\nu_{\\mu}$ CC Other\",\n",
    "    14:r\"$\\nu_{\\mu}$ NC Other\",\n",
    "    15:r\"$\\nu$ Other\",\n",
    "    16:r\"Dirt $\\nu$\",\n",
    "    17:\"Cosmic\",\n",
    "    18:r\"RES $\\nu_{\\mu}\\eta \\rightarrow > 3\\pi^{0}$\"\n",
    "       \n",
    "}\n",
    "\n",
    "topology_selections1 = {\n",
    "    \n",
    "    0:\"pdg == 14.0 and mode == 1.0 and iscc == 1.0 and neta > 0 and npi0 == 0 and isTPC == 1\",\n",
    "    1:\"pdg == 14.0 and mode == 1.0 and iscc == 1.0 and neta > 0 and npi0 == 1 and isTPC == 1\",\n",
    "    2:\"pdg == 14.0 and mode == 1.0 and iscc == 1.0 and neta > 0 and npi0 == 2 and isTPC == 1\",\n",
    "    3:\"pdg == 14.0 and mode == 1.0 and iscc == 1.0 and neta > 0 and npi0 == 3 and isTPC == 1\",\n",
    "    \n",
    "    4:\"pdg == 14.0 and mode == 1.0 and isnc == 1.0 and neta > 0 and npi0 == 0 and isTPC == 1\",\n",
    "    5:\"pdg == 14.0 and mode == 1.0 and isnc == 1.0 and neta > 0 and npi0 == 1 and isTPC == 1\",\n",
    "    6:\"pdg == 14.0 and mode == 1.0 and isnc == 1.0 and neta > 0 and npi0 == 2 and isTPC == 1\",\n",
    "    7:\"pdg == 14.0 and mode == 1.0 and isnc == 1.0 and neta > 0 and npi0 == 3 and isTPC == 1\",\n",
    "\n",
    "    8:\"pdg == 14.0 and mode != 1.0 and neta > 0 and isTPC == 1\",\n",
    "    9:\"pdg == -14.0 and neta > 0\",\n",
    "    10:\"(pdg == 12.0 or pdg == -12.0) and neta > 0\",\n",
    "    11:\"pdg == 14.0 and iscc == 1.0 and neta == 0 and npi0 == 1 and isTPC == 1\",\n",
    "    12:\"pdg == 14.0 and isnc == 1.0 and neta == 0 and npi0 == 1 and isTPC == 1\",\n",
    "    13:\"pdg == 14.0 and iscc == 1.0 and neta == 0 and npi0 != 1 and isTPC == 1\",\n",
    "    14:\"pdg == 14.0 and isnc == 1.0 and neta == 0 and npi0 != 1 and isTPC == 1\",\n",
    "    15:\"(pdg == 12 or pdg == -12 or pdg == -14) and neta == 0 and isTPC == 1\",\n",
    "    16:\"(pdg == 14 or pdg == -14 or pdg == 12 or pdg == -12) and isTPC == 0\",\n",
    "    17:\"pdg == -1\",\n",
    "    #18:\"(pdg != 14 and pdg != -14 and pdg != 12 and pdg != -12 and pdg != -1)\"\n",
    "    18:\"pdg == 14 and mode == 1.0 and neta > 0 and npi0 > 3 and isTPC == 1\"\n",
    "    \n",
    "}\n",
    "\n",
    "topology_colors1 = {\n",
    "    0:\"magenta\", \n",
    "    1:\"purple\",\n",
    "    2:\"violet\",\n",
    "    3:\"deeppink\",\n",
    "    4:\"blue\",\n",
    "    5:\"navy\",\n",
    "    6:\"royalblue\",\n",
    "    7:\"lavender\",\n",
    "    8:\"indigo\",\n",
    "    9:\"green\",\n",
    "    10:\"lime\",\n",
    "    11:\"cyan\",\n",
    "    12:\"aquamarine\",\n",
    "    13:\"red\",\n",
    "    14:\"maroon\",\n",
    "    15:\"orange\",\n",
    "    16:\"coral\",\n",
    "    17:\"gray\",\n",
    "    18:\"red\"\n",
    "}\n",
    "\n"
   ]
  },
  {
   "cell_type": "code",
   "execution_count": null,
   "id": "c2a29caa-6c1a-40d2-b92b-18ee7cfbe01d",
   "metadata": {},
   "outputs": [],
   "source": [
    "for num in range(len(topology_selections1.keys())):\n",
    "    #temp = slc_df.query(topology_selections[num])\n",
    "    condition = slc_df.index.isin(slc_df.query(topology_selections1[num]).index)\n",
    "    slc_df.loc[condition, \"TOP\"] = num\n",
    "\n",
    "slc_reco_df[\"TOP\"] = slc_df[\"TOP\"]\n",
    "slc_reco_df[:2]"
   ]
  },
  {
   "cell_type": "markdown",
   "id": "35bab241-27ea-4294-b373-a30a501585cc",
   "metadata": {},
   "source": [
    "# Add Topologies to other DataFrames"
   ]
  },
  {
   "cell_type": "code",
   "execution_count": null,
   "id": "ae701d26-acaa-45af-80bb-2a9b42743b64",
   "metadata": {},
   "outputs": [],
   "source": [
    "df_small_filtered = slc_df[['run', 'subrun', 'evt', 'slc', 'TOP']]\n",
    "\n",
    "pfp_df = pfp_df.merge(df_small_filtered, on=['run', 'subrun', 'evt', 'slc'], how='left')\n",
    "shw_df1 = shw_df1.merge(df_small_filtered, on=['run', 'subrun', 'evt', 'slc'], how='left')\n",
    "trk_df1 = trk_df1.merge(df_small_filtered, on=['run', 'subrun', 'evt', 'slc'], how='left')\n",
    "particle_df1 = particle_df1.merge(df_small_filtered, on=['run', 'subrun', 'evt', 'slc'], how='left')\n",
    "daughter_df1 = daughter_df1.merge(df_small_filtered, on=['run', 'subrun', 'evt', 'slc'], how='left')\n",
    "\n",
    "\n",
    "particle_df1[:2]"
   ]
  },
  {
   "cell_type": "code",
   "execution_count": null,
   "id": "db771fe9-9dcd-4b7f-931a-c8d75f4b9931",
   "metadata": {},
   "outputs": [],
   "source": [
    "def plot_selection_1D(df, variable, B, units, sel=None, log=0, rangex=None, rangey=None):\n",
    "    new_df = df.copy()\n",
    "    if sel != None:\n",
    "        new_df = new_df.query(sel)\n",
    "    \n",
    "    all_counts = []\n",
    "    #all_norms = []\n",
    "\n",
    "    counts_all, bin_edges_all, _ = plt.hist(new_df[variable].values, bins=B)\n",
    "    # Plot the scaled histogram using plt.bar\n",
    "    bin_centers = (bin_edges_all[:-1] + bin_edges_all[1:]) / 2  # calculate bin centers\n",
    "    bin_width = bin_edges_all[1] - bin_edges_all[0]  # calculate bin width\n",
    "\n",
    "    for num in range(len(topology_selections1.keys())):\n",
    "        temp = new_df.query(\"TOP == \"+str(num))\n",
    "        counts, bin_edges, _ = plt.hist(temp[variable].values, bins=B)\n",
    "        all_counts.append(counts)\n",
    "        #all_norms.append(temp.shape[0])\n",
    "\n",
    "    # clear the plot\n",
    "    plt.clf()\n",
    "\n",
    "    N_prev = np.zeros_like(bin_centers)\n",
    "    for num in range(len(topology_selections1.keys())):\n",
    "        h = \"\"\n",
    "        if num % 2 != 0:\n",
    "            h=\"//\"\n",
    "        \n",
    "        plt.bar(bin_centers, all_counts[num], width=bin_width, \n",
    "                bottom=N_prev, color=topology_colors1[num], alpha=0.6, hatch=h, label=topology_labels1[num])\n",
    "        N_prev += all_counts[num]\n",
    "    \n",
    "\n",
    "    #plt.xlabel(\"True Number of Primary Gammas\", fontsize=14)\n",
    "    if sel != None:\n",
    "        plt.xlabel(variable + \" (\"+sel+\") [\"+units+\"]\", fontsize=14)\n",
    "    else:\n",
    "        plt.xlabel(variable + \" [\"+units+\"]\", fontsize=14)\n",
    "        \n",
    "    plt.ylabel(\"Counts/bin/\"+str(TOT_POT)+\" POT\", fontsize=14)\n",
    "    plt.errorbar(bin_centers, counts_all, yerr=np.sqrt(counts_all), c=\"black\", fmt=\"o\", label=\"All\")\n",
    "    if rangex != None:\n",
    "        plt.xlim(rangex)\n",
    "        \n",
    "    if rangey != None:\n",
    "        plt.ylim(rangey)\n",
    "    \n",
    "    # Display the plot\n",
    "    plt.legend(bbox_to_anchor=(1.05, 0.5), loc='center left', ncols=2)\n",
    "    if log:\n",
    "        plt.yscale(\"log\")\n",
    "    plt.show()"
   ]
  },
  {
   "cell_type": "code",
   "execution_count": null,
   "id": "c43465d1-4090-4203-afd5-c732624e62de",
   "metadata": {},
   "outputs": [],
   "source": [
    "plot_selection_1D(slc_reco_df, \"is_clear_cosmic\", np.linspace(-1, 2, 7), \"Arbitrary\", log=1)"
   ]
  },
  {
   "cell_type": "code",
   "execution_count": null,
   "id": "4c3bef86-37ab-4262-a1c3-f4b722ed314d",
   "metadata": {},
   "outputs": [],
   "source": [
    "plot_selection_1D(slc_df, \"neta\", np.linspace(-1, 2, 7), \"Arbitrary\", log=1)"
   ]
  },
  {
   "cell_type": "code",
   "execution_count": null,
   "id": "c278b6db-b5b6-45b5-9716-a04ba5c31e65",
   "metadata": {},
   "outputs": [],
   "source": [
    "plot_selection_1D(slc_df, \"npi0\", np.linspace(-0.5, 5.5, 7), \"Arbitrary\", log=1)"
   ]
  },
  {
   "cell_type": "code",
   "execution_count": null,
   "id": "e1d4ea3a-8019-4dbc-b930-bab321996981",
   "metadata": {},
   "outputs": [],
   "source": [
    "plot_selection_1D(trk_df1, \"trackScore\", np.linspace(-2.5, 5.5, 9), \"Arbitrary\", log=1)"
   ]
  },
  {
   "cell_type": "code",
   "execution_count": null,
   "id": "a03c5f70-17be-4c33-b2a0-fc207b644454",
   "metadata": {},
   "outputs": [],
   "source": [
    "counts = shw_df1.groupby(['run', 'subrun', 'evt', 'slc']).size()\n",
    "\n",
    "slc_reco_df[\"npfp\"] = slc_reco_df.set_index(['run', 'subrun', 'evt', 'slc']).index.map(counts).fillna(0).astype(int)\n",
    "slc_reco_df[:2]"
   ]
  },
  {
   "cell_type": "code",
   "execution_count": null,
   "id": "036dc8a3-fbb7-4946-9b16-c7fa5a8ac533",
   "metadata": {},
   "outputs": [],
   "source": [
    "plot_selection_1D(slc_reco_df, \"npfp\", np.linspace(0.5, 18.5, 19), \"Counts\", log=1)"
   ]
  },
  {
   "cell_type": "code",
   "execution_count": null,
   "id": "a2342a12-a881-4c67-9a7d-91fe9be7b1e7",
   "metadata": {},
   "outputs": [],
   "source": [
    "plot_selection_1D(slc_reco_df, \"fmatch_time\", np.linspace(0, 105, 10), \"us\", sel=\"fmatch_time >= 0\", log=1)"
   ]
  },
  {
   "cell_type": "code",
   "execution_count": null,
   "id": "ede5f3c8-4e3e-459d-8fcd-9db7cb9280b9",
   "metadata": {},
   "outputs": [],
   "source": [
    "plot_selection_1D(slc_reco_df, \"fmatch_time\", np.linspace(-10000, 0, 10), \"us\", sel=\"fmatch_time <= 0\", log=1)"
   ]
  },
  {
   "cell_type": "code",
   "execution_count": null,
   "id": "65eba623-7c4f-426a-b22b-6149330f0de6",
   "metadata": {},
   "outputs": [],
   "source": [
    "plot_selection_1D(slc_reco_df, \"fmatch_score\", np.linspace(-20, 80, 100), \"us\", log=0)"
   ]
  },
  {
   "cell_type": "code",
   "execution_count": null,
   "id": "d0857a55-5d2c-4906-8e95-256107a32341",
   "metadata": {},
   "outputs": [],
   "source": [
    "plot_selection_1D(slc_reco_df, \"fmatch_score\", np.linspace(0, 60, 60), \"us\", sel=\"0 <= fmatch_score <= 60\", log=1)"
   ]
  },
  {
   "cell_type": "code",
   "execution_count": null,
   "id": "18c98829-e529-415d-9ed8-205db67d3d61",
   "metadata": {},
   "outputs": [],
   "source": [
    "plot_selection_1D(slc_reco_df, \"fmatch_score\", np.linspace(-20, 0, 20), \"us\", sel=\"fmatch_score <= 0\", log=1)"
   ]
  },
  {
   "cell_type": "code",
   "execution_count": null,
   "id": "be743e3f-2e53-4561-a849-719300307136",
   "metadata": {},
   "outputs": [],
   "source": [
    "def cut_cosmic1(row):\n",
    "    a = row[\"is_clear_cosmic\"]\n",
    "    if a > 0.9:\n",
    "        return 1\n",
    "    else:\n",
    "        return 0\n",
    "        \n",
    "slc_reco_df[\"Cut\"] = slc_reco_df.apply(cut_cosmic1, axis=1)\n",
    "\n",
    "for num in range(len(topology_labels1.keys())):\n",
    "    N = slc_reco_df.query(\"TOP == \"+str(num)).shape[0]\n",
    "    Nc = slc_reco_df.query(\"TOP == \"+str(num)+\" and Cut == 1\").shape[0]\n",
    "\n",
    "    plt.errorbar([1], [(1.0*N - Nc)/N], xerr=[1], yerr=[0], c=topology_colors1[num], label=topology_labels1[num])\n",
    "\n",
    "plt.title(\"Is Clear Cosmic Cut\", fontsize=20)\n",
    "plt.ylabel(\"Efficiency\", fontsize=14)\n",
    "plt.ylim([0.4, 1.0])\n",
    "plt.legend(ncol=2)\n",
    "plt.show()"
   ]
  },
  {
   "cell_type": "code",
   "execution_count": null,
   "id": "1a74e8e7-d5f1-4eb1-b848-1bc47daadb85",
   "metadata": {},
   "outputs": [],
   "source": [
    "df_small_filtered = slc_reco_df[['run', 'subrun', 'evt', 'slc', 'Cut']]\n",
    "\n",
    "pfp_df = pfp_df.merge(df_small_filtered, on=['run', 'subrun', 'evt', 'slc'], how='left')\n",
    "shw_df1 = shw_df1.merge(df_small_filtered, on=['run', 'subrun', 'evt', 'slc'], how='left')\n",
    "trk_df1 = trk_df1.merge(df_small_filtered, on=['run', 'subrun', 'evt', 'slc'], how='left')\n",
    "particle_df1 = particle_df1.merge(df_small_filtered, on=['run', 'subrun', 'evt', 'slc'], how='left')\n",
    "daughter_df1 = daughter_df1.merge(df_small_filtered, on=['run', 'subrun', 'evt', 'slc'], how='left')\n",
    "slc_df[\"Cut\"] = slc_reco_df[\"Cut\"]\n",
    "slc_df[:2]"
   ]
  },
  {
   "cell_type": "code",
   "execution_count": null,
   "id": "6662ed8d-3c95-4e5a-a2f0-01ba25c505cc",
   "metadata": {},
   "outputs": [],
   "source": [
    "trk_df2[\"Cut\"] = trk_df1[\"Cut\"]\n",
    "shw_df2[\"Cut\"] = shw_df1[\"Cut\"]\n",
    "particle_df2[\"Cut\"] = particle_df1[\"Cut\"]\n",
    "daughter_df2[\"Cut\"] = daughter_df1[\"Cut\"]\n",
    "\n",
    "# Cut the Cosmics\n",
    "slc_reco_df = slc_reco_df.query(\"Cut == 0\")\n",
    "shw_df1 = shw_df1.query(\"Cut == 0\")\n",
    "shw_df2 = shw_df2.query(\"Cut == 0\")\n",
    "trk_df1 = trk_df1.query(\"Cut == 0\")\n",
    "trk_df2 = trk_df2.query(\"Cut == 0\")\n",
    "pfp_df = pfp_df.query(\"Cut == 0\")\n",
    "particle_df1 = particle_df1.query(\"Cut == 0\")\n",
    "particle_df2 = particle_df2.query(\"Cut == 0\")\n",
    "daughter_df1 = daughter_df1.query(\"Cut == 0\")\n",
    "daughter_df2 = daughter_df2.query(\"Cut == 0\")\n"
   ]
  },
  {
   "cell_type": "code",
   "execution_count": null,
   "id": "876d9b0e-e388-440f-a859-f9f2abca1dfa",
   "metadata": {},
   "outputs": [],
   "source": [
    "plot_selection_1D(slc_reco_df, \"npfp\", np.linspace(0.5, 18.5, 19), \"Counts\", log=1)"
   ]
  },
  {
   "cell_type": "code",
   "execution_count": null,
   "id": "acebf240-616e-4c76-8cb1-7ce363255eda",
   "metadata": {},
   "outputs": [],
   "source": [
    "plot_selection_1D(slc_reco_df, \"fmatch_time\", np.linspace(-10000, 0, 10), \"us\", sel=\"fmatch_time <= 0\", log=1)\n"
   ]
  },
  {
   "cell_type": "code",
   "execution_count": null,
   "id": "17dc656d-90dc-40d3-b18f-a5d623c73d9b",
   "metadata": {},
   "outputs": [],
   "source": [
    "plot_selection_1D(slc_reco_df, \"fmatch_score\", np.linspace(-20, 80, 100), \"us\", log=1)"
   ]
  },
  {
   "cell_type": "code",
   "execution_count": null,
   "id": "c6a259ed-38f9-43e7-be9b-e60c2b84201d",
   "metadata": {},
   "outputs": [],
   "source": [
    "pfp_df[:2]"
   ]
  },
  {
   "cell_type": "code",
   "execution_count": null,
   "id": "30c7d6af-3953-4369-9555-10f3397b02b4",
   "metadata": {},
   "outputs": [],
   "source": [
    "t = pfp_df.query(\"TOP != 17\")[\"t0\"].values\n",
    "print(t)\n",
    "\n",
    "plot_selection_1D(pfp_df, \"t0\", np.linspace(min(t), max(t), 100), \"us\", sel=\"TOP != 17\", log=0)"
   ]
  },
  {
   "cell_type": "code",
   "execution_count": null,
   "id": "102b1a36-ff91-4e47-beb0-209452decf42",
   "metadata": {},
   "outputs": [],
   "source": []
  }
 ],
 "metadata": {
  "kernelspec": {
   "display_name": "pyROOT_3.9_env",
   "language": "python",
   "name": "pyroot_3.9_env"
  },
  "language_info": {
   "codemirror_mode": {
    "name": "ipython",
    "version": 3
   },
   "file_extension": ".py",
   "mimetype": "text/x-python",
   "name": "python",
   "nbconvert_exporter": "python",
   "pygments_lexer": "ipython3",
   "version": "3.9.17"
  }
 },
 "nbformat": 4,
 "nbformat_minor": 5
}
