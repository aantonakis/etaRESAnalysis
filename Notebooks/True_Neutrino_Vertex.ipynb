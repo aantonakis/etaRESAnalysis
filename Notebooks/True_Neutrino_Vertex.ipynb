{
 "cells": [
  {
   "cell_type": "code",
   "execution_count": null,
   "id": "6c8a7237-e8ed-4cfc-9d4c-59df49eb7219",
   "metadata": {},
   "outputs": [],
   "source": [
    "import ROOT\n",
    "import numpy as np\n",
    "import os\n",
    "import matplotlib.pyplot as plt\n",
    "from mpl_toolkits.mplot3d import Axes3D\n",
    "from mpl_toolkits.mplot3d.art3d import Poly3DCollection\n",
    "import sys\n",
    "import multiprocessing as mp\n",
    "import uproot\n",
    "import pandas as pd\n",
    "import pickle\n",
    "import h5py\n",
    "import gzip\n",
    "import math\n",
    "import timeit\n",
    "\n",
    "\n",
    "#infile = \"../NTuples/test_truth.root\"\n",
    "#infile = \"../NTuples/small_tpceta_sample.root\"\n",
    "#infile = \"../NTuples/full_tpceta_sample.root\"\n",
    "#infile = \"../NTuples/production_sample_take1.root\"\n",
    "infile = \"../NTuples/production_sample_take1.root\""
   ]
  },
  {
   "cell_type": "code",
   "execution_count": null,
   "id": "09b26630-d152-416a-8a8c-8cda0e18a346",
   "metadata": {},
   "outputs": [],
   "source": [
    "inFile = uproot.open(infile)\n",
    "\n",
    "#h_tot_pot = ROOT.TFile.Open(infile).Get(\"TotalPOT\")\n",
    "#pot = h_tot_pot.GetBinContent(1)\n",
    "\n",
    "slc_tree = inFile[\"slc_tree\"]\n",
    "\n",
    "\n",
    "slc_df = slc_tree.arrays(slc_tree.keys(), library=\"pd\")\n",
    "\n",
    "\n",
    "slc_df[:2]"
   ]
  },
  {
   "cell_type": "code",
   "execution_count": null,
   "id": "bb602e5f-f7e9-4825-80fb-4fe75e98d4ae",
   "metadata": {},
   "outputs": [],
   "source": [
    "inFileROOT = ROOT.TFile.Open(infile, \"READ\")\n",
    "#h_tot_pot = inFileROOT.Get(\"TotalPOT\")\n",
    "h_tot_pot = inFileROOT.Get(\"TotalPOT\")\n",
    "TOT_POT = h_tot_pot.GetBinContent(1)\n",
    "inFileROOT.Close()\n",
    "TOT_POT = f\"{TOT_POT:.2e}\"\n",
    "print(\"Total POT\", TOT_POT)"
   ]
  },
  {
   "cell_type": "code",
   "execution_count": null,
   "id": "e0ffa5fa-66dd-4ec7-aca9-a9beeffe02d7",
   "metadata": {},
   "outputs": [],
   "source": [
    "Bxy = np.linspace(-800, 800, 30)\n",
    "\n",
    "plt.hist(slc_df.query(\"pdg != -1\")[\"vtx_x\"].values, bins=Bxy, histtype=\"step\", linewidth=2, label=\"X\")\n",
    "plt.hist(slc_df.query(\"pdg != -1\")[\"vtx_y\"].values, bins=Bxy, histtype=\"step\", linewidth=2, label=\"Y\")\n",
    "plt.xlabel(\"True Neutrino Vertex [cm]\")\n",
    "plt.ylabel(\"Counts/bin/\"+str(TOT_POT)+\" POT\")\n",
    "plt.yscale('log')\n",
    "ymax = plt.ylim()[1]\n",
    "plt.plot([-200, -200], [0, ymax], linestyle=\"--\", linewidth=2, color=\"red\", label=\"TPC Boundary\")\n",
    "plt.plot([200, 200], [0, ymax], linestyle=\"--\", linewidth=2, color=\"red\")\n",
    "plt.legend()\n",
    "plt.show()\n",
    "\n",
    "\n",
    "plt.hist(slc_df.query(\"pdg != -1\")[\"vtx_z\"].values, bins=20)\n",
    "plt.xlabel(\"True Neutrino Vertex Z [cm]\")\n",
    "plt.ylabel(\"Counts/bin/\"+str(TOT_POT)+\" POT\")\n",
    "plt.plot([0, 0], [0, plt.ylim()[1]], linestyle=\"--\", linewidth=2, color=\"red\", label=\"TPC Boundary\")\n",
    "plt.plot([500, 500], [0, plt.ylim()[1]], linestyle=\"--\", linewidth=2, color=\"red\")\n",
    "plt.yscale('log')\n",
    "plt.legend()\n",
    "plt.show()"
   ]
  },
  {
   "cell_type": "code",
   "execution_count": null,
   "id": "83e201bc-5e4d-4738-8c2c-18bd01e8d1f1",
   "metadata": {},
   "outputs": [],
   "source": []
  }
 ],
 "metadata": {
  "kernelspec": {
   "display_name": "pyROOT_3.9_env",
   "language": "python",
   "name": "pyroot_3.9_env"
  },
  "language_info": {
   "codemirror_mode": {
    "name": "ipython",
    "version": 3
   },
   "file_extension": ".py",
   "mimetype": "text/x-python",
   "name": "python",
   "nbconvert_exporter": "python",
   "pygments_lexer": "ipython3",
   "version": "3.9.17"
  }
 },
 "nbformat": 4,
 "nbformat_minor": 5
}
