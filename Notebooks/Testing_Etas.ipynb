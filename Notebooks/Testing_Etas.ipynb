{
 "cells": [
  {
   "cell_type": "code",
   "execution_count": null,
   "id": "7533e589-ecb7-4da2-a056-7a5487ae666c",
   "metadata": {},
   "outputs": [],
   "source": [
    "# Let's Look at characterizing the TPC Etas"
   ]
  },
  {
   "cell_type": "code",
   "execution_count": null,
   "id": "54758fd6-b94a-4c62-af9c-1d3a9963f2fe",
   "metadata": {},
   "outputs": [],
   "source": [
    "import ROOT\n",
    "import numpy as np\n",
    "import os\n",
    "import matplotlib.pyplot as plt\n",
    "from mpl_toolkits.mplot3d import Axes3D\n",
    "from mpl_toolkits.mplot3d.art3d import Poly3DCollection\n",
    "import sys\n",
    "import multiprocessing as mp\n",
    "import uproot\n",
    "import pandas as pd\n",
    "import pickle\n",
    "import h5py\n",
    "import gzip\n",
    "import math\n",
    "import timeit\n",
    "\n",
    "\n",
    "#infile = \"../NTuples/test_truth.root\"\n",
    "#infile = \"../NTuples/full_tpceta_sample.root\"\n",
    "\n",
    "# New Stuff\n",
    "#infile = \"../NTuples/tpcetanocosmic_full_sample_v2.root\"\n",
    "infile = \"../NTuples/eta_production_ntuple_test_nodirt.root\"\n",
    "#infile = \"../NTuples/production_ntuples_v2.root\""
   ]
  },
  {
   "cell_type": "code",
   "execution_count": null,
   "id": "335458ca-04ba-4235-b32f-f1392d454e41",
   "metadata": {},
   "outputs": [],
   "source": [
    "inFile = uproot.open(infile)\n",
    "\n",
    "inFileROOT = ROOT.TFile.Open(infile, \"READ\")\n",
    "#h_tot_pot = inFileROOT.Get(\"TotalPOT\")\n",
    "h_tot_pot = inFileROOT.Get(\"TOTPOT_Clone\")\n",
    "TOT_POT = h_tot_pot.GetBinContent(1)\n",
    "inFileROOT.Close()\n",
    "TOT_POT = f\"{TOT_POT:.2e}\"\n",
    "print(\"Total POT\", TOT_POT)\n",
    "\n",
    "#pot = h_tot_pot.\n",
    "#print(\"Total POT\", pot)\n",
    "\n",
    "#slc_tree = inFile[\"slc_truth_tree\"]\n",
    "slc_tree = inFile[\"slc_truth_tree\"]\n",
    "slc_reco_tree = inFile[\"slc_tree\"]\n",
    "particle_tree1 = inFile[\"particle_tree1\"]\n",
    "particle_tree2 = inFile[\"particle_tree2\"]\n",
    "shw_tree1 = inFile[\"shower_tree1\"]\n",
    "shw_tree2 = inFile[\"shower_tree2\"]\n",
    "trk_tree1 = inFile[\"track_tree1\"]\n",
    "trk_tree2 = inFile[\"track_tree2\"]\n",
    "\n",
    "\n",
    "slc_df = slc_tree.arrays(slc_tree.keys(), library=\"pd\")\n",
    "slc_reco_df = slc_reco_tree.arrays(slc_reco_tree.keys(), library=\"pd\")\n",
    "shw_df1 = shw_tree1.arrays(shw_tree1.keys(), library=\"pd\")\n",
    "shw_df2 = shw_tree2.arrays(shw_tree2.keys(), library=\"pd\")\n",
    "trk_df1 = trk_tree1.arrays(trk_tree1.keys(), library=\"pd\")\n",
    "trk_df2 = trk_tree2.arrays(trk_tree2.keys(), library=\"pd\")\n",
    "\n",
    "particle_df1 = particle_tree1.arrays(particle_tree1.keys(), library=\"pd\")\n",
    "particle_df2 = particle_tree2.arrays(particle_tree2.keys(), library=\"pd\")\n",
    "\n",
    "\n",
    "slc_df[:2]"
   ]
  },
  {
   "cell_type": "code",
   "execution_count": null,
   "id": "9f75e106-3d5e-434e-b46b-cc249a3aab37",
   "metadata": {},
   "outputs": [],
   "source": [
    "def isTPC(row):\n",
    "    if (-200 <= row[\"vtx_x\"] <= 200) and (-200 <= row[\"vtx_y\"] <= 200) and (0 <= row[\"vtx_z\"] <= 500):\n",
    "        return 1\n",
    "    else:\n",
    "        return 0\n",
    "\n",
    "slc_df[\"isTPC\"] = slc_df.apply(isTPC, axis=1)\n",
    "slc_df[:2]"
   ]
  },
  {
   "cell_type": "code",
   "execution_count": null,
   "id": "0b141f1d-9b31-478c-989c-998ecc53daaa",
   "metadata": {},
   "outputs": [],
   "source": [
    "def map_pdg_counts_to_slices(slc_df_t, other_df, pdg, new_col):\n",
    "    filtered = other_df[other_df['pdg'] == pdg]\n",
    "\n",
    "    # Step 2: Group by run and subrun and count occurrences\n",
    "    counts = filtered.groupby(['run', 'subrun', 'evt', 'slc']).size()\n",
    "\n",
    "    # Step 3: Map the counts to the smaller DataFrame\n",
    "    slc_df_t[new_col] = slc_df_t.set_index(['run', 'subrun', 'evt', 'slc']).index.map(counts).fillna(0).astype(int)\n",
    "\n",
    "\n",
    "map_pdg_counts_to_slices(slc_df, particle_df1, 111, \"npi0\")\n",
    "slc_df[:2]"
   ]
  },
  {
   "cell_type": "code",
   "execution_count": null,
   "id": "948fb518-7e22-4f9d-8f1d-9e339143d1ee",
   "metadata": {},
   "outputs": [],
   "source": [
    "map_pdg_counts_to_slices(slc_df, particle_df1, 221, \"neta\")\n",
    "map_pdg_counts_to_slices(slc_df, particle_df1, 22, \"ngamma\")\n",
    "map_pdg_counts_to_slices(slc_df, particle_df1, 13, \"nmuminus\")\n",
    "slc_df[:2]"
   ]
  },
  {
   "cell_type": "code",
   "execution_count": null,
   "id": "c6d3e404-ea9a-4540-ab56-d2df0d348cfc",
   "metadata": {},
   "outputs": [],
   "source": [
    "shw_df1[:2]"
   ]
  },
  {
   "cell_type": "code",
   "execution_count": null,
   "id": "a2dcad36-ea0f-4170-8508-831b70a2cd7f",
   "metadata": {},
   "outputs": [],
   "source": [
    "interaction_codes = {\n",
    "    0: \"QE\",\n",
    "    1: \"Resonant\",\n",
    "    2: \"DIS\",\n",
    "    3: \"Coherent\",\n",
    "    4: \"Coherent Elastic\",\n",
    "    5: \"Electron scatt.\",\n",
    "    6: \"IMDAnnihilation\",\n",
    "    7: r\"Inverse $\\beta$ decay\",\n",
    "    8: \"Glashow resonance\",\n",
    "    9: \"AMNuGamma\",\n",
    "    10: \"MEC\",\n",
    "    11: \"Diffractive\",\n",
    "    12: \"EM\",\n",
    "    13: \"Weak Mix\"\n",
    "}\n",
    "\n",
    "\n",
    "basic_topology_labels = {\n",
    "    0:r\"RES: $\\nu_{\\mu}\\eta$\",\n",
    "    1:r\"QE: $\\nu_{\\mu}\\eta$\",\n",
    "    2:r\"DIS: $\\nu_{\\mu}\\eta$\",\n",
    "    3:r\"MEC: $\\nu_{\\mu}\\eta$\",\n",
    "    4:r\"$\\bar{\\nu}_{\\mu}\\eta$\",\n",
    "    5:r\"$\\nu_{e}\\eta$\"+ \" or \"+ r\"$\\bar{\\nu}_{e}\\eta$\",\n",
    "    6:r\"$\\nu_{\\mu}\\eta \\rightarrow 0\\pi^{0}$\",\n",
    "    7:\"Other\"\n",
    "\n",
    "}\n",
    "\n",
    "basic_topology_selections = {\n",
    "    0:\"pdg == 14.0 and mode == 1.0 and neta > 0\",\n",
    "    1:\"pdg == 14.0 and mode == 0.0 and neta > 0\",\n",
    "    2:\"pdg == 14.0 and mode == 2.0 and neta > 0\",\n",
    "    3:\"pdg == 14.0 and mode == 10.0 and neta > 0\",\n",
    "    4:\"pdg == -14.0 and neta > 0\",\n",
    "    5:\"(pdg == 12.0 or pdg == -12.0) and neta > 0\",\n",
    "    6: \"pdg == 14.0 and mode == 1.0 and npi0 == 0 and neta > 0\", \n",
    "    7: \"!(pdg == 14.0 and mode == 1.0 and npi0 == 0 and neta > 0)\"\n",
    "}\n",
    "\n",
    "\n",
    "# differentiate between a few interesting eta topologies\n",
    "topology_labels1 = {\n",
    "\n",
    "    0:r\"RES: $\\nu_{\\mu}CC\\eta \\rightarrow 0\\pi^{0}$\",\n",
    "    1:r\"RES: $\\nu_{\\mu}CC\\eta \\rightarrow 1\\pi^{0}$\",\n",
    "    2:r\"RES: $\\nu_{\\mu}CC\\eta \\rightarrow 2\\pi^{0}$\",\n",
    "    3:r\"RES: $\\nu_{\\mu}CC\\eta \\rightarrow 3\\pi^{0}$\",\n",
    "    \n",
    "    4:r\"RES: $\\nu_{\\mu}NC\\eta \\rightarrow 0\\pi^{0}$\",\n",
    "    5:r\"RES: $\\nu_{\\mu}NC\\eta \\rightarrow 1\\pi^{0}$\",\n",
    "    6:r\"RES: $\\nu_{\\mu}NC\\eta \\rightarrow 2\\pi^{0}$\",\n",
    "    7:r\"RES: $\\nu_{\\mu}NC\\eta \\rightarrow 3\\pi^{0}$\",\n",
    "\n",
    "    8:r\"Not RES: $\\nu_{\\mu}\\eta$\",\n",
    "    9:r\"$\\bar{\\nu}_{\\mu}\\eta$\",\n",
    "    10:r\"$\\nu_{e}\\eta$\"+ \" or \"+ r\"$\\bar{\\nu}_{e}\\eta$\",\n",
    "    11:r\"$\\nu_{\\mu}$ CC $1\\pi^{0}$\",\n",
    "    12:r\"$\\nu_{\\mu}$ NC $1\\pi^{0}$\",\n",
    "    13:r\"$\\nu_{\\mu}$ CC Other\",\n",
    "    14:r\"$\\nu_{\\mu}$ NC Other\",\n",
    "    15:r\"$\\nu$ Other\",\n",
    "    16:r\"Dirt $\\nu$\",\n",
    "    17:\"Cosmic\",\n",
    "    18:r\"RES $\\nu_{\\mu}\\eta \\rightarrow > 3\\pi^{0}$\"\n",
    "       \n",
    "}\n",
    "\n",
    "topology_selections1 = {\n",
    "    \n",
    "    0:\"pdg == 14.0 and mode == 1.0 and iscc == 1.0 and neta > 0 and npi0 == 0 and isTPC == 1\",\n",
    "    1:\"pdg == 14.0 and mode == 1.0 and iscc == 1.0 and neta > 0 and npi0 == 1 and isTPC == 1\",\n",
    "    2:\"pdg == 14.0 and mode == 1.0 and iscc == 1.0 and neta > 0 and npi0 == 2 and isTPC == 1\",\n",
    "    3:\"pdg == 14.0 and mode == 1.0 and iscc == 1.0 and neta > 0 and npi0 == 3 and isTPC == 1\",\n",
    "    \n",
    "    4:\"pdg == 14.0 and mode == 1.0 and isnc == 1.0 and neta > 0 and npi0 == 0 and isTPC == 1\",\n",
    "    5:\"pdg == 14.0 and mode == 1.0 and isnc == 1.0 and neta > 0 and npi0 == 1 and isTPC == 1\",\n",
    "    6:\"pdg == 14.0 and mode == 1.0 and isnc == 1.0 and neta > 0 and npi0 == 2 and isTPC == 1\",\n",
    "    7:\"pdg == 14.0 and mode == 1.0 and isnc == 1.0 and neta > 0 and npi0 == 3 and isTPC == 1\",\n",
    "\n",
    "    8:\"pdg == 14.0 and mode != 1.0 and neta > 0 and isTPC == 1\",\n",
    "    9:\"pdg == -14.0 and neta > 0\",\n",
    "    10:\"(pdg == 12.0 or pdg == -12.0) and neta > 0\",\n",
    "    11:\"pdg == 14.0 and iscc == 1.0 and neta == 0 and npi0 == 1 and isTPC == 1\",\n",
    "    12:\"pdg == 14.0 and isnc == 1.0 and neta == 0 and npi0 == 1 and isTPC == 1\",\n",
    "    13:\"pdg == 14.0 and iscc == 1.0 and neta == 0 and npi0 != 1 and isTPC == 1\",\n",
    "    14:\"pdg == 14.0 and isnc == 1.0 and neta == 0 and npi0 != 1 and isTPC == 1\",\n",
    "    15:\"(pdg == 12 or pdg == -12 or pdg == -14) and neta == 0 and isTPC == 1\",\n",
    "    16:\"(pdg == 14 or pdg == -14 or pdg == 12 or pdg == -12) and isTPC == 0\",\n",
    "    17:\"pdg == -1\",\n",
    "    #18:\"(pdg != 14 and pdg != -14 and pdg != 12 and pdg != -12 and pdg != -1)\"\n",
    "    18:\"pdg == 14 and mode == 1.0 and neta > 0 and npi0 > 3 and isTPC == 1\"\n",
    "    \n",
    "}\n",
    "\n",
    "topology_colors1 = {\n",
    "    0:\"magenta\", \n",
    "    1:\"purple\",\n",
    "    2:\"violet\",\n",
    "    3:\"deeppink\",\n",
    "    4:\"blue\",\n",
    "    5:\"navy\",\n",
    "    6:\"royalblue\",\n",
    "    7:\"lavender\",\n",
    "    8:\"indigo\",\n",
    "    9:\"green\",\n",
    "    10:\"lime\",\n",
    "    11:\"cyan\",\n",
    "    12:\"aquamarine\",\n",
    "    13:\"red\",\n",
    "    14:\"maroon\",\n",
    "    15:\"orange\",\n",
    "    16:\"coral\",\n",
    "    17:\"gray\",\n",
    "    18:\"red\"\n",
    "}\n",
    "\n"
   ]
  },
  {
   "cell_type": "code",
   "execution_count": null,
   "id": "6209b774-96c0-4b81-8e3b-96a40c5d44e9",
   "metadata": {},
   "outputs": [],
   "source": [
    "for num in range(len(topology_selections1.keys())):\n",
    "    #temp = slc_df.query(topology_selections[num])\n",
    "    condition = slc_df.index.isin(slc_df.query(topology_selections1[num]).index)\n",
    "    slc_df.loc[condition, \"TOP\"] = num\n",
    "\n",
    "slc_reco_df[\"TOP\"] = slc_df[\"TOP\"]\n",
    "slc_reco_df[:2]"
   ]
  },
  {
   "cell_type": "code",
   "execution_count": null,
   "id": "94da7567-f3c4-42e0-bab5-948c8e9b8003",
   "metadata": {},
   "outputs": [],
   "source": [
    "df_small_filtered = slc_df[['run', 'subrun', 'evt', 'slc', 'TOP']]\n",
    "shw_df1 = shw_df1.merge(df_small_filtered, on=['run', 'subrun', 'evt', 'slc'], how='left')\n",
    "trk_df1 = trk_df1.merge(df_small_filtered, on=['run', 'subrun', 'evt', 'slc'], how='left')\n",
    "\n",
    "shw_df1[:2]"
   ]
  },
  {
   "cell_type": "code",
   "execution_count": null,
   "id": "b4bc0c9d-b10b-443d-8f38-e210fa3c11e6",
   "metadata": {},
   "outputs": [],
   "source": [
    "shw_df2[\"TOP\"] = shw_df1[\"TOP\"]\n",
    "trk_df2[\"TOP\"] = trk_df1[\"TOP\"]"
   ]
  },
  {
   "cell_type": "code",
   "execution_count": null,
   "id": "5a9d462f-9e06-4609-9e48-fc996d36b926",
   "metadata": {},
   "outputs": [],
   "source": [
    "def plot_selection_1D(df, variable, B, units, sel=None, log=0, rangex=None, rangey=None):\n",
    "    new_df = df.copy()\n",
    "    if sel != None:\n",
    "        new_df = new_df.query(sel)\n",
    "    \n",
    "    all_counts = []\n",
    "    #all_norms = []\n",
    "\n",
    "    counts_all, bin_edges_all, _ = plt.hist(new_df[variable].values, bins=B)\n",
    "    # Plot the scaled histogram using plt.bar\n",
    "    bin_centers = (bin_edges_all[:-1] + bin_edges_all[1:]) / 2  # calculate bin centers\n",
    "    bin_width = bin_edges_all[1] - bin_edges_all[0]  # calculate bin width\n",
    "\n",
    "    for num in range(len(topology_selections1.keys())):\n",
    "        temp = new_df.query(\"TOP == \"+str(num))\n",
    "        counts, bin_edges, _ = plt.hist(temp[variable].values, bins=B)\n",
    "        all_counts.append(counts)\n",
    "        #all_norms.append(temp.shape[0])\n",
    "\n",
    "    # clear the plot\n",
    "    plt.clf()\n",
    "\n",
    "    N_prev = np.zeros_like(bin_centers)\n",
    "    for num in range(len(topology_selections1.keys())):\n",
    "        h = \"\"\n",
    "        if num % 2 != 0:\n",
    "            h=\"//\"\n",
    "        \n",
    "        plt.bar(bin_centers, all_counts[num], width=bin_width, \n",
    "                bottom=N_prev, color=topology_colors1[num], alpha=0.6, hatch=h, label=topology_labels1[num])\n",
    "        N_prev += all_counts[num]\n",
    "    \n",
    "\n",
    "    #plt.xlabel(\"True Number of Primary Gammas\", fontsize=14)\n",
    "    if sel != None:\n",
    "        plt.xlabel(variable + \" (\"+sel+\") [\"+units+\"]\", fontsize=14)\n",
    "    else:\n",
    "        plt.xlabel(variable + \" [\"+units+\"]\", fontsize=14)\n",
    "        \n",
    "    plt.ylabel(\"Counts/bin/\"+str(TOT_POT)+\" POT\", fontsize=14)\n",
    "    plt.errorbar(bin_centers, counts_all, yerr=np.sqrt(counts_all), c=\"black\", fmt=\"o\", label=\"All\")\n",
    "    if rangex != None:\n",
    "        plt.xlim(rangex)\n",
    "        \n",
    "    if rangey != None:\n",
    "        plt.ylim(rangey)\n",
    "    \n",
    "    # Display the plot\n",
    "    plt.legend(bbox_to_anchor=(1.05, 0.5), loc='center left', ncols=2)\n",
    "    if log:\n",
    "        plt.yscale(\"log\")\n",
    "    plt.show()"
   ]
  },
  {
   "cell_type": "code",
   "execution_count": null,
   "id": "a1ba268b-a02e-4c24-9a96-4c005ab2db2e",
   "metadata": {},
   "outputs": [],
   "source": [
    "plot_selection_1D(shw_df1, \"trackScore\", np.linspace(-1, 2, 7), \"Arbitrary\", log=1)"
   ]
  },
  {
   "cell_type": "code",
   "execution_count": null,
   "id": "6fc9f332-6d2c-4759-9f2e-b7a31315c4c6",
   "metadata": {},
   "outputs": [],
   "source": [
    "# Step 2: Group by run and subrun and count occurrences\n",
    "counts = shw_df1.groupby(['run', 'subrun', 'evt', 'slc']).size()\n",
    "\n",
    "slc_reco_df[\"npfp\"] = slc_reco_df.set_index(['run', 'subrun', 'evt', 'slc']).index.map(counts).fillna(0).astype(int)\n",
    "slc_reco_df[:2]"
   ]
  },
  {
   "cell_type": "code",
   "execution_count": null,
   "id": "255b518c-7ae1-4fbe-8b4e-b19a9459fc7e",
   "metadata": {},
   "outputs": [],
   "source": [
    "plot_selection_1D(slc_reco_df, \"npfp\", np.linspace(-0.5, 11.5, 13), \"Counts\", log=0)"
   ]
  },
  {
   "cell_type": "code",
   "execution_count": null,
   "id": "ce64547a-b4f3-4572-acde-5c2e5c02728e",
   "metadata": {},
   "outputs": [],
   "source": [
    "plot_selection_1D(slc_df, \"ngamma\", np.linspace(-0.5, 5.5, 7), \"Counts\", log=0)"
   ]
  },
  {
   "cell_type": "code",
   "execution_count": null,
   "id": "94257544-b26e-4471-80fa-b275477d5ab4",
   "metadata": {},
   "outputs": [],
   "source": [
    "map_pdg_counts_to_slices(slc_df, particle_df1, 2212, \"nproton\")\n",
    "map_pdg_counts_to_slices(slc_df, particle_df1, 2112, \"nneutron\")"
   ]
  },
  {
   "cell_type": "code",
   "execution_count": null,
   "id": "7a2068b7-66e7-4dd3-959b-939258b498c7",
   "metadata": {},
   "outputs": [],
   "source": [
    "plot_selection_1D(slc_df, \"nproton\", np.linspace(-0.5, 5.5, 7), \"Counts\", log=0)"
   ]
  },
  {
   "cell_type": "code",
   "execution_count": null,
   "id": "de9f167b-70f9-465b-9a5e-a45c1413ba43",
   "metadata": {},
   "outputs": [],
   "source": [
    "plot_selection_1D(slc_df, \"nneutron\", np.linspace(-0.5, 5.5, 7), \"Counts\", log=0)"
   ]
  },
  {
   "cell_type": "code",
   "execution_count": null,
   "id": "1d305e61-a00a-4456-83d7-59d33213ab33",
   "metadata": {},
   "outputs": [],
   "source": [
    "plot_selection_1D(slc_df, \"nmuminus\", np.linspace(-0.5, 7.5, 9), \"Counts\", log=0)"
   ]
  },
  {
   "cell_type": "code",
   "execution_count": null,
   "id": "921062bc-3ac0-42d4-a24f-48ed3e52296e",
   "metadata": {},
   "outputs": [],
   "source": [
    "plot_selection_1D(slc_df, \"neta\", np.linspace(-0.5, 5.5, 7), \"Counts\", log=0)"
   ]
  },
  {
   "cell_type": "code",
   "execution_count": null,
   "id": "cece4cc7-f67a-4bd9-9ef9-1d9fc1baa415",
   "metadata": {},
   "outputs": [],
   "source": [
    "def map_eta_energy_to_slices(slc_df_t, other_df, new_col):\n",
    "    filtered = other_df[other_df['pdg'] == 221]\n",
    "\n",
    "    # Step 2: Group by run and subrun and count occurrences\n",
    "    counts = filtered.groupby(['run', 'subrun', 'evt', 'slc'])[\"genE\"].mean()\n",
    "\n",
    "    # Step 3: Map the counts to the smaller DataFrame\n",
    "    slc_df_t[new_col] = slc_df_t.set_index(['run', 'subrun', 'evt', 'slc']).index.map(counts).fillna(0).astype(float)\n",
    "\n",
    "map_eta_energy_to_slices(slc_df, particle_df1, \"etaE\")\n",
    "slc_df[:2]\n",
    "#plot_selection_1D(particle_df1, \"genE\", np.linspace(-0.5, 5.5, 7), \"Counts\", sel=\"pdg == 221\", log=0)"
   ]
  },
  {
   "cell_type": "code",
   "execution_count": null,
   "id": "3b9a2d1c-f26f-406e-9d58-a6b4659f2dcf",
   "metadata": {},
   "outputs": [],
   "source": [
    "plot_selection_1D(slc_df, \"etaE\", np.linspace(0, 2.5, 30), \"GeV\", log=0)"
   ]
  },
  {
   "cell_type": "code",
   "execution_count": null,
   "id": "8dc130a2-78f1-453c-b194-ea2b6ce6c618",
   "metadata": {},
   "outputs": [],
   "source": [
    "def get_nshowers(slc_df_t, shw_df_t, score, new_col):\n",
    "    filtered = shw_df_t[shw_df_t['trackScore'] <= score]\n",
    "\n",
    "    # Step 2: Group by run and subrun and count occurrences\n",
    "    counts = filtered.groupby(['run', 'subrun', 'evt', 'slc']).size()\n",
    "\n",
    "    # Step 3: Map the counts to the smaller DataFrame\n",
    "    slc_df_t[new_col] = slc_df_t.set_index(['run', 'subrun', 'evt', 'slc']).index.map(counts).fillna(0).astype(int)\n",
    "\n",
    "\n",
    "get_nshowers(slc_reco_df, shw_df1, 0.0, \"nshowers\")\n",
    "slc_reco_df[:2]\n"
   ]
  },
  {
   "cell_type": "code",
   "execution_count": null,
   "id": "8a722679-6227-4294-901a-7f9954aab5a4",
   "metadata": {},
   "outputs": [],
   "source": [
    "slc_reco_df[\"inTPC\"] = slc_reco_df.apply(isTPC, axis=1)\n",
    "slc_reco_df[:2]"
   ]
  },
  {
   "cell_type": "code",
   "execution_count": null,
   "id": "95dce0dd-478b-4c8e-bddd-5f29702116a0",
   "metadata": {},
   "outputs": [],
   "source": [
    "plot_selection_1D(slc_reco_df, \"nshowers\", np.linspace(-0.5, 7.5, 9), \"Counts\", sel=\"inTPC == 1\", log=0)"
   ]
  },
  {
   "cell_type": "code",
   "execution_count": null,
   "id": "87cd4024-1ab1-49bf-96e1-5966fc4149f7",
   "metadata": {},
   "outputs": [],
   "source": [
    "plot_selection_1D(slc_reco_df, \"nshowers\", np.linspace(-0.5, 7.5, 9), \"Counts\", sel=\"inTPC == 1\", log=0)"
   ]
  },
  {
   "cell_type": "code",
   "execution_count": null,
   "id": "19585ee4-241f-40ac-91cc-39bd4193ddbf",
   "metadata": {},
   "outputs": [],
   "source": [
    "def get_nshowers_extra(slc_df_t, shw_df_t, score, cut, new_col):\n",
    "    filtered = shw_df_t.query(cut)[shw_df_t.query(cut)['trackScore'] <= score]\n",
    "\n",
    "    # Step 2: Group by run and subrun and count occurrences\n",
    "    counts = filtered.groupby(['run', 'subrun', 'evt', 'slc']).size()\n",
    "\n",
    "    # Step 3: Map the counts to the smaller DataFrame\n",
    "    slc_df_t[new_col] = slc_df_t.set_index(['run', 'subrun', 'evt', 'slc']).index.map(counts).fillna(0).astype(int)\n",
    "\n",
    "get_nshowers_extra(slc_reco_df, shw_df1, 0.0, \"bestplane_energy > 0.02\", \"nshowersEcut\")\n",
    "slc_reco_df[:2]"
   ]
  },
  {
   "cell_type": "code",
   "execution_count": null,
   "id": "55c3737e-7af8-4cb5-be62-f8223434ed25",
   "metadata": {},
   "outputs": [],
   "source": [
    "plot_selection_1D(slc_reco_df, \"nshowersEcut\", np.linspace(-0.5, 7.5, 9), \"Counts\", sel=\"inTPC == 1\", log=0)"
   ]
  },
  {
   "cell_type": "code",
   "execution_count": null,
   "id": "b21318e8-8a5f-4171-8a8f-a1d7eee1df12",
   "metadata": {},
   "outputs": [],
   "source": [
    "def get_purity(df, top):\n",
    "    N_top = df.query(\"TOP == \"+str(top)).shape[0]\n",
    "    N_tot = df.shape[0]\n",
    "    r = (1.0*N_top)/N_tot\n",
    "    return r\n",
    "\n",
    "print(\"Top 0 Purity\", get_purity(slc_df, 0))\n"
   ]
  },
  {
   "cell_type": "code",
   "execution_count": null,
   "id": "44cf877a-ad1f-4224-a958-a414feb51060",
   "metadata": {},
   "outputs": [],
   "source": []
  }
 ],
 "metadata": {
  "kernelspec": {
   "display_name": "pyROOT_3.9_env",
   "language": "python",
   "name": "pyroot_3.9_env"
  },
  "language_info": {
   "codemirror_mode": {
    "name": "ipython",
    "version": 3
   },
   "file_extension": ".py",
   "mimetype": "text/x-python",
   "name": "python",
   "nbconvert_exporter": "python",
   "pygments_lexer": "ipython3",
   "version": "3.9.17"
  }
 },
 "nbformat": 4,
 "nbformat_minor": 5
}
