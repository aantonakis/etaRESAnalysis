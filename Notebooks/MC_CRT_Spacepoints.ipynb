{
 "cells": [
  {
   "cell_type": "code",
   "execution_count": null,
   "id": "b21f6424-883f-4bf6-8d58-5659545d50f9",
   "metadata": {},
   "outputs": [],
   "source": [
    "# Look at the CRT spacepoints"
   ]
  },
  {
   "cell_type": "code",
   "execution_count": null,
   "id": "1f6aebce-6b97-4c57-b416-e6f304acd7dc",
   "metadata": {},
   "outputs": [],
   "source": [
    "import ROOT\n",
    "import numpy as np\n",
    "import os\n",
    "import matplotlib.pyplot as plt\n",
    "from mpl_toolkits.mplot3d import Axes3D\n",
    "from mpl_toolkits.mplot3d.art3d import Poly3DCollection\n",
    "import sys\n",
    "import multiprocessing as mp\n",
    "import uproot\n",
    "import pandas as pd\n",
    "import pickle\n",
    "import h5py\n",
    "import gzip\n",
    "import math\n",
    "import timeit\n",
    "\n",
    "# First attempt\n",
    "#infile = \"../NTuples/eta_production_ntuple_test_nodirt.root\"\n",
    "\n",
    "# Latest Eta Production\n",
    "#infile = \"../NTuples/eta_production_nodirt_ntuple_batch1.root\"\n",
    "\n",
    "# MC CV Sample --> Low Stats\n",
    "#infile = \"../NTuples/mc_production_with_fmatch_ntuple.root\"\n",
    "\n",
    "#MC CV Sample --> High Stats\n",
    "#infile = \"../NTuples/mc_production_with_fmatch_ntuple_more_stats.root\"\n",
    "#infile = \"../NTuples/mc_production_with_fmatch_ntuple_more_stats_v2.root\"\n",
    "\n",
    "infile = \"../NTuples/mc_production_crt_ntuple_v1.root\""
   ]
  },
  {
   "cell_type": "code",
   "execution_count": null,
   "id": "2cabe56f-4b30-43e6-a359-9d06c5f1f432",
   "metadata": {},
   "outputs": [],
   "source": [
    "inFile = uproot.open(infile)\n",
    "\n",
    "inFileROOT = ROOT.TFile.Open(infile, \"READ\")\n",
    "#h_tot_pot = inFileROOT.Get(\"TotalPOT\")\n",
    "h_tot_pot = inFileROOT.Get(\"TOTPOT_Clone\")\n",
    "TOT_POT = h_tot_pot.GetBinContent(1)\n",
    "inFileROOT.Close()\n",
    "TOT_POT = f\"{TOT_POT:.2e}\"\n",
    "print(\"Total POT\", TOT_POT)\n",
    "\n",
    "\n",
    "crt_tree = inFile[\"crt_tree\"]\n",
    "\n",
    "crt_df = crt_tree.arrays(crt_tree.keys(), library=\"pd\")\n",
    "crt_df[:2]"
   ]
  },
  {
   "cell_type": "code",
   "execution_count": null,
   "id": "19124bc5-e91b-436a-8e1b-28c491611283",
   "metadata": {},
   "outputs": [],
   "source": [
    "plt.hist(crt_df[\"x\"].values, bins=100, histtype=\"step\")\n",
    "plt.xlabel(\"CRT Spacepoint X [cm]\", fontsize=14)\n",
    "plt.ylabel(\"Counts/bin/\"+str(TOT_POT)+\" POT\", fontsize=14)\n",
    "plt.yscale(\"log\")\n",
    "plt.title(\"SBND CV MC: BNB + DIRT + COSMICS\", fontsize=20)\n",
    "plt.show()"
   ]
  },
  {
   "cell_type": "code",
   "execution_count": null,
   "id": "1a53b66c-e3e3-479a-8568-b9295c6e9cc6",
   "metadata": {},
   "outputs": [],
   "source": [
    "plt.hist(crt_df[\"y\"].values, bins=100, histtype=\"step\")\n",
    "plt.xlabel(\"CRT Spacepoint Y [cm]\", fontsize=14)\n",
    "plt.ylabel(\"Counts/bin/\"+str(TOT_POT)+\" POT\", fontsize=14)\n",
    "plt.yscale(\"log\")\n",
    "plt.title(\"SBND CV MC: BNB + DIRT + COSMICS\", fontsize=20)\n",
    "plt.show()"
   ]
  },
  {
   "cell_type": "code",
   "execution_count": null,
   "id": "c4fc504a-338a-41c4-86f9-35ecc079770f",
   "metadata": {},
   "outputs": [],
   "source": [
    "plt.hist(crt_df[\"z\"].values, bins=100, histtype=\"step\")\n",
    "plt.xlabel(\"CRT Spacepoint Z [cm]\", fontsize=14)\n",
    "plt.ylabel(\"Counts/bin/\"+str(TOT_POT)+\" POT\", fontsize=14)\n",
    "plt.yscale(\"log\")\n",
    "plt.title(\"SBND CV MC: BNB + DIRT + COSMICS\", fontsize=20)\n",
    "plt.show()"
   ]
  },
  {
   "cell_type": "code",
   "execution_count": null,
   "id": "fe314ab5-2334-41c3-b02e-550e55760f8e",
   "metadata": {},
   "outputs": [],
   "source": [
    "# Load the CRT histograms and make some geometry\n",
    "WEST_X = 383\n",
    "EAST_X = -383\n",
    "SOUTH_Z = -179.05 \n",
    "NORTH_Z = 779.85\n",
    "FLAT_Y = -378.8\n",
    "TOPLOW_Y = 632\n",
    "TOPHIGH_Y = 767"
   ]
  },
  {
   "cell_type": "code",
   "execution_count": null,
   "id": "c1e21cc9-60e1-48eb-a28d-dabe0ec3bae6",
   "metadata": {},
   "outputs": [],
   "source": [
    "plt.hist(crt_df.query(\"@SOUTH_Z - 10 <= z <= @NORTH_Z + 10\")[\"z\"].values, bins=100, histtype=\"step\")\n",
    "plt.xlabel(\"CRT Spacepoint Z [cm]\", fontsize=14)\n",
    "plt.ylabel(\"Counts/bin/\"+str(TOT_POT)+\" POT\", fontsize=14)\n",
    "plt.yscale(\"log\")\n",
    "plt.title(\"SBND CV MC: BNB + DIRT + COSMICS\", fontsize=20)\n",
    "plt.show()"
   ]
  },
  {
   "cell_type": "code",
   "execution_count": null,
   "id": "d0137c46-de14-40bd-a074-40393c3b0e69",
   "metadata": {},
   "outputs": [],
   "source": [
    "\n",
    "d = crt_df.query(\"@FLAT_Y - 10 <= y <= @TOPHIGH_Y + 10\")[\"y\"].values\n",
    "\n",
    "plt.hist(d, bins=100, histtype=\"step\", linewidth=2, label=\"MC\")\n",
    "plt.xlabel(\"CRT Spacepoint Y [cm]\", fontsize=14)\n",
    "plt.ylabel(\"Counts/bin/\"+str(TOT_POT)+\" POT\", fontsize=14)\n",
    "plt.plot([TOPHIGH_Y, TOPHIGH_Y], [0.00001, 5*10**6], c=\"r\", linestyle=\"--\", linewidth=2, label=\"TOPHIGH Data\")\n",
    "plt.plot([TOPLOW_Y, TOPLOW_Y], [0.00001, 5*10**6], c=\"g\", linestyle=\"--\", linewidth=2, label=\"TOPLOW Data\")\n",
    "plt.plot([FLAT_Y, FLAT_Y], [0.00001, 5*10**6], c=\"orange\", linestyle=\"--\", linewidth=2, label=\"Bottom Data\")\n",
    "plt.yscale(\"log\")\n",
    "plt.title(\"SBND CV MC: BNB + DIRT + COSMICS\", fontsize=20)\n",
    "plt.legend()\n",
    "plt.show()"
   ]
  },
  {
   "cell_type": "code",
   "execution_count": null,
   "id": "d3ad26b8-0111-42bc-9a59-19acbab8425c",
   "metadata": {},
   "outputs": [],
   "source": []
  },
  {
   "cell_type": "code",
   "execution_count": null,
   "id": "a881060e-2066-47ea-8c50-1e4451a67e39",
   "metadata": {},
   "outputs": [],
   "source": [
    "plt.title(\"True Interactions\", fontsize=20)\n",
    "cmap = plt.colormaps['rainbow'].copy()  # Copy the colormap to modify it\n",
    "cmap.set_under(color='white')  \n",
    "hist = plt.hist2d(x, y, bins=50, density=False, cmap=cmap, vmin=0.001)\n",
    "plt.scatter([], [], color='white', label=topology_labels1[11] + \" or \" + topology_labels1[12])\n",
    "\n",
    "plt.plot(costheta_values, ypi0_c, c=\"b\", label=r\"$\\pi^{0}$ Peak Mass\")\n",
    "plt.colorbar(hist[3], label='Counts')\n",
    "#plt.yscale(\"log\")\n",
    "plt.xlabel(r\"cos$\\theta$\", fontsize=14)\n",
    "plt.ylabel(r\"$E_{1}E_{2} [MeV^2]$\", fontsize=14)\n",
    "plt.legend(loc =\"upper left\", frameon=False)\n",
    "plt.show()"
   ]
  }
 ],
 "metadata": {
  "kernelspec": {
   "display_name": "pyROOT_3.9_env",
   "language": "python",
   "name": "pyroot_3.9_env"
  },
  "language_info": {
   "codemirror_mode": {
    "name": "ipython",
    "version": 3
   },
   "file_extension": ".py",
   "mimetype": "text/x-python",
   "name": "python",
   "nbconvert_exporter": "python",
   "pygments_lexer": "ipython3",
   "version": "3.9.17"
  }
 },
 "nbformat": 4,
 "nbformat_minor": 5
}
